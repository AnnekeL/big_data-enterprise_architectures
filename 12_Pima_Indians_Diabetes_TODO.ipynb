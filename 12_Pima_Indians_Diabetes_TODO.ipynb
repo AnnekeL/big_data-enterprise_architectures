{
  "nbformat": 4,
  "nbformat_minor": 0,
  "metadata": {
    "colab": {
      "name": "12_Pima_Indians_Diabetes_TODO.ipynb",
      "version": "0.3.2",
      "provenance": [],
      "collapsed_sections": []
    },
    "language_info": {
      "codemirror_mode": {
        "name": "ipython",
        "version": 3
      },
      "file_extension": ".py",
      "mimetype": "text/x-python",
      "name": "python",
      "nbconvert_exporter": "python",
      "pygments_lexer": "ipython3",
      "version": "3.6.1"
    },
    "kernelspec": {
      "display_name": "Python 3",
      "language": "python",
      "name": "python3"
    }
  },
  "cells": [
    {
      "cell_type": "markdown",
      "metadata": {
        "id": "LiEMtyh-YO8X",
        "colab_type": "text"
      },
      "source": [
        "# Data \n",
        "\n",
        "The Pima Indians dataset is about the prediction of diabetes . This is a small dataset available from the UCI Machine Learning Repository. https://archive.ics.uci.edu/ml/datasets/Pima+Indians+Diabetes\n",
        "\n",
        "**Attribute Information:**\n",
        "\n",
        "1. Number of times pregnant\n",
        "2. Plasma glucose concentration a 2 hours in an oral glucose tolerance test\n",
        "3. Diastolic blood pressure (mm Hg)\n",
        "4. Triceps skin fold thickness (mm)\n",
        "5. 2-Hour serum insulin (mu U/ml)\n",
        "6. Body mass index (weight in kg/(height in m)^2)\n",
        "7. Diabetes pedigree function\n",
        "8. Age (years)\n",
        "9. Class variable (0 or 1) (diabetes mellitus)"
      ]
    },
    {
      "cell_type": "code",
      "metadata": {
        "id": "fgbTIroIYO8o",
        "colab_type": "code",
        "colab": {
          "base_uri": "https://localhost:8080/",
          "height": 239
        },
        "outputId": "4177b529-3aac-4613-cff9-c95b1146f6df"
      },
      "source": [
        "# Download the data\n",
        "! wget -O pima-indians-diabetes.csv https://gist.githubusercontent.com/ktisha/c21e73a1bd1700294ef790c56c8aec1f/raw/819b69b5736821ccee93d05b51de0510bea00294/pima-indians-diabetes.csv"
      ],
      "execution_count": 1,
      "outputs": [
        {
          "output_type": "stream",
          "text": [
            "--2019-06-10 17:13:35--  https://gist.githubusercontent.com/ktisha/c21e73a1bd1700294ef790c56c8aec1f/raw/819b69b5736821ccee93d05b51de0510bea00294/pima-indians-diabetes.csv\n",
            "Resolving gist.githubusercontent.com (gist.githubusercontent.com)... 151.101.0.133, 151.101.64.133, 151.101.128.133, ...\n",
            "Connecting to gist.githubusercontent.com (gist.githubusercontent.com)|151.101.0.133|:443... connected.\n",
            "HTTP request sent, awaiting response... 200 OK\n",
            "Length: 23628 (23K) [text/plain]\n",
            "Saving to: ‘pima-indians-diabetes.csv’\n",
            "\n",
            "\r          pima-indi   0%[                    ]       0  --.-KB/s               \rpima-indians-diabet 100%[===================>]  23.07K  --.-KB/s    in 0.01s   \n",
            "\n",
            "2019-06-10 17:13:36 (1.84 MB/s) - ‘pima-indians-diabetes.csv’ saved [23628/23628]\n",
            "\n"
          ],
          "name": "stdout"
        }
      ]
    },
    {
      "cell_type": "code",
      "metadata": {
        "id": "o35hD97XYO9R",
        "colab_type": "code",
        "colab": {
          "base_uri": "https://localhost:8080/",
          "height": 72
        },
        "outputId": "1368d638-e6ee-48c9-e221-a608adc0603b"
      },
      "source": [
        "# check if the data is downloaded\n",
        "%ls -l"
      ],
      "execution_count": 2,
      "outputs": [
        {
          "output_type": "stream",
          "text": [
            "total 28\n",
            "-rw-r--r-- 1 root root 23628 Jun 10 17:13 pima-indians-diabetes.csv\n",
            "drwxr-xr-x 1 root root  4096 May 31 16:17 \u001b[0m\u001b[01;34msample_data\u001b[0m/\n"
          ],
          "name": "stdout"
        }
      ]
    },
    {
      "cell_type": "code",
      "metadata": {
        "id": "EyeHKtMfYO9x",
        "colab_type": "code",
        "colab": {
          "base_uri": "https://localhost:8080/",
          "height": 35
        },
        "outputId": "c60f7583-9292-45c6-c2f5-ef6b4c019117"
      },
      "source": [
        "from sklearn.model_selection import train_test_split\n",
        "from keras.models import Sequential\n",
        "from keras.layers import Dense\n",
        "import matplotlib.pyplot as plt\n",
        "from matplotlib.ticker import MaxNLocator\n",
        "import numpy as np"
      ],
      "execution_count": 3,
      "outputs": [
        {
          "output_type": "stream",
          "text": [
            "Using TensorFlow backend.\n"
          ],
          "name": "stderr"
        }
      ]
    },
    {
      "cell_type": "code",
      "metadata": {
        "id": "5dtiBjzOYO-S",
        "colab_type": "code",
        "colab": {}
      },
      "source": [
        "# fix random seed for reproducibility\n",
        "seed = 7\n",
        "np.random.seed(seed)"
      ],
      "execution_count": 0,
      "outputs": []
    },
    {
      "cell_type": "code",
      "metadata": {
        "id": "Vw7lyxpFYO-r",
        "colab_type": "code",
        "colab": {}
      },
      "source": [
        "# load pima indians dataset\n",
        "dataset = np.loadtxt(\"pima-indians-diabetes.csv\", delimiter=\",\")"
      ],
      "execution_count": 0,
      "outputs": []
    },
    {
      "cell_type": "code",
      "metadata": {
        "id": "Ux1Ht1UFYO_B",
        "colab_type": "code",
        "colab": {}
      },
      "source": [
        "# split dataset into input (X) and output (Y) variables\n",
        "# output is the last column\n",
        "X = dataset[:,:-1]\n",
        "y = dataset[:,-1]"
      ],
      "execution_count": 0,
      "outputs": []
    },
    {
      "cell_type": "code",
      "metadata": {
        "id": "ZWf-JraJYO_Y",
        "colab_type": "code",
        "colab": {
          "base_uri": "https://localhost:8080/",
          "height": 35
        },
        "outputId": "043b8e6c-3eb0-4f8a-9d65-2389bd49feb3"
      },
      "source": [
        "# print the shape of x\n",
        "#\n",
        "X.shape"
      ],
      "execution_count": 8,
      "outputs": [
        {
          "output_type": "execute_result",
          "data": {
            "text/plain": [
              "(768, 8)"
            ]
          },
          "metadata": {
            "tags": []
          },
          "execution_count": 8
        }
      ]
    },
    {
      "cell_type": "code",
      "metadata": {
        "id": "kQxaxhdwYO_0",
        "colab_type": "code",
        "colab": {
          "base_uri": "https://localhost:8080/",
          "height": 35
        },
        "outputId": "29df8339-1d45-4ee8-b8bf-49fa0fef2ca1"
      },
      "source": [
        "# save to number of input dimensions in input_dim\n",
        "input_dim = X.shape\n",
        "input_dim"
      ],
      "execution_count": 9,
      "outputs": [
        {
          "output_type": "execute_result",
          "data": {
            "text/plain": [
              "(768, 8)"
            ]
          },
          "metadata": {
            "tags": []
          },
          "execution_count": 9
        }
      ]
    },
    {
      "cell_type": "code",
      "metadata": {
        "id": "-rOmv3utYPAP",
        "colab_type": "code",
        "colab": {
          "base_uri": "https://localhost:8080/",
          "height": 35
        },
        "outputId": "8251da97-ac52-468f-a039-bc57ac768282"
      },
      "source": [
        "# shape of y\n",
        "y.shape"
      ],
      "execution_count": 10,
      "outputs": [
        {
          "output_type": "execute_result",
          "data": {
            "text/plain": [
              "(768,)"
            ]
          },
          "metadata": {
            "tags": []
          },
          "execution_count": 10
        }
      ]
    },
    {
      "cell_type": "code",
      "metadata": {
        "id": "1yTGMW8HYPAy",
        "colab_type": "code",
        "colab": {}
      },
      "source": [
        "# Create training and test sets\n",
        "# Test size should be 15%\n",
        "# The test and train set should be stratified\n",
        "# use a random state (for reproducability) of 42\n",
        "# TODO\n",
        "X_train, X_test, y_train, y_test = train_test_split(X, y, test_size=0.15, random_state=42)"
      ],
      "execution_count": 0,
      "outputs": []
    },
    {
      "cell_type": "code",
      "metadata": {
        "id": "h3JOgQQ7YPBK",
        "colab_type": "code",
        "colab": {
          "base_uri": "https://localhost:8080/",
          "height": 35
        },
        "outputId": "5c7728ef-b394-4570-ba62-d2b2dc33cace"
      },
      "source": [
        "# shape of X_test\n",
        "X_test.shape\n"
      ],
      "execution_count": 12,
      "outputs": [
        {
          "output_type": "execute_result",
          "data": {
            "text/plain": [
              "(116, 8)"
            ]
          },
          "metadata": {
            "tags": []
          },
          "execution_count": 12
        }
      ]
    },
    {
      "cell_type": "markdown",
      "metadata": {
        "id": "vOlzi06xYPBf",
        "colab_type": "text"
      },
      "source": [
        "# Model"
      ]
    },
    {
      "cell_type": "code",
      "metadata": {
        "id": "AsVIGFhEYPBj",
        "colab_type": "code",
        "colab": {}
      },
      "source": [
        "# 1. Create Sequential model\n",
        "# 2. + 3. Add two hidden dense layers with 12 and 8 nodes. Both should have Relu activations \n",
        "# 4. Add a final output layer\n",
        "# Think about how many nodes the final output layer should have and what activation function is appropiate\n",
        "_ =  Sequential()\n",
        "_.add(Dense(12, input_dim=8, activation='relu'))\n",
        "_.add(Dense(8, activation='relu'))\n",
        "_.add(Dense(1, activation='sigmoid'))\n"
      ],
      "execution_count": 0,
      "outputs": []
    },
    {
      "cell_type": "code",
      "metadata": {
        "id": "DN_mxdQ8YPB3",
        "colab_type": "code",
        "colab": {}
      },
      "source": [
        "# Compile the model\n",
        "# Think about what loss function is appropiate\n",
        "# Use as the optimizer Adam\n",
        "# Track as an additional metric Accuracy\n",
        "_.compile(loss='binary_crossentropy', optimizer='Adam', metrics=['accuracy'])\n"
      ],
      "execution_count": 0,
      "outputs": []
    },
    {
      "cell_type": "code",
      "metadata": {
        "id": "bmvMtjYDYPCK",
        "colab_type": "code",
        "colab": {
          "base_uri": "https://localhost:8080/",
          "height": 11075
        },
        "outputId": "06a66929-d30d-4a22-86ad-480d6170810c"
      },
      "source": [
        "# Fit the model\n",
        "#\n",
        "# Use 15% for Validation\n",
        "# Train for 300 epochs\n",
        "# User batch size = 10\n",
        "# Save the model fitting into the variable history\n",
        "# TODO\n",
        "history = _.fit(X_train, y_train, batch_size=10, epochs=300, validation_split=0.15)"
      ],
      "execution_count": 37,
      "outputs": [
        {
          "output_type": "stream",
          "text": [
            "Train on 554 samples, validate on 98 samples\n",
            "Epoch 1/300\n",
            "554/554 [==============================] - 1s 1ms/step - loss: 2.5618 - acc: 0.4819 - val_loss: 1.6625 - val_acc: 0.5714\n",
            "Epoch 2/300\n",
            "554/554 [==============================] - 0s 129us/step - loss: 1.5892 - acc: 0.5776 - val_loss: 1.2423 - val_acc: 0.5714\n",
            "Epoch 3/300\n",
            "554/554 [==============================] - 0s 137us/step - loss: 1.3267 - acc: 0.6029 - val_loss: 1.1913 - val_acc: 0.6327\n",
            "Epoch 4/300\n",
            "554/554 [==============================] - 0s 124us/step - loss: 1.1068 - acc: 0.6137 - val_loss: 0.9266 - val_acc: 0.6122\n",
            "Epoch 5/300\n",
            "554/554 [==============================] - 0s 128us/step - loss: 0.9099 - acc: 0.6336 - val_loss: 0.9005 - val_acc: 0.6633\n",
            "Epoch 6/300\n",
            "554/554 [==============================] - 0s 132us/step - loss: 0.8636 - acc: 0.6588 - val_loss: 0.7658 - val_acc: 0.5816\n",
            "Epoch 7/300\n",
            "554/554 [==============================] - 0s 129us/step - loss: 0.8021 - acc: 0.6336 - val_loss: 0.7649 - val_acc: 0.6633\n",
            "Epoch 8/300\n",
            "554/554 [==============================] - 0s 124us/step - loss: 0.7505 - acc: 0.6570 - val_loss: 0.7380 - val_acc: 0.6837\n",
            "Epoch 9/300\n",
            "554/554 [==============================] - 0s 125us/step - loss: 0.7062 - acc: 0.6787 - val_loss: 0.7551 - val_acc: 0.6327\n",
            "Epoch 10/300\n",
            "554/554 [==============================] - 0s 130us/step - loss: 0.7110 - acc: 0.6823 - val_loss: 0.8180 - val_acc: 0.5714\n",
            "Epoch 11/300\n",
            "554/554 [==============================] - 0s 128us/step - loss: 0.7422 - acc: 0.6751 - val_loss: 0.9304 - val_acc: 0.6633\n",
            "Epoch 12/300\n",
            "554/554 [==============================] - 0s 127us/step - loss: 0.6934 - acc: 0.6859 - val_loss: 0.7298 - val_acc: 0.7041\n",
            "Epoch 13/300\n",
            "554/554 [==============================] - 0s 137us/step - loss: 0.7056 - acc: 0.6733 - val_loss: 0.7394 - val_acc: 0.5918\n",
            "Epoch 14/300\n",
            "554/554 [==============================] - 0s 139us/step - loss: 0.6525 - acc: 0.6859 - val_loss: 0.7199 - val_acc: 0.6939\n",
            "Epoch 15/300\n",
            "554/554 [==============================] - 0s 126us/step - loss: 0.6528 - acc: 0.6787 - val_loss: 0.7249 - val_acc: 0.6735\n",
            "Epoch 16/300\n",
            "554/554 [==============================] - 0s 127us/step - loss: 0.6242 - acc: 0.6877 - val_loss: 0.6803 - val_acc: 0.6735\n",
            "Epoch 17/300\n",
            "554/554 [==============================] - 0s 135us/step - loss: 0.6247 - acc: 0.7130 - val_loss: 0.6829 - val_acc: 0.6122\n",
            "Epoch 18/300\n",
            "554/554 [==============================] - 0s 129us/step - loss: 0.6441 - acc: 0.6805 - val_loss: 0.7994 - val_acc: 0.6939\n",
            "Epoch 19/300\n",
            "554/554 [==============================] - 0s 135us/step - loss: 0.6620 - acc: 0.6859 - val_loss: 0.6352 - val_acc: 0.7245\n",
            "Epoch 20/300\n",
            "554/554 [==============================] - 0s 130us/step - loss: 0.6155 - acc: 0.7004 - val_loss: 0.6403 - val_acc: 0.6939\n",
            "Epoch 21/300\n",
            "554/554 [==============================] - 0s 128us/step - loss: 0.6917 - acc: 0.6606 - val_loss: 0.6158 - val_acc: 0.6939\n",
            "Epoch 22/300\n",
            "554/554 [==============================] - 0s 128us/step - loss: 0.6058 - acc: 0.7058 - val_loss: 0.7045 - val_acc: 0.7245\n",
            "Epoch 23/300\n",
            "554/554 [==============================] - 0s 125us/step - loss: 0.5976 - acc: 0.7130 - val_loss: 0.6657 - val_acc: 0.7143\n",
            "Epoch 24/300\n",
            "554/554 [==============================] - 0s 123us/step - loss: 0.6059 - acc: 0.7076 - val_loss: 0.6461 - val_acc: 0.6633\n",
            "Epoch 25/300\n",
            "554/554 [==============================] - 0s 125us/step - loss: 0.5771 - acc: 0.7076 - val_loss: 0.6794 - val_acc: 0.6531\n",
            "Epoch 26/300\n",
            "554/554 [==============================] - 0s 122us/step - loss: 0.5984 - acc: 0.6968 - val_loss: 0.7007 - val_acc: 0.6531\n",
            "Epoch 27/300\n",
            "554/554 [==============================] - 0s 123us/step - loss: 0.6126 - acc: 0.7256 - val_loss: 0.8233 - val_acc: 0.6531\n",
            "Epoch 28/300\n",
            "554/554 [==============================] - 0s 128us/step - loss: 0.6061 - acc: 0.6913 - val_loss: 0.7100 - val_acc: 0.5612\n",
            "Epoch 29/300\n",
            "554/554 [==============================] - 0s 125us/step - loss: 0.6475 - acc: 0.6877 - val_loss: 0.8784 - val_acc: 0.5306\n",
            "Epoch 30/300\n",
            "554/554 [==============================] - 0s 124us/step - loss: 0.6506 - acc: 0.6751 - val_loss: 0.6438 - val_acc: 0.6837\n",
            "Epoch 31/300\n",
            "554/554 [==============================] - 0s 115us/step - loss: 0.6083 - acc: 0.6931 - val_loss: 0.6619 - val_acc: 0.7041\n",
            "Epoch 32/300\n",
            "554/554 [==============================] - 0s 124us/step - loss: 0.5774 - acc: 0.7274 - val_loss: 0.6415 - val_acc: 0.6939\n",
            "Epoch 33/300\n",
            "554/554 [==============================] - 0s 123us/step - loss: 0.5947 - acc: 0.7112 - val_loss: 0.6234 - val_acc: 0.6939\n",
            "Epoch 34/300\n",
            "554/554 [==============================] - 0s 125us/step - loss: 0.5964 - acc: 0.7166 - val_loss: 0.6605 - val_acc: 0.6531\n",
            "Epoch 35/300\n",
            "554/554 [==============================] - 0s 121us/step - loss: 0.5874 - acc: 0.6859 - val_loss: 0.6321 - val_acc: 0.7245\n",
            "Epoch 36/300\n",
            "554/554 [==============================] - 0s 120us/step - loss: 0.5879 - acc: 0.6949 - val_loss: 0.6797 - val_acc: 0.7143\n",
            "Epoch 37/300\n",
            "554/554 [==============================] - 0s 125us/step - loss: 0.5644 - acc: 0.7256 - val_loss: 0.6101 - val_acc: 0.7041\n",
            "Epoch 38/300\n",
            "554/554 [==============================] - 0s 126us/step - loss: 0.6206 - acc: 0.6913 - val_loss: 0.5969 - val_acc: 0.7041\n",
            "Epoch 39/300\n",
            "554/554 [==============================] - 0s 131us/step - loss: 0.5939 - acc: 0.7238 - val_loss: 0.6062 - val_acc: 0.6939\n",
            "Epoch 40/300\n",
            "554/554 [==============================] - 0s 138us/step - loss: 0.5752 - acc: 0.7130 - val_loss: 0.6731 - val_acc: 0.6837\n",
            "Epoch 41/300\n",
            "554/554 [==============================] - 0s 120us/step - loss: 0.5589 - acc: 0.7455 - val_loss: 0.5925 - val_acc: 0.7041\n",
            "Epoch 42/300\n",
            "554/554 [==============================] - 0s 126us/step - loss: 0.5679 - acc: 0.7274 - val_loss: 0.6206 - val_acc: 0.7041\n",
            "Epoch 43/300\n",
            "554/554 [==============================] - 0s 129us/step - loss: 0.5838 - acc: 0.7184 - val_loss: 0.6845 - val_acc: 0.6224\n",
            "Epoch 44/300\n",
            "554/554 [==============================] - 0s 119us/step - loss: 0.5799 - acc: 0.6931 - val_loss: 0.6901 - val_acc: 0.6939\n",
            "Epoch 45/300\n",
            "554/554 [==============================] - 0s 124us/step - loss: 0.6393 - acc: 0.7112 - val_loss: 0.6677 - val_acc: 0.6224\n",
            "Epoch 46/300\n",
            "554/554 [==============================] - 0s 122us/step - loss: 0.6023 - acc: 0.7076 - val_loss: 0.7981 - val_acc: 0.5000\n",
            "Epoch 47/300\n",
            "554/554 [==============================] - 0s 120us/step - loss: 0.6256 - acc: 0.7058 - val_loss: 0.6760 - val_acc: 0.6327\n",
            "Epoch 48/300\n",
            "554/554 [==============================] - 0s 117us/step - loss: 0.5593 - acc: 0.7329 - val_loss: 0.6191 - val_acc: 0.7347\n",
            "Epoch 49/300\n",
            "554/554 [==============================] - 0s 124us/step - loss: 0.5480 - acc: 0.7220 - val_loss: 0.6006 - val_acc: 0.7041\n",
            "Epoch 50/300\n",
            "554/554 [==============================] - 0s 125us/step - loss: 0.5839 - acc: 0.7238 - val_loss: 0.6929 - val_acc: 0.7041\n",
            "Epoch 51/300\n",
            "554/554 [==============================] - 0s 117us/step - loss: 0.5799 - acc: 0.7238 - val_loss: 0.6377 - val_acc: 0.6735\n",
            "Epoch 52/300\n",
            "554/554 [==============================] - 0s 121us/step - loss: 0.5489 - acc: 0.7292 - val_loss: 0.6270 - val_acc: 0.6837\n",
            "Epoch 53/300\n",
            "554/554 [==============================] - 0s 125us/step - loss: 0.5421 - acc: 0.7329 - val_loss: 0.6218 - val_acc: 0.6735\n",
            "Epoch 54/300\n",
            "554/554 [==============================] - 0s 141us/step - loss: 0.5564 - acc: 0.7383 - val_loss: 0.6725 - val_acc: 0.7041\n",
            "Epoch 55/300\n",
            "554/554 [==============================] - 0s 125us/step - loss: 0.5822 - acc: 0.6877 - val_loss: 0.6072 - val_acc: 0.6735\n",
            "Epoch 56/300\n",
            "554/554 [==============================] - 0s 122us/step - loss: 0.5551 - acc: 0.7274 - val_loss: 0.6664 - val_acc: 0.6327\n",
            "Epoch 57/300\n",
            "554/554 [==============================] - 0s 119us/step - loss: 0.5406 - acc: 0.7473 - val_loss: 0.5978 - val_acc: 0.7041\n",
            "Epoch 58/300\n",
            "554/554 [==============================] - 0s 123us/step - loss: 0.5561 - acc: 0.7130 - val_loss: 0.6390 - val_acc: 0.6429\n",
            "Epoch 59/300\n",
            "554/554 [==============================] - 0s 125us/step - loss: 0.5635 - acc: 0.7220 - val_loss: 1.0277 - val_acc: 0.6327\n",
            "Epoch 60/300\n",
            "554/554 [==============================] - 0s 119us/step - loss: 0.5744 - acc: 0.6931 - val_loss: 0.6170 - val_acc: 0.6837\n",
            "Epoch 61/300\n",
            "554/554 [==============================] - 0s 126us/step - loss: 0.5352 - acc: 0.7455 - val_loss: 0.6581 - val_acc: 0.6939\n",
            "Epoch 62/300\n",
            "554/554 [==============================] - 0s 124us/step - loss: 0.5138 - acc: 0.7635 - val_loss: 0.6470 - val_acc: 0.6429\n",
            "Epoch 63/300\n",
            "554/554 [==============================] - 0s 125us/step - loss: 0.5688 - acc: 0.7094 - val_loss: 0.5933 - val_acc: 0.7245\n",
            "Epoch 64/300\n",
            "554/554 [==============================] - 0s 123us/step - loss: 0.5709 - acc: 0.7310 - val_loss: 0.6194 - val_acc: 0.7347\n",
            "Epoch 65/300\n",
            "554/554 [==============================] - 0s 122us/step - loss: 0.5561 - acc: 0.7292 - val_loss: 0.6304 - val_acc: 0.6735\n",
            "Epoch 66/300\n",
            "554/554 [==============================] - 0s 120us/step - loss: 0.5341 - acc: 0.7509 - val_loss: 0.7349 - val_acc: 0.6837\n",
            "Epoch 67/300\n",
            "554/554 [==============================] - 0s 124us/step - loss: 0.6332 - acc: 0.7004 - val_loss: 0.6016 - val_acc: 0.7041\n",
            "Epoch 68/300\n",
            "554/554 [==============================] - 0s 123us/step - loss: 0.5321 - acc: 0.7455 - val_loss: 0.6282 - val_acc: 0.6735\n",
            "Epoch 69/300\n",
            "554/554 [==============================] - 0s 124us/step - loss: 0.5878 - acc: 0.7166 - val_loss: 0.5911 - val_acc: 0.7551\n",
            "Epoch 70/300\n",
            "554/554 [==============================] - 0s 126us/step - loss: 0.5362 - acc: 0.7527 - val_loss: 0.5859 - val_acc: 0.7041\n",
            "Epoch 71/300\n",
            "554/554 [==============================] - 0s 129us/step - loss: 0.5524 - acc: 0.7365 - val_loss: 0.5832 - val_acc: 0.7347\n",
            "Epoch 72/300\n",
            "554/554 [==============================] - 0s 119us/step - loss: 0.5551 - acc: 0.7347 - val_loss: 0.6152 - val_acc: 0.7449\n",
            "Epoch 73/300\n",
            "554/554 [==============================] - 0s 136us/step - loss: 0.5389 - acc: 0.7383 - val_loss: 0.6195 - val_acc: 0.7041\n",
            "Epoch 74/300\n",
            "554/554 [==============================] - 0s 126us/step - loss: 0.5290 - acc: 0.7617 - val_loss: 0.5698 - val_acc: 0.6939\n",
            "Epoch 75/300\n",
            "554/554 [==============================] - 0s 120us/step - loss: 0.5685 - acc: 0.7130 - val_loss: 0.6081 - val_acc: 0.6735\n",
            "Epoch 76/300\n",
            "554/554 [==============================] - 0s 121us/step - loss: 0.5287 - acc: 0.7491 - val_loss: 0.5929 - val_acc: 0.6939\n",
            "Epoch 77/300\n",
            "554/554 [==============================] - 0s 122us/step - loss: 0.5339 - acc: 0.7329 - val_loss: 0.5964 - val_acc: 0.6939\n",
            "Epoch 78/300\n",
            "554/554 [==============================] - 0s 127us/step - loss: 0.5240 - acc: 0.7509 - val_loss: 0.6689 - val_acc: 0.7245\n",
            "Epoch 79/300\n",
            "554/554 [==============================] - 0s 129us/step - loss: 0.5159 - acc: 0.7653 - val_loss: 0.5884 - val_acc: 0.6837\n",
            "Epoch 80/300\n",
            "554/554 [==============================] - 0s 126us/step - loss: 0.5431 - acc: 0.7437 - val_loss: 0.6160 - val_acc: 0.7041\n",
            "Epoch 81/300\n",
            "554/554 [==============================] - 0s 121us/step - loss: 0.5289 - acc: 0.7599 - val_loss: 0.5675 - val_acc: 0.7245\n",
            "Epoch 82/300\n",
            "554/554 [==============================] - 0s 125us/step - loss: 0.5253 - acc: 0.7491 - val_loss: 0.6041 - val_acc: 0.7143\n",
            "Epoch 83/300\n",
            "554/554 [==============================] - 0s 123us/step - loss: 0.5769 - acc: 0.7256 - val_loss: 0.5337 - val_acc: 0.7347\n",
            "Epoch 84/300\n",
            "554/554 [==============================] - 0s 120us/step - loss: 0.5293 - acc: 0.7473 - val_loss: 0.5976 - val_acc: 0.7347\n",
            "Epoch 85/300\n",
            "554/554 [==============================] - 0s 124us/step - loss: 0.5311 - acc: 0.7455 - val_loss: 0.5893 - val_acc: 0.7143\n",
            "Epoch 86/300\n",
            "554/554 [==============================] - 0s 140us/step - loss: 0.5046 - acc: 0.7617 - val_loss: 0.5416 - val_acc: 0.7245\n",
            "Epoch 87/300\n",
            "554/554 [==============================] - 0s 142us/step - loss: 0.5117 - acc: 0.7581 - val_loss: 0.5884 - val_acc: 0.6939\n",
            "Epoch 88/300\n",
            "554/554 [==============================] - 0s 125us/step - loss: 0.5481 - acc: 0.7473 - val_loss: 0.6470 - val_acc: 0.7245\n",
            "Epoch 89/300\n",
            "554/554 [==============================] - 0s 121us/step - loss: 0.5185 - acc: 0.7671 - val_loss: 0.5730 - val_acc: 0.6939\n",
            "Epoch 90/300\n",
            "554/554 [==============================] - 0s 123us/step - loss: 0.5109 - acc: 0.7419 - val_loss: 0.5683 - val_acc: 0.7347\n",
            "Epoch 91/300\n",
            "554/554 [==============================] - 0s 124us/step - loss: 0.5182 - acc: 0.7292 - val_loss: 0.5850 - val_acc: 0.6939\n",
            "Epoch 92/300\n",
            "554/554 [==============================] - 0s 119us/step - loss: 0.5566 - acc: 0.7166 - val_loss: 0.5564 - val_acc: 0.7245\n",
            "Epoch 93/300\n",
            "554/554 [==============================] - 0s 121us/step - loss: 0.5041 - acc: 0.7491 - val_loss: 0.5444 - val_acc: 0.7347\n",
            "Epoch 94/300\n",
            "554/554 [==============================] - 0s 125us/step - loss: 0.5127 - acc: 0.7491 - val_loss: 0.7322 - val_acc: 0.6735\n",
            "Epoch 95/300\n",
            "554/554 [==============================] - 0s 131us/step - loss: 0.6377 - acc: 0.7094 - val_loss: 0.5806 - val_acc: 0.6939\n",
            "Epoch 96/300\n",
            "554/554 [==============================] - 0s 126us/step - loss: 0.5027 - acc: 0.7509 - val_loss: 0.6216 - val_acc: 0.6837\n",
            "Epoch 97/300\n",
            "554/554 [==============================] - 0s 124us/step - loss: 0.5245 - acc: 0.7653 - val_loss: 0.5408 - val_acc: 0.7041\n",
            "Epoch 98/300\n",
            "554/554 [==============================] - 0s 122us/step - loss: 0.5076 - acc: 0.7545 - val_loss: 0.5587 - val_acc: 0.7347\n",
            "Epoch 99/300\n",
            "554/554 [==============================] - 0s 125us/step - loss: 0.5332 - acc: 0.7527 - val_loss: 0.5960 - val_acc: 0.6939\n",
            "Epoch 100/300\n",
            "554/554 [==============================] - 0s 126us/step - loss: 0.5148 - acc: 0.7653 - val_loss: 0.5399 - val_acc: 0.7143\n",
            "Epoch 101/300\n",
            "554/554 [==============================] - 0s 125us/step - loss: 0.5161 - acc: 0.7527 - val_loss: 0.5305 - val_acc: 0.7347\n",
            "Epoch 102/300\n",
            "554/554 [==============================] - 0s 122us/step - loss: 0.5474 - acc: 0.7347 - val_loss: 0.5229 - val_acc: 0.7449\n",
            "Epoch 103/300\n",
            "554/554 [==============================] - 0s 119us/step - loss: 0.5029 - acc: 0.7653 - val_loss: 0.6355 - val_acc: 0.7041\n",
            "Epoch 104/300\n",
            "554/554 [==============================] - 0s 121us/step - loss: 0.4950 - acc: 0.7635 - val_loss: 0.5187 - val_acc: 0.7041\n",
            "Epoch 105/300\n",
            "554/554 [==============================] - 0s 131us/step - loss: 0.5220 - acc: 0.7473 - val_loss: 0.5801 - val_acc: 0.7041\n",
            "Epoch 106/300\n",
            "554/554 [==============================] - 0s 126us/step - loss: 0.5134 - acc: 0.7401 - val_loss: 0.6073 - val_acc: 0.7041\n",
            "Epoch 107/300\n",
            "554/554 [==============================] - 0s 120us/step - loss: 0.4912 - acc: 0.7888 - val_loss: 0.5443 - val_acc: 0.7143\n",
            "Epoch 108/300\n",
            "554/554 [==============================] - 0s 123us/step - loss: 0.5567 - acc: 0.7347 - val_loss: 0.6165 - val_acc: 0.7041\n",
            "Epoch 109/300\n",
            "554/554 [==============================] - 0s 122us/step - loss: 0.4877 - acc: 0.7708 - val_loss: 0.5399 - val_acc: 0.7347\n",
            "Epoch 110/300\n",
            "554/554 [==============================] - 0s 126us/step - loss: 0.5193 - acc: 0.7581 - val_loss: 0.5757 - val_acc: 0.7041\n",
            "Epoch 111/300\n",
            "554/554 [==============================] - 0s 127us/step - loss: 0.5141 - acc: 0.7527 - val_loss: 0.5874 - val_acc: 0.6939\n",
            "Epoch 112/300\n",
            "554/554 [==============================] - 0s 122us/step - loss: 0.5369 - acc: 0.7635 - val_loss: 0.5316 - val_acc: 0.7347\n",
            "Epoch 113/300\n",
            "554/554 [==============================] - 0s 120us/step - loss: 0.5132 - acc: 0.7563 - val_loss: 0.6704 - val_acc: 0.7143\n",
            "Epoch 114/300\n",
            "554/554 [==============================] - 0s 122us/step - loss: 0.5140 - acc: 0.7545 - val_loss: 0.5451 - val_acc: 0.7245\n",
            "Epoch 115/300\n",
            "554/554 [==============================] - 0s 128us/step - loss: 0.5035 - acc: 0.7635 - val_loss: 0.7376 - val_acc: 0.6837\n",
            "Epoch 116/300\n",
            "554/554 [==============================] - 0s 126us/step - loss: 0.5230 - acc: 0.7509 - val_loss: 0.6300 - val_acc: 0.7245\n",
            "Epoch 117/300\n",
            "554/554 [==============================] - 0s 125us/step - loss: 0.5488 - acc: 0.7329 - val_loss: 0.5419 - val_acc: 0.7245\n",
            "Epoch 118/300\n",
            "554/554 [==============================] - 0s 120us/step - loss: 0.4953 - acc: 0.7816 - val_loss: 0.5144 - val_acc: 0.7245\n",
            "Epoch 119/300\n",
            "554/554 [==============================] - 0s 125us/step - loss: 0.4940 - acc: 0.7527 - val_loss: 0.5245 - val_acc: 0.7347\n",
            "Epoch 120/300\n",
            "554/554 [==============================] - 0s 123us/step - loss: 0.4819 - acc: 0.7617 - val_loss: 0.5399 - val_acc: 0.7245\n",
            "Epoch 121/300\n",
            "554/554 [==============================] - 0s 117us/step - loss: 0.4908 - acc: 0.7545 - val_loss: 0.5282 - val_acc: 0.7143\n",
            "Epoch 122/300\n",
            "554/554 [==============================] - 0s 132us/step - loss: 0.5297 - acc: 0.7545 - val_loss: 0.5104 - val_acc: 0.7245\n",
            "Epoch 123/300\n",
            "554/554 [==============================] - 0s 123us/step - loss: 0.4865 - acc: 0.7599 - val_loss: 0.5357 - val_acc: 0.7041\n",
            "Epoch 124/300\n",
            "554/554 [==============================] - 0s 123us/step - loss: 0.4974 - acc: 0.7798 - val_loss: 0.6148 - val_acc: 0.6633\n",
            "Epoch 125/300\n",
            "554/554 [==============================] - 0s 123us/step - loss: 0.4984 - acc: 0.7780 - val_loss: 0.5474 - val_acc: 0.6735\n",
            "Epoch 126/300\n",
            "554/554 [==============================] - 0s 121us/step - loss: 0.4792 - acc: 0.7726 - val_loss: 0.5251 - val_acc: 0.7245\n",
            "Epoch 127/300\n",
            "554/554 [==============================] - 0s 131us/step - loss: 0.5057 - acc: 0.7635 - val_loss: 0.5713 - val_acc: 0.6939\n",
            "Epoch 128/300\n",
            "554/554 [==============================] - 0s 129us/step - loss: 0.5058 - acc: 0.7545 - val_loss: 0.5412 - val_acc: 0.7653\n",
            "Epoch 129/300\n",
            "554/554 [==============================] - 0s 132us/step - loss: 0.4900 - acc: 0.7509 - val_loss: 0.5247 - val_acc: 0.7245\n",
            "Epoch 130/300\n",
            "554/554 [==============================] - 0s 125us/step - loss: 0.5198 - acc: 0.7635 - val_loss: 0.5822 - val_acc: 0.6939\n",
            "Epoch 131/300\n",
            "554/554 [==============================] - 0s 133us/step - loss: 0.5224 - acc: 0.7455 - val_loss: 0.5097 - val_acc: 0.7143\n",
            "Epoch 132/300\n",
            "554/554 [==============================] - 0s 128us/step - loss: 0.4699 - acc: 0.7834 - val_loss: 0.5262 - val_acc: 0.7245\n",
            "Epoch 133/300\n",
            "554/554 [==============================] - 0s 126us/step - loss: 0.4979 - acc: 0.7671 - val_loss: 0.5426 - val_acc: 0.7041\n",
            "Epoch 134/300\n",
            "554/554 [==============================] - 0s 119us/step - loss: 0.4815 - acc: 0.7870 - val_loss: 0.5502 - val_acc: 0.7041\n",
            "Epoch 135/300\n",
            "554/554 [==============================] - 0s 124us/step - loss: 0.4802 - acc: 0.7780 - val_loss: 0.5309 - val_acc: 0.7449\n",
            "Epoch 136/300\n",
            "554/554 [==============================] - 0s 126us/step - loss: 0.4884 - acc: 0.7617 - val_loss: 0.5324 - val_acc: 0.6939\n",
            "Epoch 137/300\n",
            "554/554 [==============================] - 0s 120us/step - loss: 0.4797 - acc: 0.7653 - val_loss: 0.5388 - val_acc: 0.7653\n",
            "Epoch 138/300\n",
            "554/554 [==============================] - 0s 125us/step - loss: 0.4795 - acc: 0.7726 - val_loss: 0.6082 - val_acc: 0.7143\n",
            "Epoch 139/300\n",
            "554/554 [==============================] - 0s 119us/step - loss: 0.4826 - acc: 0.7744 - val_loss: 0.5006 - val_acc: 0.7653\n",
            "Epoch 140/300\n",
            "554/554 [==============================] - 0s 125us/step - loss: 0.4920 - acc: 0.7563 - val_loss: 0.5579 - val_acc: 0.7041\n",
            "Epoch 141/300\n",
            "554/554 [==============================] - 0s 122us/step - loss: 0.4666 - acc: 0.7690 - val_loss: 0.6030 - val_acc: 0.6837\n",
            "Epoch 142/300\n",
            "554/554 [==============================] - 0s 125us/step - loss: 0.4895 - acc: 0.7437 - val_loss: 0.5046 - val_acc: 0.7245\n",
            "Epoch 143/300\n",
            "554/554 [==============================] - 0s 126us/step - loss: 0.5886 - acc: 0.7401 - val_loss: 0.5766 - val_acc: 0.7347\n",
            "Epoch 144/300\n",
            "554/554 [==============================] - 0s 130us/step - loss: 0.4982 - acc: 0.7545 - val_loss: 0.5579 - val_acc: 0.7143\n",
            "Epoch 145/300\n",
            "554/554 [==============================] - 0s 122us/step - loss: 0.4813 - acc: 0.7708 - val_loss: 0.4804 - val_acc: 0.7347\n",
            "Epoch 146/300\n",
            "554/554 [==============================] - 0s 122us/step - loss: 0.4945 - acc: 0.7726 - val_loss: 0.5604 - val_acc: 0.7245\n",
            "Epoch 147/300\n",
            "554/554 [==============================] - 0s 121us/step - loss: 0.4820 - acc: 0.7744 - val_loss: 0.5126 - val_acc: 0.7755\n",
            "Epoch 148/300\n",
            "554/554 [==============================] - 0s 118us/step - loss: 0.4847 - acc: 0.7708 - val_loss: 0.5263 - val_acc: 0.7347\n",
            "Epoch 149/300\n",
            "554/554 [==============================] - 0s 119us/step - loss: 0.4719 - acc: 0.7581 - val_loss: 0.6076 - val_acc: 0.7449\n",
            "Epoch 150/300\n",
            "554/554 [==============================] - 0s 124us/step - loss: 0.4798 - acc: 0.7671 - val_loss: 0.5132 - val_acc: 0.7347\n",
            "Epoch 151/300\n",
            "554/554 [==============================] - 0s 123us/step - loss: 0.4854 - acc: 0.7780 - val_loss: 0.5574 - val_acc: 0.7245\n",
            "Epoch 152/300\n",
            "554/554 [==============================] - 0s 124us/step - loss: 0.5180 - acc: 0.7545 - val_loss: 0.5759 - val_acc: 0.7245\n",
            "Epoch 153/300\n",
            "554/554 [==============================] - 0s 143us/step - loss: 0.4886 - acc: 0.7852 - val_loss: 0.5808 - val_acc: 0.7245\n",
            "Epoch 154/300\n",
            "554/554 [==============================] - 0s 125us/step - loss: 0.5290 - acc: 0.7780 - val_loss: 0.6340 - val_acc: 0.7245\n",
            "Epoch 155/300\n",
            "554/554 [==============================] - 0s 128us/step - loss: 0.4914 - acc: 0.7617 - val_loss: 0.5051 - val_acc: 0.7551\n",
            "Epoch 156/300\n",
            "554/554 [==============================] - 0s 126us/step - loss: 0.4822 - acc: 0.7635 - val_loss: 0.4914 - val_acc: 0.7653\n",
            "Epoch 157/300\n",
            "554/554 [==============================] - 0s 120us/step - loss: 0.4666 - acc: 0.7888 - val_loss: 0.5441 - val_acc: 0.7449\n",
            "Epoch 158/300\n",
            "554/554 [==============================] - 0s 125us/step - loss: 0.4568 - acc: 0.7960 - val_loss: 0.5418 - val_acc: 0.7041\n",
            "Epoch 159/300\n",
            "554/554 [==============================] - 0s 123us/step - loss: 0.4907 - acc: 0.7870 - val_loss: 0.6046 - val_acc: 0.7041\n",
            "Epoch 160/300\n",
            "554/554 [==============================] - 0s 122us/step - loss: 0.4838 - acc: 0.7798 - val_loss: 0.6497 - val_acc: 0.7041\n",
            "Epoch 161/300\n",
            "554/554 [==============================] - 0s 120us/step - loss: 0.5251 - acc: 0.7491 - val_loss: 0.5416 - val_acc: 0.7347\n",
            "Epoch 162/300\n",
            "554/554 [==============================] - 0s 119us/step - loss: 0.4717 - acc: 0.7816 - val_loss: 0.5458 - val_acc: 0.7245\n",
            "Epoch 163/300\n",
            "554/554 [==============================] - 0s 125us/step - loss: 0.4873 - acc: 0.7780 - val_loss: 0.5585 - val_acc: 0.7245\n",
            "Epoch 164/300\n",
            "554/554 [==============================] - 0s 121us/step - loss: 0.4813 - acc: 0.7852 - val_loss: 0.5241 - val_acc: 0.7347\n",
            "Epoch 165/300\n",
            "554/554 [==============================] - 0s 119us/step - loss: 0.4770 - acc: 0.7726 - val_loss: 0.5102 - val_acc: 0.7653\n",
            "Epoch 166/300\n",
            "554/554 [==============================] - 0s 120us/step - loss: 0.4590 - acc: 0.7942 - val_loss: 0.4819 - val_acc: 0.7551\n",
            "Epoch 167/300\n",
            "554/554 [==============================] - 0s 114us/step - loss: 0.4691 - acc: 0.7852 - val_loss: 0.4778 - val_acc: 0.7551\n",
            "Epoch 168/300\n",
            "554/554 [==============================] - 0s 116us/step - loss: 0.4950 - acc: 0.7617 - val_loss: 0.5278 - val_acc: 0.7143\n",
            "Epoch 169/300\n",
            "554/554 [==============================] - 0s 125us/step - loss: 0.5497 - acc: 0.7563 - val_loss: 0.5741 - val_acc: 0.7245\n",
            "Epoch 170/300\n",
            "554/554 [==============================] - 0s 127us/step - loss: 0.5591 - acc: 0.7347 - val_loss: 0.5866 - val_acc: 0.7347\n",
            "Epoch 171/300\n",
            "554/554 [==============================] - 0s 137us/step - loss: 0.5269 - acc: 0.7292 - val_loss: 0.6391 - val_acc: 0.6531\n",
            "Epoch 172/300\n",
            "554/554 [==============================] - 0s 124us/step - loss: 0.4828 - acc: 0.7744 - val_loss: 0.4912 - val_acc: 0.7653\n",
            "Epoch 173/300\n",
            "554/554 [==============================] - 0s 122us/step - loss: 0.4675 - acc: 0.7671 - val_loss: 0.5322 - val_acc: 0.7143\n",
            "Epoch 174/300\n",
            "554/554 [==============================] - 0s 122us/step - loss: 0.4912 - acc: 0.7708 - val_loss: 0.5247 - val_acc: 0.7347\n",
            "Epoch 175/300\n",
            "554/554 [==============================] - 0s 125us/step - loss: 0.4683 - acc: 0.7798 - val_loss: 0.4885 - val_acc: 0.7143\n",
            "Epoch 176/300\n",
            "554/554 [==============================] - 0s 125us/step - loss: 0.4775 - acc: 0.7888 - val_loss: 0.5399 - val_acc: 0.7143\n",
            "Epoch 177/300\n",
            "554/554 [==============================] - 0s 122us/step - loss: 0.4771 - acc: 0.7671 - val_loss: 0.5008 - val_acc: 0.7653\n",
            "Epoch 178/300\n",
            "554/554 [==============================] - 0s 120us/step - loss: 0.4702 - acc: 0.7671 - val_loss: 0.4880 - val_acc: 0.7347\n",
            "Epoch 179/300\n",
            "554/554 [==============================] - 0s 119us/step - loss: 0.4612 - acc: 0.7690 - val_loss: 0.5000 - val_acc: 0.7653\n",
            "Epoch 180/300\n",
            "554/554 [==============================] - 0s 122us/step - loss: 0.4907 - acc: 0.7509 - val_loss: 0.4831 - val_acc: 0.7143\n",
            "Epoch 181/300\n",
            "554/554 [==============================] - 0s 129us/step - loss: 0.4795 - acc: 0.7708 - val_loss: 0.5285 - val_acc: 0.7245\n",
            "Epoch 182/300\n",
            "554/554 [==============================] - 0s 128us/step - loss: 0.4635 - acc: 0.7780 - val_loss: 0.5266 - val_acc: 0.7143\n",
            "Epoch 183/300\n",
            "554/554 [==============================] - 0s 121us/step - loss: 0.4634 - acc: 0.7762 - val_loss: 0.4877 - val_acc: 0.7245\n",
            "Epoch 184/300\n",
            "554/554 [==============================] - 0s 123us/step - loss: 0.4769 - acc: 0.7599 - val_loss: 0.5309 - val_acc: 0.7449\n",
            "Epoch 185/300\n",
            "554/554 [==============================] - 0s 119us/step - loss: 0.4765 - acc: 0.7726 - val_loss: 0.5179 - val_acc: 0.7347\n",
            "Epoch 186/300\n",
            "554/554 [==============================] - 0s 128us/step - loss: 0.4584 - acc: 0.7888 - val_loss: 0.5608 - val_acc: 0.7347\n",
            "Epoch 187/300\n",
            "554/554 [==============================] - 0s 120us/step - loss: 0.4410 - acc: 0.8051 - val_loss: 0.4892 - val_acc: 0.7449\n",
            "Epoch 188/300\n",
            "554/554 [==============================] - 0s 123us/step - loss: 0.4685 - acc: 0.7852 - val_loss: 0.5362 - val_acc: 0.7347\n",
            "Epoch 189/300\n",
            "554/554 [==============================] - 0s 125us/step - loss: 0.4685 - acc: 0.7708 - val_loss: 0.5122 - val_acc: 0.7653\n",
            "Epoch 190/300\n",
            "554/554 [==============================] - 0s 120us/step - loss: 0.4463 - acc: 0.7942 - val_loss: 0.4688 - val_acc: 0.7347\n",
            "Epoch 191/300\n",
            "554/554 [==============================] - 0s 124us/step - loss: 0.4642 - acc: 0.7798 - val_loss: 0.4584 - val_acc: 0.7653\n",
            "Epoch 192/300\n",
            "554/554 [==============================] - 0s 124us/step - loss: 0.4957 - acc: 0.7816 - val_loss: 0.5598 - val_acc: 0.7245\n",
            "Epoch 193/300\n",
            "554/554 [==============================] - 0s 123us/step - loss: 0.4611 - acc: 0.7726 - val_loss: 0.4734 - val_acc: 0.7449\n",
            "Epoch 194/300\n",
            "554/554 [==============================] - 0s 122us/step - loss: 0.4542 - acc: 0.7924 - val_loss: 0.4810 - val_acc: 0.7551\n",
            "Epoch 195/300\n",
            "554/554 [==============================] - 0s 122us/step - loss: 0.4658 - acc: 0.7816 - val_loss: 0.5202 - val_acc: 0.7449\n",
            "Epoch 196/300\n",
            "554/554 [==============================] - 0s 127us/step - loss: 0.4766 - acc: 0.7744 - val_loss: 0.5053 - val_acc: 0.7041\n",
            "Epoch 197/300\n",
            "554/554 [==============================] - 0s 138us/step - loss: 0.4595 - acc: 0.7798 - val_loss: 0.5033 - val_acc: 0.7449\n",
            "Epoch 198/300\n",
            "554/554 [==============================] - 0s 123us/step - loss: 0.4590 - acc: 0.7888 - val_loss: 0.5280 - val_acc: 0.6939\n",
            "Epoch 199/300\n",
            "554/554 [==============================] - 0s 131us/step - loss: 0.4539 - acc: 0.7690 - val_loss: 0.5465 - val_acc: 0.7041\n",
            "Epoch 200/300\n",
            "554/554 [==============================] - 0s 125us/step - loss: 0.4966 - acc: 0.7653 - val_loss: 0.4808 - val_acc: 0.7449\n",
            "Epoch 201/300\n",
            "554/554 [==============================] - 0s 120us/step - loss: 0.4551 - acc: 0.7942 - val_loss: 0.4802 - val_acc: 0.7653\n",
            "Epoch 202/300\n",
            "554/554 [==============================] - 0s 123us/step - loss: 0.4707 - acc: 0.7744 - val_loss: 0.4840 - val_acc: 0.7449\n",
            "Epoch 203/300\n",
            "554/554 [==============================] - 0s 132us/step - loss: 0.4675 - acc: 0.7780 - val_loss: 0.5924 - val_acc: 0.6939\n",
            "Epoch 204/300\n",
            "554/554 [==============================] - 0s 123us/step - loss: 0.4726 - acc: 0.7852 - val_loss: 0.5047 - val_acc: 0.7653\n",
            "Epoch 205/300\n",
            "554/554 [==============================] - 0s 123us/step - loss: 0.4617 - acc: 0.7780 - val_loss: 0.5165 - val_acc: 0.7245\n",
            "Epoch 206/300\n",
            "554/554 [==============================] - 0s 123us/step - loss: 0.4455 - acc: 0.7924 - val_loss: 0.6601 - val_acc: 0.6633\n",
            "Epoch 207/300\n",
            "554/554 [==============================] - 0s 120us/step - loss: 0.4698 - acc: 0.7726 - val_loss: 0.4840 - val_acc: 0.7653\n",
            "Epoch 208/300\n",
            "554/554 [==============================] - 0s 120us/step - loss: 0.4422 - acc: 0.8032 - val_loss: 0.5689 - val_acc: 0.6837\n",
            "Epoch 209/300\n",
            "554/554 [==============================] - 0s 125us/step - loss: 0.4794 - acc: 0.7924 - val_loss: 0.5590 - val_acc: 0.6939\n",
            "Epoch 210/300\n",
            "554/554 [==============================] - 0s 123us/step - loss: 0.4505 - acc: 0.7852 - val_loss: 0.4956 - val_acc: 0.7551\n",
            "Epoch 211/300\n",
            "554/554 [==============================] - 0s 117us/step - loss: 0.4613 - acc: 0.7816 - val_loss: 0.5071 - val_acc: 0.7347\n",
            "Epoch 212/300\n",
            "554/554 [==============================] - 0s 127us/step - loss: 0.5125 - acc: 0.7690 - val_loss: 0.4698 - val_acc: 0.7755\n",
            "Epoch 213/300\n",
            "554/554 [==============================] - 0s 125us/step - loss: 0.5093 - acc: 0.7401 - val_loss: 0.6084 - val_acc: 0.6837\n",
            "Epoch 214/300\n",
            "554/554 [==============================] - 0s 123us/step - loss: 0.4652 - acc: 0.7870 - val_loss: 0.5109 - val_acc: 0.7347\n",
            "Epoch 215/300\n",
            "554/554 [==============================] - 0s 117us/step - loss: 0.4852 - acc: 0.7653 - val_loss: 0.4785 - val_acc: 0.7755\n",
            "Epoch 216/300\n",
            "554/554 [==============================] - 0s 120us/step - loss: 0.4717 - acc: 0.7906 - val_loss: 0.5530 - val_acc: 0.7347\n",
            "Epoch 217/300\n",
            "554/554 [==============================] - 0s 126us/step - loss: 0.4542 - acc: 0.7870 - val_loss: 0.4832 - val_acc: 0.7653\n",
            "Epoch 218/300\n",
            "554/554 [==============================] - 0s 122us/step - loss: 0.4499 - acc: 0.7762 - val_loss: 0.4966 - val_acc: 0.7143\n",
            "Epoch 219/300\n",
            "554/554 [==============================] - 0s 122us/step - loss: 0.4825 - acc: 0.7599 - val_loss: 0.4781 - val_acc: 0.7245\n",
            "Epoch 220/300\n",
            "554/554 [==============================] - 0s 121us/step - loss: 0.4519 - acc: 0.7780 - val_loss: 0.4884 - val_acc: 0.7551\n",
            "Epoch 221/300\n",
            "554/554 [==============================] - 0s 122us/step - loss: 0.4382 - acc: 0.8014 - val_loss: 0.5290 - val_acc: 0.7245\n",
            "Epoch 222/300\n",
            "554/554 [==============================] - 0s 118us/step - loss: 0.4881 - acc: 0.7726 - val_loss: 0.5162 - val_acc: 0.7347\n",
            "Epoch 223/300\n",
            "554/554 [==============================] - 0s 121us/step - loss: 0.4554 - acc: 0.7852 - val_loss: 0.4697 - val_acc: 0.7653\n",
            "Epoch 224/300\n",
            "554/554 [==============================] - 0s 117us/step - loss: 0.4385 - acc: 0.8141 - val_loss: 0.5112 - val_acc: 0.7551\n",
            "Epoch 225/300\n",
            "554/554 [==============================] - 0s 131us/step - loss: 0.4517 - acc: 0.7978 - val_loss: 0.5034 - val_acc: 0.7245\n",
            "Epoch 226/300\n",
            "554/554 [==============================] - 0s 123us/step - loss: 0.4451 - acc: 0.8051 - val_loss: 0.5128 - val_acc: 0.7551\n",
            "Epoch 227/300\n",
            "554/554 [==============================] - 0s 130us/step - loss: 0.4458 - acc: 0.7942 - val_loss: 0.4872 - val_acc: 0.7245\n",
            "Epoch 228/300\n",
            "554/554 [==============================] - 0s 117us/step - loss: 0.4542 - acc: 0.7870 - val_loss: 0.5583 - val_acc: 0.7143\n",
            "Epoch 229/300\n",
            "554/554 [==============================] - 0s 116us/step - loss: 0.4341 - acc: 0.7942 - val_loss: 0.4800 - val_acc: 0.7551\n",
            "Epoch 230/300\n",
            "554/554 [==============================] - 0s 127us/step - loss: 0.4951 - acc: 0.7635 - val_loss: 0.4810 - val_acc: 0.7653\n",
            "Epoch 231/300\n",
            "554/554 [==============================] - 0s 120us/step - loss: 0.4365 - acc: 0.7942 - val_loss: 0.4875 - val_acc: 0.7347\n",
            "Epoch 232/300\n",
            "554/554 [==============================] - 0s 125us/step - loss: 0.4401 - acc: 0.7996 - val_loss: 0.5224 - val_acc: 0.7347\n",
            "Epoch 233/300\n",
            "554/554 [==============================] - 0s 122us/step - loss: 0.4985 - acc: 0.7491 - val_loss: 0.4712 - val_acc: 0.7959\n",
            "Epoch 234/300\n",
            "554/554 [==============================] - 0s 124us/step - loss: 0.4431 - acc: 0.7978 - val_loss: 0.4577 - val_acc: 0.7653\n",
            "Epoch 235/300\n",
            "554/554 [==============================] - 0s 124us/step - loss: 0.4526 - acc: 0.7906 - val_loss: 0.4809 - val_acc: 0.7347\n",
            "Epoch 236/300\n",
            "554/554 [==============================] - 0s 120us/step - loss: 0.4428 - acc: 0.8014 - val_loss: 0.5345 - val_acc: 0.7551\n",
            "Epoch 237/300\n",
            "554/554 [==============================] - 0s 120us/step - loss: 0.4744 - acc: 0.7870 - val_loss: 0.5217 - val_acc: 0.7245\n",
            "Epoch 238/300\n",
            "554/554 [==============================] - 0s 125us/step - loss: 0.4676 - acc: 0.7942 - val_loss: 0.4928 - val_acc: 0.7653\n",
            "Epoch 239/300\n",
            "554/554 [==============================] - 0s 121us/step - loss: 0.4542 - acc: 0.7816 - val_loss: 0.6185 - val_acc: 0.7041\n",
            "Epoch 240/300\n",
            "554/554 [==============================] - 0s 128us/step - loss: 0.4610 - acc: 0.7978 - val_loss: 0.4740 - val_acc: 0.7857\n",
            "Epoch 241/300\n",
            "554/554 [==============================] - 0s 124us/step - loss: 0.4621 - acc: 0.7816 - val_loss: 0.5231 - val_acc: 0.7755\n",
            "Epoch 242/300\n",
            "554/554 [==============================] - 0s 122us/step - loss: 0.4371 - acc: 0.8105 - val_loss: 0.5147 - val_acc: 0.7449\n",
            "Epoch 243/300\n",
            "554/554 [==============================] - 0s 121us/step - loss: 0.4507 - acc: 0.7798 - val_loss: 0.4716 - val_acc: 0.7857\n",
            "Epoch 244/300\n",
            "554/554 [==============================] - 0s 118us/step - loss: 0.4524 - acc: 0.7744 - val_loss: 0.4842 - val_acc: 0.7857\n",
            "Epoch 245/300\n",
            "554/554 [==============================] - 0s 122us/step - loss: 0.4352 - acc: 0.8069 - val_loss: 0.4920 - val_acc: 0.7347\n",
            "Epoch 246/300\n",
            "554/554 [==============================] - 0s 156us/step - loss: 0.4785 - acc: 0.7653 - val_loss: 0.4777 - val_acc: 0.7347\n",
            "Epoch 247/300\n",
            "554/554 [==============================] - 0s 122us/step - loss: 0.4291 - acc: 0.7924 - val_loss: 0.6890 - val_acc: 0.7143\n",
            "Epoch 248/300\n",
            "554/554 [==============================] - 0s 120us/step - loss: 0.4681 - acc: 0.7545 - val_loss: 0.5099 - val_acc: 0.7653\n",
            "Epoch 249/300\n",
            "554/554 [==============================] - 0s 128us/step - loss: 0.4325 - acc: 0.7744 - val_loss: 0.5055 - val_acc: 0.7347\n",
            "Epoch 250/300\n",
            "554/554 [==============================] - 0s 122us/step - loss: 0.4281 - acc: 0.7924 - val_loss: 0.4580 - val_acc: 0.8061\n",
            "Epoch 251/300\n",
            "554/554 [==============================] - 0s 120us/step - loss: 0.4403 - acc: 0.7960 - val_loss: 0.4977 - val_acc: 0.7449\n",
            "Epoch 252/300\n",
            "554/554 [==============================] - 0s 123us/step - loss: 0.4505 - acc: 0.7762 - val_loss: 0.4717 - val_acc: 0.7551\n",
            "Epoch 253/300\n",
            "554/554 [==============================] - 0s 121us/step - loss: 0.4573 - acc: 0.7996 - val_loss: 0.4667 - val_acc: 0.7551\n",
            "Epoch 254/300\n",
            "554/554 [==============================] - 0s 125us/step - loss: 0.4820 - acc: 0.7816 - val_loss: 0.4824 - val_acc: 0.7653\n",
            "Epoch 255/300\n",
            "554/554 [==============================] - 0s 120us/step - loss: 0.4566 - acc: 0.8087 - val_loss: 0.5332 - val_acc: 0.7143\n",
            "Epoch 256/300\n",
            "554/554 [==============================] - 0s 122us/step - loss: 0.4450 - acc: 0.7960 - val_loss: 0.4606 - val_acc: 0.7347\n",
            "Epoch 257/300\n",
            "554/554 [==============================] - 0s 134us/step - loss: 0.4673 - acc: 0.7690 - val_loss: 0.4861 - val_acc: 0.7347\n",
            "Epoch 258/300\n",
            "554/554 [==============================] - 0s 130us/step - loss: 0.4607 - acc: 0.7942 - val_loss: 0.4853 - val_acc: 0.7551\n",
            "Epoch 259/300\n",
            "554/554 [==============================] - 0s 125us/step - loss: 0.4238 - acc: 0.8014 - val_loss: 0.4971 - val_acc: 0.7449\n",
            "Epoch 260/300\n",
            "554/554 [==============================] - 0s 122us/step - loss: 0.4752 - acc: 0.7852 - val_loss: 0.4650 - val_acc: 0.7653\n",
            "Epoch 261/300\n",
            "554/554 [==============================] - 0s 121us/step - loss: 0.4247 - acc: 0.8087 - val_loss: 0.5281 - val_acc: 0.7449\n",
            "Epoch 262/300\n",
            "554/554 [==============================] - 0s 125us/step - loss: 0.4532 - acc: 0.7906 - val_loss: 0.4727 - val_acc: 0.7551\n",
            "Epoch 263/300\n",
            "554/554 [==============================] - 0s 120us/step - loss: 0.4376 - acc: 0.7942 - val_loss: 0.4764 - val_acc: 0.7449\n",
            "Epoch 264/300\n",
            "554/554 [==============================] - 0s 137us/step - loss: 0.4435 - acc: 0.7906 - val_loss: 0.4572 - val_acc: 0.7551\n",
            "Epoch 265/300\n",
            "554/554 [==============================] - 0s 122us/step - loss: 0.4358 - acc: 0.8051 - val_loss: 0.4707 - val_acc: 0.7347\n",
            "Epoch 266/300\n",
            "554/554 [==============================] - 0s 123us/step - loss: 0.4421 - acc: 0.7870 - val_loss: 0.4456 - val_acc: 0.7449\n",
            "Epoch 267/300\n",
            "554/554 [==============================] - 0s 131us/step - loss: 0.4454 - acc: 0.7816 - val_loss: 0.4995 - val_acc: 0.7347\n",
            "Epoch 268/300\n",
            "554/554 [==============================] - 0s 127us/step - loss: 0.4532 - acc: 0.7798 - val_loss: 0.5753 - val_acc: 0.6939\n",
            "Epoch 269/300\n",
            "554/554 [==============================] - 0s 126us/step - loss: 0.4734 - acc: 0.7744 - val_loss: 0.4909 - val_acc: 0.7653\n",
            "Epoch 270/300\n",
            "554/554 [==============================] - 0s 131us/step - loss: 0.4576 - acc: 0.7852 - val_loss: 0.4784 - val_acc: 0.7551\n",
            "Epoch 271/300\n",
            "554/554 [==============================] - 0s 136us/step - loss: 0.4470 - acc: 0.7852 - val_loss: 0.5352 - val_acc: 0.7347\n",
            "Epoch 272/300\n",
            "554/554 [==============================] - 0s 123us/step - loss: 0.4154 - acc: 0.8177 - val_loss: 0.5205 - val_acc: 0.7449\n",
            "Epoch 273/300\n",
            "554/554 [==============================] - 0s 128us/step - loss: 0.4321 - acc: 0.8087 - val_loss: 0.4907 - val_acc: 0.7347\n",
            "Epoch 274/300\n",
            "554/554 [==============================] - 0s 122us/step - loss: 0.4433 - acc: 0.7834 - val_loss: 0.5210 - val_acc: 0.7347\n",
            "Epoch 275/300\n",
            "554/554 [==============================] - 0s 121us/step - loss: 0.4547 - acc: 0.7852 - val_loss: 0.4614 - val_acc: 0.7551\n",
            "Epoch 276/300\n",
            "554/554 [==============================] - 0s 124us/step - loss: 0.4141 - acc: 0.8032 - val_loss: 0.4867 - val_acc: 0.7449\n",
            "Epoch 277/300\n",
            "554/554 [==============================] - 0s 127us/step - loss: 0.4323 - acc: 0.7924 - val_loss: 0.5031 - val_acc: 0.7653\n",
            "Epoch 278/300\n",
            "554/554 [==============================] - 0s 122us/step - loss: 0.4271 - acc: 0.7942 - val_loss: 0.5848 - val_acc: 0.6939\n",
            "Epoch 279/300\n",
            "554/554 [==============================] - 0s 123us/step - loss: 0.4346 - acc: 0.7906 - val_loss: 0.5434 - val_acc: 0.7041\n",
            "Epoch 280/300\n",
            "554/554 [==============================] - 0s 127us/step - loss: 0.4416 - acc: 0.8087 - val_loss: 0.5336 - val_acc: 0.7653\n",
            "Epoch 281/300\n",
            "554/554 [==============================] - 0s 126us/step - loss: 0.4411 - acc: 0.7870 - val_loss: 0.4779 - val_acc: 0.7449\n",
            "Epoch 282/300\n",
            "554/554 [==============================] - 0s 125us/step - loss: 0.4320 - acc: 0.7960 - val_loss: 0.4981 - val_acc: 0.7347\n",
            "Epoch 283/300\n",
            "554/554 [==============================] - 0s 128us/step - loss: 0.4573 - acc: 0.7960 - val_loss: 0.5323 - val_acc: 0.7143\n",
            "Epoch 284/300\n",
            "554/554 [==============================] - 0s 130us/step - loss: 0.4208 - acc: 0.8105 - val_loss: 0.5499 - val_acc: 0.7143\n",
            "Epoch 285/300\n",
            "554/554 [==============================] - 0s 121us/step - loss: 0.4613 - acc: 0.7798 - val_loss: 0.4874 - val_acc: 0.7449\n",
            "Epoch 286/300\n",
            "554/554 [==============================] - 0s 121us/step - loss: 0.4319 - acc: 0.8032 - val_loss: 0.5015 - val_acc: 0.7551\n",
            "Epoch 287/300\n",
            "554/554 [==============================] - 0s 128us/step - loss: 0.4202 - acc: 0.8105 - val_loss: 0.4851 - val_acc: 0.7551\n",
            "Epoch 288/300\n",
            "554/554 [==============================] - 0s 122us/step - loss: 0.4246 - acc: 0.8087 - val_loss: 0.4599 - val_acc: 0.7959\n",
            "Epoch 289/300\n",
            "554/554 [==============================] - 0s 119us/step - loss: 0.4375 - acc: 0.7924 - val_loss: 0.5074 - val_acc: 0.7347\n",
            "Epoch 290/300\n",
            "554/554 [==============================] - 0s 133us/step - loss: 0.4314 - acc: 0.7888 - val_loss: 0.4982 - val_acc: 0.7653\n",
            "Epoch 291/300\n",
            "554/554 [==============================] - 0s 120us/step - loss: 0.4681 - acc: 0.7762 - val_loss: 0.5034 - val_acc: 0.7551\n",
            "Epoch 292/300\n",
            "554/554 [==============================] - 0s 119us/step - loss: 0.4686 - acc: 0.7798 - val_loss: 0.5996 - val_acc: 0.6939\n",
            "Epoch 293/300\n",
            "554/554 [==============================] - 0s 126us/step - loss: 0.4314 - acc: 0.7996 - val_loss: 0.4703 - val_acc: 0.7653\n",
            "Epoch 294/300\n",
            "554/554 [==============================] - 0s 125us/step - loss: 0.4437 - acc: 0.7870 - val_loss: 0.4741 - val_acc: 0.7755\n",
            "Epoch 295/300\n",
            "554/554 [==============================] - 0s 125us/step - loss: 0.4526 - acc: 0.7942 - val_loss: 0.5143 - val_acc: 0.7653\n",
            "Epoch 296/300\n",
            "554/554 [==============================] - 0s 126us/step - loss: 0.4956 - acc: 0.7870 - val_loss: 0.5235 - val_acc: 0.7551\n",
            "Epoch 297/300\n",
            "554/554 [==============================] - 0s 129us/step - loss: 0.4603 - acc: 0.7906 - val_loss: 0.5873 - val_acc: 0.7245\n",
            "Epoch 298/300\n",
            "554/554 [==============================] - 0s 129us/step - loss: 0.4348 - acc: 0.7942 - val_loss: 0.4869 - val_acc: 0.7653\n",
            "Epoch 299/300\n",
            "554/554 [==============================] - 0s 124us/step - loss: 0.4454 - acc: 0.8051 - val_loss: 0.5046 - val_acc: 0.7143\n",
            "Epoch 300/300\n",
            "554/554 [==============================] - 0s 130us/step - loss: 0.4278 - acc: 0.8069 - val_loss: 0.4621 - val_acc: 0.7449\n"
          ],
          "name": "stdout"
        }
      ]
    },
    {
      "cell_type": "code",
      "metadata": {
        "id": "upQ-T4BJYPCg",
        "colab_type": "code",
        "colab": {
          "base_uri": "https://localhost:8080/",
          "height": 35
        },
        "outputId": "c0613521-cfe3-44aa-815b-e778018b5ab5"
      },
      "source": [
        "# list all data in history\n",
        "print(history.history.keys())"
      ],
      "execution_count": 38,
      "outputs": [
        {
          "output_type": "stream",
          "text": [
            "dict_keys(['val_loss', 'val_acc', 'loss', 'acc'])\n"
          ],
          "name": "stdout"
        }
      ]
    },
    {
      "cell_type": "code",
      "metadata": {
        "id": "UI614aUxYPCw",
        "colab_type": "code",
        "colab": {
          "base_uri": "https://localhost:8080/",
          "height": 295
        },
        "outputId": "9b053262-ce00-4509-d925-f97cd70c9978"
      },
      "source": [
        "# Plot the History of Training Loss (history.history['loss']) and the Validation Loss (history.history['val_loss'])\n",
        "# Title should be \"Model Loss\"\n",
        "# x label: \"Loss\"\n",
        "# y label: \"Epoch\"\n",
        "# Legend: \"Train\" and \"Validation\"\n",
        "graph = plt.plot(range(300), history.history['loss'])\n",
        "graph = plt.plot(range(300), history.history['val_loss'])\n",
        "graph = plt.xlabel('Loss')\n",
        "graph = plt.ylabel('Epoch')\n",
        "graph = plt.title('Model Loss')\n",
        "graph = plt.legend(['Train', 'Validation'])\n",
        "plt.show()"
      ],
      "execution_count": 39,
      "outputs": [
        {
          "output_type": "display_data",
          "data": {
            "image/png": "[encoded data removed]",
            "text/plain": [
              "<Figure size 432x288 with 1 Axes>"
            ]
          },
          "metadata": {
            "tags": []
          }
        }
      ]
    },
    {
      "cell_type": "code",
      "metadata": {
        "id": "QCIWFj6dYPC-",
        "colab_type": "code",
        "colab": {
          "base_uri": "https://localhost:8080/",
          "height": 295
        },
        "outputId": "78ce9433-02c3-4865-9145-bbf8484ab76c"
      },
      "source": [
        "# Plot the History of Training Accuracy (history.history['acc']) and \n",
        "# the Validation Accuracy (history.history['val_acc'])\n",
        "#\n",
        "# Title should be \"Model Accuracy\"\n",
        "# x label: \"Accuracy\"\n",
        "# y label: \"Epoch\"\n",
        "# Legend: \"Train\" and \"Validation\"\n",
        "graph = plt.plot(range(300), history.history['acc'])\n",
        "graph = plt.plot(range(300), history.history['val_acc'])\n",
        "graph = plt.xlabel('Accuracy')\n",
        "graph = plt.ylabel('Epoch')\n",
        "graph = plt.title('Model Accuracy')\n",
        "graph = plt.legend(['Train', 'Validation'])\n",
        "plt.show()"
      ],
      "execution_count": 40,
      "outputs": [
        {
          "output_type": "display_data",
          "data": {
            "image/png": "[encoded data removed]",
            "text/plain": [
              "<Figure size 432x288 with 1 Axes>"
            ]
          },
          "metadata": {
            "tags": []
          }
        }
      ]
    },
    {
      "cell_type": "code",
      "metadata": {
        "id": "vfvI445lYPDY",
        "colab_type": "code",
        "colab": {
          "base_uri": "https://localhost:8080/",
          "height": 35
        },
        "outputId": "9d80c056-cd52-475f-f303-b0fade70e7c3"
      },
      "source": [
        "# Evaluate the loss and accuracy on the test data\n",
        "loss, accuracy = _.evaluate(X_test, y_test)"
      ],
      "execution_count": 41,
      "outputs": [
        {
          "output_type": "stream",
          "text": [
            "116/116 [==============================] - 0s 48us/step\n"
          ],
          "name": "stdout"
        }
      ]
    },
    {
      "cell_type": "code",
      "metadata": {
        "id": "6nn_b-mXYPDs",
        "colab_type": "code",
        "colab": {
          "base_uri": "https://localhost:8080/",
          "height": 54
        },
        "outputId": "2434d62c-6c3d-4bec-bc8e-4d5935beb08b"
      },
      "source": [
        "print('Test score:', loss)\n",
        "print('Test accuracy:', accuracy)"
      ],
      "execution_count": 42,
      "outputs": [
        {
          "output_type": "stream",
          "text": [
            "Test score: 0.5595929694586786\n",
            "Test accuracy: 0.7931034503311947\n"
          ],
          "name": "stdout"
        }
      ]
    },
    {
      "cell_type": "code",
      "metadata": {
        "id": "QekYoQ7IeFpV",
        "colab_type": "code",
        "colab": {}
      },
      "source": [
        ""
      ],
      "execution_count": 0,
      "outputs": []
    }
  ]
}