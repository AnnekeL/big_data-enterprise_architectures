{
 "cells": [
  {
   "cell_type": "markdown",
   "metadata": {},
   "source": [
    "# Web APIs\n",
    "\n",
    "## 1. Consuming Web APIs\n",
    "\n",
    "(Partially adapted from https://www.dataquest.io/blog/python-api-tutorial/)\n",
    "\n",
    "* https://randomuser.me/ is a random user generator \n",
    "*\tIt has an API. Go to https://api.randomuser.me/ with your browser\n",
    "*\tYou get a JSON (JavaScript Object Notation) back. A JSON is similar to a Python dictionary.  \n",
    "*  Refresh the browser\n",
    "*\tYou can add query parameters. They are added to the URL with a ? . You then add then the parameter name = the value. More the one parameter are connected with a & e.g.\n",
    "\thttp://api.open-notify.org/iss-pass.json?lat=37.78&lon=-122.41\n",
    "\n",
    "*\t Go the documentation https://randomuser.me/documentation and check how you can get multiple users and to specify constraints on the output\n",
    "*\tGo to your browser and add parameters to https://api.randomuser.me/ so that you get 5 results of only males from the US\n",
    "\n",
    "Enter the URL of your solution:"
   ]
  },
  {
   "cell_type": "code",
   "execution_count": 2,
   "metadata": {},
   "outputs": [],
   "source": [
    "# TODO: get 5 results of only males from the US\n",
    "# Enter the URL of your solution:\n",
    "url = 'https://randomuser.me/api/?results=5&gender=male&nat=us'"
   ]
  },
  {
   "cell_type": "markdown",
   "metadata": {},
   "source": [
    "* You can also get the data from the command line. Open the command line and write\n",
    "\n",
    "```bash\n",
    "curl -s https://api.randomuser.me/\n",
    "```\n",
    "\n",
    "You can also run Bash commands directly in your Jupyter Notebook with !:"
   ]
  },
  {
   "cell_type": "code",
   "execution_count": 10,
   "metadata": {},
   "outputs": [
    {
     "name": "stdout",
     "output_type": "stream",
     "text": [
      "{\"results\":[{\"gender\":\"female\",\"name\":{\"title\":\"ms\",\"first\":\"savannah\",\"last\":\"white\"},\"location\":{\"street\":\"1540 remuera road\",\"city\":\"lower hutt\",\"state\":\"southland\",\"postcode\":22162,\"coordinates\":{\"latitude\":\"62.7771\",\"longitude\":\"163.9536\"},\"timezone\":{\"offset\":\"-9:00\",\"description\":\"Alaska\"}},\"email\":\"savannah.white@example.com\",\"login\":{\"uuid\":\"ede22b6a-28d7-44ac-8dec-83880ed7568c\",\"username\":\"smallleopard275\",\"password\":\"sweetie\",\"salt\":\"H1DqPYF2\",\"md5\":\"fc052175f2eb1b092cc75e0201110bad\",\"sha1\":\"78aef6460955032aa09c7434e710173abeee87b6\",\"sha256\":\"45dc17a16cabb697aa3043aa0fe3bdf44814bd5e72dc48c5699e780c955579fc\"},\"dob\":{\"date\":\"1972-04-07T18:30:34Z\",\"age\":47},\"registered\":{\"date\":\"2010-08-04T21:38:39Z\",\"age\":8},\"phone\":\"(984)-335-7935\",\"cell\":\"(230)-778-1469\",\"id\":{\"name\":\"\",\"value\":null},\"picture\":{\"large\":\"https://randomuser.me/api/portraits/women/0.jpg\",\"medium\":\"https://randomuser.me/api/portraits/med/women/0.jpg\",\"thumbnail\":\"https://randomuser.me/api/portraits/thumb/women/0.jpg\"},\"nat\":\"NZ\"}],\"info\":{\"seed\":\"4f4a99479ec3dd45\",\"results\":1,\"page\":1,\"version\":\"1.2\"}}\n"
     ]
    }
   ],
   "source": [
    "!curl -s https://api.randomuser.me/"
   ]
  },
  {
   "cell_type": "markdown",
   "metadata": {},
   "source": [
    "* Import the two libraries \n",
    "    * `requests` and \n",
    "    * `json`. \n",
    "\n",
    "You can find the documentation for the requests package here:\n",
    " http://www.python-requests.org/en/latest/ \n",
    " "
   ]
  },
  {
   "cell_type": "code",
   "execution_count": 6,
   "metadata": {},
   "outputs": [],
   "source": [
    "import requests\n",
    "import json"
   ]
  },
  {
   "cell_type": "markdown",
   "metadata": {},
   "source": [
    "* With the requests package you can call a Web API with the URL and the method get"
   ]
  },
  {
   "cell_type": "code",
   "execution_count": 7,
   "metadata": {},
   "outputs": [],
   "source": [
    "response = requests.get(\"https://api.randomuser.me/\")"
   ]
  },
  {
   "cell_type": "markdown",
   "metadata": {},
   "source": [
    "* Print the status code of the request"
   ]
  },
  {
   "cell_type": "code",
   "execution_count": 8,
   "metadata": {},
   "outputs": [
    {
     "name": "stdout",
     "output_type": "stream",
     "text": [
      "200\n"
     ]
    }
   ],
   "source": [
    "print(response.status_code)"
   ]
  },
  {
   "cell_type": "markdown",
   "metadata": {},
   "source": [
    "**The meaning of the status codes are:**\n",
    "* 200: everything went okay, and the result has been returned (if any)\n",
    "* 301: the server is redirecting you to a different endpoint. This can happen when a company switches domain names, or an endpoint name is changed.\n",
    "* 401: the server thinks you're not authenticated. This happens when you don't send the right credentials to access an API.\n",
    "* 400: the server thinks you made a bad request. This can happen when you don't send along the right data, among other things.\n",
    "* 403: the resource you're trying to access is forbidden – you don't have the right permissions to see it.\n",
    "* 404: the resource you tried to access wasn't found on the server.\n"
   ]
  },
  {
   "cell_type": "markdown",
   "metadata": {},
   "source": [
    "You can specify the query parameters for a URL with a Python dictionary like this:\n",
    "```python\n",
    "parameters = {\"lat\": 37.78, \"lon\": -122.41}\n",
    "```\n",
    "\n",
    "And pass the parameter to the request like this\n",
    "```python\n",
    "response = requests.get(\"http://api.open-notify.org/iss-pass.json\", params=parameters)\n",
    "```\n",
    "This is the same as \n",
    "```python\n",
    "response = requests.get(\"http://api.open-notify.org/iss-pass.json?lat=37.78&lon=-122.41\")\n",
    "```\n",
    "\n",
    "Alternatively you could build also the URL with the parameters by yourself with string concatenation. \n",
    "\n",
    "* Get with the request method 10 results of only males from the US.\n",
    "\n"
   ]
  },
  {
   "cell_type": "code",
   "execution_count": 14,
   "metadata": {},
   "outputs": [],
   "source": [
    "# TODO: Get with the request method 10 results of only males from the US.\n",
    "parameters = {\"nat\" : \"us\", \"gender\" : \"male\", \"results\" : 10}\n",
    "response  = requests.get('https://api.randomuser.me/',params=parameters )"
   ]
  },
  {
   "cell_type": "markdown",
   "metadata": {},
   "source": [
    "* You can show the result of the request with the method text"
   ]
  },
  {
   "cell_type": "code",
   "execution_count": 15,
   "metadata": {
    "scrolled": true
   },
   "outputs": [
    {
     "data": {
      "text/plain": [
       "'{\"results\":[{\"gender\":\"male\",\"name\":{\"title\":\"mr\",\"first\":\"herman\",\"last\":\"medina\"},\"location\":{\"street\":\"4914 dogwood ave\",\"city\":\"santa rosa\",\"state\":\"maine\",\"postcode\":51809,\"coordinates\":{\"latitude\":\"65.9555\",\"longitude\":\"-29.0641\"},\"timezone\":{\"offset\":\"-3:00\",\"description\":\"Brazil, Buenos Aires, Georgetown\"}},\"email\":\"herman.medina@example.com\",\"login\":{\"uuid\":\"9572c578-f465-464d-8241-b32484838fa0\",\"username\":\"blackfish189\",\"password\":\"lakota\",\"salt\":\"H9syuAq1\",\"md5\":\"33cdeb7a43f6a1602d9bc73713129ae6\",\"sha1\":\"1815096bb3f6ab88ebabcebe40daee7aca618d4f\",\"sha256\":\"af089d5bb6f64f2531760367fd0cd5cb580562c7c57859bb8c7e7587a729a0cc\"},\"dob\":{\"date\":\"1981-02-03T08:57:48Z\",\"age\":38},\"registered\":{\"date\":\"2005-07-07T03:00:19Z\",\"age\":13},\"phone\":\"(252)-525-9602\",\"cell\":\"(439)-954-4254\",\"id\":{\"name\":\"SSN\",\"value\":\"423-75-2742\"},\"picture\":{\"large\":\"https://randomuser.me/api/portraits/men/14.jpg\",\"medium\":\"https://randomuser.me/api/portraits/med/men/14.jpg\",\"thumbnail\":\"https://randomuser.me/api/portraits/thumb/men/14.jpg\"},\"nat\":\"US\"},{\"gender\":\"male\",\"name\":{\"title\":\"mr\",\"first\":\"leroy\",\"last\":\"bennett\"},\"location\":{\"street\":\"1115 crockett st\",\"city\":\"red bluff\",\"state\":\"rhode island\",\"postcode\":17697,\"coordinates\":{\"latitude\":\"-45.7771\",\"longitude\":\"-9.7173\"},\"timezone\":{\"offset\":\"+5:00\",\"description\":\"Ekaterinburg, Islamabad, Karachi, Tashkent\"}},\"email\":\"leroy.bennett@example.com\",\"login\":{\"uuid\":\"5ee97638-7635-4c83-8733-90a12bc1a976\",\"username\":\"orangeelephant592\",\"password\":\"barrett\",\"salt\":\"NLDxUl6o\",\"md5\":\"46e141c4c4f4c5ac377a95aa7ddfdc5d\",\"sha1\":\"eb052db276032f4f22fd78f3256589d7cffd8979\",\"sha256\":\"e1288f99eb232b9b92aa64d5e162fcd2aef75a02e72eb6d5482ad9732d0d13f2\"},\"dob\":{\"date\":\"1956-11-11T22:53:20Z\",\"age\":62},\"registered\":{\"date\":\"2014-07-04T23:34:59Z\",\"age\":4},\"phone\":\"(615)-931-8399\",\"cell\":\"(570)-940-6664\",\"id\":{\"name\":\"SSN\",\"value\":\"932-03-0166\"},\"picture\":{\"large\":\"https://randomuser.me/api/portraits/men/87.jpg\",\"medium\":\"https://randomuser.me/api/portraits/med/men/87.jpg\",\"thumbnail\":\"https://randomuser.me/api/portraits/thumb/men/87.jpg\"},\"nat\":\"US\"},{\"gender\":\"male\",\"name\":{\"title\":\"mr\",\"first\":\"warren\",\"last\":\"harrison\"},\"location\":{\"street\":\"3767 samaritan dr\",\"city\":\"sterling heights\",\"state\":\"ohio\",\"postcode\":79719,\"coordinates\":{\"latitude\":\"43.6694\",\"longitude\":\"-113.1212\"},\"timezone\":{\"offset\":\"+1:00\",\"description\":\"Brussels, Copenhagen, Madrid, Paris\"}},\"email\":\"warren.harrison@example.com\",\"login\":{\"uuid\":\"e318483c-ea28-4e42-85ef-8b1f60a9a6f5\",\"username\":\"tinyleopard314\",\"password\":\"jockey\",\"salt\":\"wprwazYe\",\"md5\":\"e886462ee36e8d16c4eef339c7bcedfa\",\"sha1\":\"c6fce742e977e314cf7f4116957fa9bac1cb3f0c\",\"sha256\":\"455806c4fcf36ead8d7dcaff6cee45a5130a87ae07d00f1fdf73d1048cebb06a\"},\"dob\":{\"date\":\"1963-10-23T18:16:21Z\",\"age\":55},\"registered\":{\"date\":\"2007-10-29T05:20:34Z\",\"age\":11},\"phone\":\"(086)-216-5418\",\"cell\":\"(250)-733-2162\",\"id\":{\"name\":\"SSN\",\"value\":\"944-71-8856\"},\"picture\":{\"large\":\"https://randomuser.me/api/portraits/men/76.jpg\",\"medium\":\"https://randomuser.me/api/portraits/med/men/76.jpg\",\"thumbnail\":\"https://randomuser.me/api/portraits/thumb/men/76.jpg\"},\"nat\":\"US\"},{\"gender\":\"male\",\"name\":{\"title\":\"mr\",\"first\":\"wesley\",\"last\":\"alexander\"},\"location\":{\"street\":\"6575 westheimer rd\",\"city\":\"boise\",\"state\":\"wisconsin\",\"postcode\":61172,\"coordinates\":{\"latitude\":\"-38.6518\",\"longitude\":\"-160.7652\"},\"timezone\":{\"offset\":\"+4:00\",\"description\":\"Abu Dhabi, Muscat, Baku, Tbilisi\"}},\"email\":\"wesley.alexander@example.com\",\"login\":{\"uuid\":\"411a95f5-76bd-4bc5-b450-6d17d8355c0d\",\"username\":\"crazypanda372\",\"password\":\"dingdong\",\"salt\":\"0HTL7YYp\",\"md5\":\"7016fefb4ee497e8feace643c485f75c\",\"sha1\":\"58c52044c8557d67f7084bea2866f99400dbcdaf\",\"sha256\":\"470bf1a55c69bd027adbe187701dccfb4a4b2f643f97ca243ba963557ec5deb5\"},\"dob\":{\"date\":\"1976-11-25T10:54:07Z\",\"age\":42},\"registered\":{\"date\":\"2017-05-23T02:19:06Z\",\"age\":1},\"phone\":\"(838)-617-4535\",\"cell\":\"(937)-490-3647\",\"id\":{\"name\":\"SSN\",\"value\":\"824-49-0099\"},\"picture\":{\"large\":\"https://randomuser.me/api/portraits/men/2.jpg\",\"medium\":\"https://randomuser.me/api/portraits/med/men/2.jpg\",\"thumbnail\":\"https://randomuser.me/api/portraits/thumb/men/2.jpg\"},\"nat\":\"US\"},{\"gender\":\"male\",\"name\":{\"title\":\"mr\",\"first\":\"lucas\",\"last\":\"simmons\"},\"location\":{\"street\":\"1376 e little york rd\",\"city\":\"birmingham\",\"state\":\"washington\",\"postcode\":51630,\"coordinates\":{\"latitude\":\"19.0866\",\"longitude\":\"-82.0620\"},\"timezone\":{\"offset\":\"+2:00\",\"description\":\"Kaliningrad, South Africa\"}},\"email\":\"lucas.simmons@example.com\",\"login\":{\"uuid\":\"1a862e38-1b56-432a-bf67-c1dd8a0f09af\",\"username\":\"whiterabbit691\",\"password\":\"core\",\"salt\":\"s2tpHETp\",\"md5\":\"edd57e0db70cf87b9db202d6cc9c378c\",\"sha1\":\"e2833e363532e562f729f8599ce274f8bad5a44e\",\"sha256\":\"7901011f43f6a6f5d85120330723535e4b15bc98de3318621bfa52d732f35044\"},\"dob\":{\"date\":\"1976-06-26T20:00:26Z\",\"age\":42},\"registered\":{\"date\":\"2013-12-13T19:06:16Z\",\"age\":5},\"phone\":\"(777)-204-7705\",\"cell\":\"(189)-636-6402\",\"id\":{\"name\":\"SSN\",\"value\":\"795-36-7635\"},\"picture\":{\"large\":\"https://randomuser.me/api/portraits/men/27.jpg\",\"medium\":\"https://randomuser.me/api/portraits/med/men/27.jpg\",\"thumbnail\":\"https://randomuser.me/api/portraits/thumb/men/27.jpg\"},\"nat\":\"US\"},{\"gender\":\"male\",\"name\":{\"title\":\"mr\",\"first\":\"lucas\",\"last\":\"warren\"},\"location\":{\"street\":\"2282 college st\",\"city\":\"huntsville\",\"state\":\"hawaii\",\"postcode\":71878,\"coordinates\":{\"latitude\":\"-72.6711\",\"longitude\":\"166.2023\"},\"timezone\":{\"offset\":\"+5:00\",\"description\":\"Ekaterinburg, Islamabad, Karachi, Tashkent\"}},\"email\":\"lucas.warren@example.com\",\"login\":{\"uuid\":\"9f8b9fcd-344b-449e-8c6e-b2c6969e5b7f\",\"username\":\"greenfish434\",\"password\":\"deadman\",\"salt\":\"4gwIWTZx\",\"md5\":\"4c185d6c3723a513c7adc8ac91534945\",\"sha1\":\"de534ddb2058c5d642973deada0e9ec79f84a8b1\",\"sha256\":\"8a7d192df6f990ba7f08b4cb3ccb93b23f3cc43f88eb5352239da28e20838c5f\"},\"dob\":{\"date\":\"1951-01-14T14:49:04Z\",\"age\":68},\"registered\":{\"date\":\"2016-06-23T01:11:51Z\",\"age\":2},\"phone\":\"(101)-509-7568\",\"cell\":\"(312)-784-9338\",\"id\":{\"name\":\"SSN\",\"value\":\"386-26-7227\"},\"picture\":{\"large\":\"https://randomuser.me/api/portraits/men/47.jpg\",\"medium\":\"https://randomuser.me/api/portraits/med/men/47.jpg\",\"thumbnail\":\"https://randomuser.me/api/portraits/thumb/men/47.jpg\"},\"nat\":\"US\"},{\"gender\":\"male\",\"name\":{\"title\":\"mr\",\"first\":\"franklin\",\"last\":\"mitchell\"},\"location\":{\"street\":\"4916 lone wolf trail\",\"city\":\"mckinney\",\"state\":\"alabama\",\"postcode\":79150,\"coordinates\":{\"latitude\":\"-81.8466\",\"longitude\":\"-65.3867\"},\"timezone\":{\"offset\":\"+1:00\",\"description\":\"Brussels, Copenhagen, Madrid, Paris\"}},\"email\":\"franklin.mitchell@example.com\",\"login\":{\"uuid\":\"a6bd366f-11ff-45ad-8231-e74d5387b34e\",\"username\":\"goldenwolf988\",\"password\":\"kimberly\",\"salt\":\"rCu1YfST\",\"md5\":\"698c5b142cfb2bf5a4ed7bee75367eb6\",\"sha1\":\"5973678d82542cccc78489ab713a022b838249e1\",\"sha256\":\"58eaad7dd69a8877d6df10f14c2dc2bf9eb2a1a8f8359fad4543fc89aea3630b\"},\"dob\":{\"date\":\"1976-11-02T04:30:30Z\",\"age\":42},\"registered\":{\"date\":\"2011-07-08T22:47:28Z\",\"age\":7},\"phone\":\"(124)-370-5647\",\"cell\":\"(101)-367-6980\",\"id\":{\"name\":\"SSN\",\"value\":\"204-69-5421\"},\"picture\":{\"large\":\"https://randomuser.me/api/portraits/men/24.jpg\",\"medium\":\"https://randomuser.me/api/portraits/med/men/24.jpg\",\"thumbnail\":\"https://randomuser.me/api/portraits/thumb/men/24.jpg\"},\"nat\":\"US\"},{\"gender\":\"male\",\"name\":{\"title\":\"mr\",\"first\":\"rodney\",\"last\":\"armstrong\"},\"location\":{\"street\":\"4069 cherry st\",\"city\":\"anaheim\",\"state\":\"montana\",\"postcode\":50230,\"coordinates\":{\"latitude\":\"52.2622\",\"longitude\":\"56.4593\"},\"timezone\":{\"offset\":\"-10:00\",\"description\":\"Hawaii\"}},\"email\":\"rodney.armstrong@example.com\",\"login\":{\"uuid\":\"9b4bcb41-7cb1-482d-ba5a-9603be95aca6\",\"username\":\"brownsnake597\",\"password\":\"mustang2\",\"salt\":\"qWcg6H5B\",\"md5\":\"eb951d5fd74c205fa95860b8990f4cff\",\"sha1\":\"909ab95b81b49e39e554723998667a92dda081c6\",\"sha256\":\"af0172d13d68bf77fcf2b98d0b104ed424b0fbd5ccc740215d1ecdd351b8f4cf\"},\"dob\":{\"date\":\"1989-04-18T08:57:50Z\",\"age\":30},\"registered\":{\"date\":\"2016-10-22T15:16:59Z\",\"age\":2},\"phone\":\"(110)-432-6957\",\"cell\":\"(496)-852-3058\",\"id\":{\"name\":\"SSN\",\"value\":\"332-63-0603\"},\"picture\":{\"large\":\"https://randomuser.me/api/portraits/men/58.jpg\",\"medium\":\"https://randomuser.me/api/portraits/med/men/58.jpg\",\"thumbnail\":\"https://randomuser.me/api/portraits/thumb/men/58.jpg\"},\"nat\":\"US\"},{\"gender\":\"male\",\"name\":{\"title\":\"mr\",\"first\":\"virgil\",\"last\":\"medina\"},\"location\":{\"street\":\"6421 miller ave\",\"city\":\"frederick\",\"state\":\"ohio\",\"postcode\":37846,\"coordinates\":{\"latitude\":\"8.4475\",\"longitude\":\"149.0331\"},\"timezone\":{\"offset\":\"-7:00\",\"description\":\"Mountain Time (US & Canada)\"}},\"email\":\"virgil.medina@example.com\",\"login\":{\"uuid\":\"aea3163b-e158-4cbd-a464-51e721281fb9\",\"username\":\"whiteleopard628\",\"password\":\"united\",\"salt\":\"CNgYOZMy\",\"md5\":\"0062be5c42499f84de73a03d8d76e273\",\"sha1\":\"3cde01d05f79fbe2ee61d9cf098382dd7440fcd2\",\"sha256\":\"2b613ca6957912edf26614681b8a74f6cfd0ec5544cf7721fb558e317a9eba44\"},\"dob\":{\"date\":\"1966-02-16T08:56:38Z\",\"age\":53},\"registered\":{\"date\":\"2005-04-29T13:19:31Z\",\"age\":13},\"phone\":\"(756)-911-3969\",\"cell\":\"(780)-225-5111\",\"id\":{\"name\":\"SSN\",\"value\":\"878-31-1140\"},\"picture\":{\"large\":\"https://randomuser.me/api/portraits/men/73.jpg\",\"medium\":\"https://randomuser.me/api/portraits/med/men/73.jpg\",\"thumbnail\":\"https://randomuser.me/api/portraits/thumb/men/73.jpg\"},\"nat\":\"US\"},{\"gender\":\"male\",\"name\":{\"title\":\"mr\",\"first\":\"chris\",\"last\":\"howell\"},\"location\":{\"street\":\"8006 stevens creek blvd\",\"city\":\"lowell\",\"state\":\"alabama\",\"postcode\":55432,\"coordinates\":{\"latitude\":\"25.7472\",\"longitude\":\"118.1116\"},\"timezone\":{\"offset\":\"+4:00\",\"description\":\"Abu Dhabi, Muscat, Baku, Tbilisi\"}},\"email\":\"chris.howell@example.com\",\"login\":{\"uuid\":\"514bd6f5-4d6d-4a3a-b44c-a5977780c475\",\"username\":\"purpleostrich957\",\"password\":\"things\",\"salt\":\"WuXJ94RY\",\"md5\":\"81d9d7f0cd440b24363d714527b23c1f\",\"sha1\":\"dcb29cf6460cf391e08e9e28077dcbcce40bed80\",\"sha256\":\"4fcdbddd8c95bc7c8e85b1f820a31754b946eddf87880e91c11a0738007d74df\"},\"dob\":{\"date\":\"1964-11-23T23:16:59Z\",\"age\":54},\"registered\":{\"date\":\"2003-03-26T00:55:20Z\",\"age\":16},\"phone\":\"(790)-643-6528\",\"cell\":\"(761)-301-1138\",\"id\":{\"name\":\"SSN\",\"value\":\"081-23-0676\"},\"picture\":{\"large\":\"https://randomuser.me/api/portraits/men/2.jpg\",\"medium\":\"https://randomuser.me/api/portraits/med/men/2.jpg\",\"thumbnail\":\"https://randomuser.me/api/portraits/thumb/men/2.jpg\"},\"nat\":\"US\"}],\"info\":{\"seed\":\"8f15494fbc01d620\",\"results\":10,\"page\":1,\"version\":\"1.2\"}}'"
      ]
     },
     "execution_count": 15,
     "metadata": {},
     "output_type": "execute_result"
    }
   ],
   "source": [
    "response.text"
   ]
  },
  {
   "cell_type": "markdown",
   "metadata": {},
   "source": [
    "* You can convert the data from JSON to a Python dictionary with the package JSON"
   ]
  },
  {
   "cell_type": "code",
   "execution_count": 16,
   "metadata": {},
   "outputs": [],
   "source": [
    "data = json.loads(response.text)"
   ]
  },
  {
   "cell_type": "markdown",
   "metadata": {},
   "source": [
    "* Check the type of variable data"
   ]
  },
  {
   "cell_type": "code",
   "execution_count": 19,
   "metadata": {},
   "outputs": [
    {
     "data": {
      "text/plain": [
       "<function dict.keys>"
      ]
     },
     "execution_count": 19,
     "metadata": {},
     "output_type": "execute_result"
    }
   ],
   "source": [
    "# TODO"
   ]
  },
  {
   "cell_type": "code",
   "execution_count": 20,
   "metadata": {},
   "outputs": [
    {
     "name": "stdout",
     "output_type": "stream",
     "text": [
      "{'results': [{'gender': 'male', 'name': {'title': 'mr', 'first': 'herman', 'last': 'medina'}, 'location': {'street': '4914 dogwood ave', 'city': 'santa rosa', 'state': 'maine', 'postcode': 51809, 'coordinates': {'latitude': '65.9555', 'longitude': '-29.0641'}, 'timezone': {'offset': '-3:00', 'description': 'Brazil, Buenos Aires, Georgetown'}}, 'email': 'herman.medina@example.com', 'login': {'uuid': '9572c578-f465-464d-8241-b32484838fa0', 'username': 'blackfish189', 'password': 'lakota', 'salt': 'H9syuAq1', 'md5': '33cdeb7a43f6a1602d9bc73713129ae6', 'sha1': '1815096bb3f6ab88ebabcebe40daee7aca618d4f', 'sha256': 'af089d5bb6f64f2531760367fd0cd5cb580562c7c57859bb8c7e7587a729a0cc'}, 'dob': {'date': '1981-02-03T08:57:48Z', 'age': 38}, 'registered': {'date': '2005-07-07T03:00:19Z', 'age': 13}, 'phone': '(252)-525-9602', 'cell': '(439)-954-4254', 'id': {'name': 'SSN', 'value': '423-75-2742'}, 'picture': {'large': 'https://randomuser.me/api/portraits/men/14.jpg', 'medium': 'https://randomuser.me/api/portraits/med/men/14.jpg', 'thumbnail': 'https://randomuser.me/api/portraits/thumb/men/14.jpg'}, 'nat': 'US'}, {'gender': 'male', 'name': {'title': 'mr', 'first': 'leroy', 'last': 'bennett'}, 'location': {'street': '1115 crockett st', 'city': 'red bluff', 'state': 'rhode island', 'postcode': 17697, 'coordinates': {'latitude': '-45.7771', 'longitude': '-9.7173'}, 'timezone': {'offset': '+5:00', 'description': 'Ekaterinburg, Islamabad, Karachi, Tashkent'}}, 'email': 'leroy.bennett@example.com', 'login': {'uuid': '5ee97638-7635-4c83-8733-90a12bc1a976', 'username': 'orangeelephant592', 'password': 'barrett', 'salt': 'NLDxUl6o', 'md5': '46e141c4c4f4c5ac377a95aa7ddfdc5d', 'sha1': 'eb052db276032f4f22fd78f3256589d7cffd8979', 'sha256': 'e1288f99eb232b9b92aa64d5e162fcd2aef75a02e72eb6d5482ad9732d0d13f2'}, 'dob': {'date': '1956-11-11T22:53:20Z', 'age': 62}, 'registered': {'date': '2014-07-04T23:34:59Z', 'age': 4}, 'phone': '(615)-931-8399', 'cell': '(570)-940-6664', 'id': {'name': 'SSN', 'value': '932-03-0166'}, 'picture': {'large': 'https://randomuser.me/api/portraits/men/87.jpg', 'medium': 'https://randomuser.me/api/portraits/med/men/87.jpg', 'thumbnail': 'https://randomuser.me/api/portraits/thumb/men/87.jpg'}, 'nat': 'US'}, {'gender': 'male', 'name': {'title': 'mr', 'first': 'warren', 'last': 'harrison'}, 'location': {'street': '3767 samaritan dr', 'city': 'sterling heights', 'state': 'ohio', 'postcode': 79719, 'coordinates': {'latitude': '43.6694', 'longitude': '-113.1212'}, 'timezone': {'offset': '+1:00', 'description': 'Brussels, Copenhagen, Madrid, Paris'}}, 'email': 'warren.harrison@example.com', 'login': {'uuid': 'e318483c-ea28-4e42-85ef-8b1f60a9a6f5', 'username': 'tinyleopard314', 'password': 'jockey', 'salt': 'wprwazYe', 'md5': 'e886462ee36e8d16c4eef339c7bcedfa', 'sha1': 'c6fce742e977e314cf7f4116957fa9bac1cb3f0c', 'sha256': '455806c4fcf36ead8d7dcaff6cee45a5130a87ae07d00f1fdf73d1048cebb06a'}, 'dob': {'date': '1963-10-23T18:16:21Z', 'age': 55}, 'registered': {'date': '2007-10-29T05:20:34Z', 'age': 11}, 'phone': '(086)-216-5418', 'cell': '(250)-733-2162', 'id': {'name': 'SSN', 'value': '944-71-8856'}, 'picture': {'large': 'https://randomuser.me/api/portraits/men/76.jpg', 'medium': 'https://randomuser.me/api/portraits/med/men/76.jpg', 'thumbnail': 'https://randomuser.me/api/portraits/thumb/men/76.jpg'}, 'nat': 'US'}, {'gender': 'male', 'name': {'title': 'mr', 'first': 'wesley', 'last': 'alexander'}, 'location': {'street': '6575 westheimer rd', 'city': 'boise', 'state': 'wisconsin', 'postcode': 61172, 'coordinates': {'latitude': '-38.6518', 'longitude': '-160.7652'}, 'timezone': {'offset': '+4:00', 'description': 'Abu Dhabi, Muscat, Baku, Tbilisi'}}, 'email': 'wesley.alexander@example.com', 'login': {'uuid': '411a95f5-76bd-4bc5-b450-6d17d8355c0d', 'username': 'crazypanda372', 'password': 'dingdong', 'salt': '0HTL7YYp', 'md5': '7016fefb4ee497e8feace643c485f75c', 'sha1': '58c52044c8557d67f7084bea2866f99400dbcdaf', 'sha256': '470bf1a55c69bd027adbe187701dccfb4a4b2f643f97ca243ba963557ec5deb5'}, 'dob': {'date': '1976-11-25T10:54:07Z', 'age': 42}, 'registered': {'date': '2017-05-23T02:19:06Z', 'age': 1}, 'phone': '(838)-617-4535', 'cell': '(937)-490-3647', 'id': {'name': 'SSN', 'value': '824-49-0099'}, 'picture': {'large': 'https://randomuser.me/api/portraits/men/2.jpg', 'medium': 'https://randomuser.me/api/portraits/med/men/2.jpg', 'thumbnail': 'https://randomuser.me/api/portraits/thumb/men/2.jpg'}, 'nat': 'US'}, {'gender': 'male', 'name': {'title': 'mr', 'first': 'lucas', 'last': 'simmons'}, 'location': {'street': '1376 e little york rd', 'city': 'birmingham', 'state': 'washington', 'postcode': 51630, 'coordinates': {'latitude': '19.0866', 'longitude': '-82.0620'}, 'timezone': {'offset': '+2:00', 'description': 'Kaliningrad, South Africa'}}, 'email': 'lucas.simmons@example.com', 'login': {'uuid': '1a862e38-1b56-432a-bf67-c1dd8a0f09af', 'username': 'whiterabbit691', 'password': 'core', 'salt': 's2tpHETp', 'md5': 'edd57e0db70cf87b9db202d6cc9c378c', 'sha1': 'e2833e363532e562f729f8599ce274f8bad5a44e', 'sha256': '7901011f43f6a6f5d85120330723535e4b15bc98de3318621bfa52d732f35044'}, 'dob': {'date': '1976-06-26T20:00:26Z', 'age': 42}, 'registered': {'date': '2013-12-13T19:06:16Z', 'age': 5}, 'phone': '(777)-204-7705', 'cell': '(189)-636-6402', 'id': {'name': 'SSN', 'value': '795-36-7635'}, 'picture': {'large': 'https://randomuser.me/api/portraits/men/27.jpg', 'medium': 'https://randomuser.me/api/portraits/med/men/27.jpg', 'thumbnail': 'https://randomuser.me/api/portraits/thumb/men/27.jpg'}, 'nat': 'US'}, {'gender': 'male', 'name': {'title': 'mr', 'first': 'lucas', 'last': 'warren'}, 'location': {'street': '2282 college st', 'city': 'huntsville', 'state': 'hawaii', 'postcode': 71878, 'coordinates': {'latitude': '-72.6711', 'longitude': '166.2023'}, 'timezone': {'offset': '+5:00', 'description': 'Ekaterinburg, Islamabad, Karachi, Tashkent'}}, 'email': 'lucas.warren@example.com', 'login': {'uuid': '9f8b9fcd-344b-449e-8c6e-b2c6969e5b7f', 'username': 'greenfish434', 'password': 'deadman', 'salt': '4gwIWTZx', 'md5': '4c185d6c3723a513c7adc8ac91534945', 'sha1': 'de534ddb2058c5d642973deada0e9ec79f84a8b1', 'sha256': '8a7d192df6f990ba7f08b4cb3ccb93b23f3cc43f88eb5352239da28e20838c5f'}, 'dob': {'date': '1951-01-14T14:49:04Z', 'age': 68}, 'registered': {'date': '2016-06-23T01:11:51Z', 'age': 2}, 'phone': '(101)-509-7568', 'cell': '(312)-784-9338', 'id': {'name': 'SSN', 'value': '386-26-7227'}, 'picture': {'large': 'https://randomuser.me/api/portraits/men/47.jpg', 'medium': 'https://randomuser.me/api/portraits/med/men/47.jpg', 'thumbnail': 'https://randomuser.me/api/portraits/thumb/men/47.jpg'}, 'nat': 'US'}, {'gender': 'male', 'name': {'title': 'mr', 'first': 'franklin', 'last': 'mitchell'}, 'location': {'street': '4916 lone wolf trail', 'city': 'mckinney', 'state': 'alabama', 'postcode': 79150, 'coordinates': {'latitude': '-81.8466', 'longitude': '-65.3867'}, 'timezone': {'offset': '+1:00', 'description': 'Brussels, Copenhagen, Madrid, Paris'}}, 'email': 'franklin.mitchell@example.com', 'login': {'uuid': 'a6bd366f-11ff-45ad-8231-e74d5387b34e', 'username': 'goldenwolf988', 'password': 'kimberly', 'salt': 'rCu1YfST', 'md5': '698c5b142cfb2bf5a4ed7bee75367eb6', 'sha1': '5973678d82542cccc78489ab713a022b838249e1', 'sha256': '58eaad7dd69a8877d6df10f14c2dc2bf9eb2a1a8f8359fad4543fc89aea3630b'}, 'dob': {'date': '1976-11-02T04:30:30Z', 'age': 42}, 'registered': {'date': '2011-07-08T22:47:28Z', 'age': 7}, 'phone': '(124)-370-5647', 'cell': '(101)-367-6980', 'id': {'name': 'SSN', 'value': '204-69-5421'}, 'picture': {'large': 'https://randomuser.me/api/portraits/men/24.jpg', 'medium': 'https://randomuser.me/api/portraits/med/men/24.jpg', 'thumbnail': 'https://randomuser.me/api/portraits/thumb/men/24.jpg'}, 'nat': 'US'}, {'gender': 'male', 'name': {'title': 'mr', 'first': 'rodney', 'last': 'armstrong'}, 'location': {'street': '4069 cherry st', 'city': 'anaheim', 'state': 'montana', 'postcode': 50230, 'coordinates': {'latitude': '52.2622', 'longitude': '56.4593'}, 'timezone': {'offset': '-10:00', 'description': 'Hawaii'}}, 'email': 'rodney.armstrong@example.com', 'login': {'uuid': '9b4bcb41-7cb1-482d-ba5a-9603be95aca6', 'username': 'brownsnake597', 'password': 'mustang2', 'salt': 'qWcg6H5B', 'md5': 'eb951d5fd74c205fa95860b8990f4cff', 'sha1': '909ab95b81b49e39e554723998667a92dda081c6', 'sha256': 'af0172d13d68bf77fcf2b98d0b104ed424b0fbd5ccc740215d1ecdd351b8f4cf'}, 'dob': {'date': '1989-04-18T08:57:50Z', 'age': 30}, 'registered': {'date': '2016-10-22T15:16:59Z', 'age': 2}, 'phone': '(110)-432-6957', 'cell': '(496)-852-3058', 'id': {'name': 'SSN', 'value': '332-63-0603'}, 'picture': {'large': 'https://randomuser.me/api/portraits/men/58.jpg', 'medium': 'https://randomuser.me/api/portraits/med/men/58.jpg', 'thumbnail': 'https://randomuser.me/api/portraits/thumb/men/58.jpg'}, 'nat': 'US'}, {'gender': 'male', 'name': {'title': 'mr', 'first': 'virgil', 'last': 'medina'}, 'location': {'street': '6421 miller ave', 'city': 'frederick', 'state': 'ohio', 'postcode': 37846, 'coordinates': {'latitude': '8.4475', 'longitude': '149.0331'}, 'timezone': {'offset': '-7:00', 'description': 'Mountain Time (US & Canada)'}}, 'email': 'virgil.medina@example.com', 'login': {'uuid': 'aea3163b-e158-4cbd-a464-51e721281fb9', 'username': 'whiteleopard628', 'password': 'united', 'salt': 'CNgYOZMy', 'md5': '0062be5c42499f84de73a03d8d76e273', 'sha1': '3cde01d05f79fbe2ee61d9cf098382dd7440fcd2', 'sha256': '2b613ca6957912edf26614681b8a74f6cfd0ec5544cf7721fb558e317a9eba44'}, 'dob': {'date': '1966-02-16T08:56:38Z', 'age': 53}, 'registered': {'date': '2005-04-29T13:19:31Z', 'age': 13}, 'phone': '(756)-911-3969', 'cell': '(780)-225-5111', 'id': {'name': 'SSN', 'value': '878-31-1140'}, 'picture': {'large': 'https://randomuser.me/api/portraits/men/73.jpg', 'medium': 'https://randomuser.me/api/portraits/med/men/73.jpg', 'thumbnail': 'https://randomuser.me/api/portraits/thumb/men/73.jpg'}, 'nat': 'US'}, {'gender': 'male', 'name': {'title': 'mr', 'first': 'chris', 'last': 'howell'}, 'location': {'street': '8006 stevens creek blvd', 'city': 'lowell', 'state': 'alabama', 'postcode': 55432, 'coordinates': {'latitude': '25.7472', 'longitude': '118.1116'}, 'timezone': {'offset': '+4:00', 'description': 'Abu Dhabi, Muscat, Baku, Tbilisi'}}, 'email': 'chris.howell@example.com', 'login': {'uuid': '514bd6f5-4d6d-4a3a-b44c-a5977780c475', 'username': 'purpleostrich957', 'password': 'things', 'salt': 'WuXJ94RY', 'md5': '81d9d7f0cd440b24363d714527b23c1f', 'sha1': 'dcb29cf6460cf391e08e9e28077dcbcce40bed80', 'sha256': '4fcdbddd8c95bc7c8e85b1f820a31754b946eddf87880e91c11a0738007d74df'}, 'dob': {'date': '1964-11-23T23:16:59Z', 'age': 54}, 'registered': {'date': '2003-03-26T00:55:20Z', 'age': 16}, 'phone': '(790)-643-6528', 'cell': '(761)-301-1138', 'id': {'name': 'SSN', 'value': '081-23-0676'}, 'picture': {'large': 'https://randomuser.me/api/portraits/men/2.jpg', 'medium': 'https://randomuser.me/api/portraits/med/men/2.jpg', 'thumbnail': 'https://randomuser.me/api/portraits/thumb/men/2.jpg'}, 'nat': 'US'}], 'info': {'seed': '8f15494fbc01d620', 'results': 10, 'page': 1, 'version': '1.2'}}\n"
     ]
    }
   ],
   "source": [
    "print(data)"
   ]
  },
  {
   "cell_type": "markdown",
   "metadata": {},
   "source": [
    "* *pretty-print* (pprint) prints complex data structures like dictionary prettier.  https://docs.python.org/3/library/pprint.html "
   ]
  },
  {
   "cell_type": "code",
   "execution_count": 21,
   "metadata": {},
   "outputs": [
    {
     "name": "stdout",
     "output_type": "stream",
     "text": [
      "{'info': {'page': 1,\n",
      "          'results': 10,\n",
      "          'seed': '8f15494fbc01d620',\n",
      "          'version': '1.2'},\n",
      " 'results': [{'cell': '(439)-954-4254',\n",
      "              'dob': {'age': 38, 'date': '1981-02-03T08:57:48Z'},\n",
      "              'email': 'herman.medina@example.com',\n",
      "              'gender': 'male',\n",
      "              'id': {'name': 'SSN', 'value': '423-75-2742'},\n",
      "              'location': {'city': 'santa rosa',\n",
      "                           'coordinates': {'latitude': '65.9555',\n",
      "                                           'longitude': '-29.0641'},\n",
      "                           'postcode': 51809,\n",
      "                           'state': 'maine',\n",
      "                           'street': '4914 dogwood ave',\n",
      "                           'timezone': {'description': 'Brazil, Buenos Aires, '\n",
      "                                                       'Georgetown',\n",
      "                                        'offset': '-3:00'}},\n",
      "              'login': {'md5': '33cdeb7a43f6a1602d9bc73713129ae6',\n",
      "                        'password': 'lakota',\n",
      "                        'salt': 'H9syuAq1',\n",
      "                        'sha1': '1815096bb3f6ab88ebabcebe40daee7aca618d4f',\n",
      "                        'sha256': 'af089d5bb6f64f2531760367fd0cd5cb580562c7c57859bb8c7e7587a729a0cc',\n",
      "                        'username': 'blackfish189',\n",
      "                        'uuid': '9572c578-f465-464d-8241-b32484838fa0'},\n",
      "              'name': {'first': 'herman', 'last': 'medina', 'title': 'mr'},\n",
      "              'nat': 'US',\n",
      "              'phone': '(252)-525-9602',\n",
      "              'picture': {'large': 'https://randomuser.me/api/portraits/men/14.jpg',\n",
      "                          'medium': 'https://randomuser.me/api/portraits/med/men/14.jpg',\n",
      "                          'thumbnail': 'https://randomuser.me/api/portraits/thumb/men/14.jpg'},\n",
      "              'registered': {'age': 13, 'date': '2005-07-07T03:00:19Z'}},\n",
      "             {'cell': '(570)-940-6664',\n",
      "              'dob': {'age': 62, 'date': '1956-11-11T22:53:20Z'},\n",
      "              'email': 'leroy.bennett@example.com',\n",
      "              'gender': 'male',\n",
      "              'id': {'name': 'SSN', 'value': '932-03-0166'},\n",
      "              'location': {'city': 'red bluff',\n",
      "                           'coordinates': {'latitude': '-45.7771',\n",
      "                                           'longitude': '-9.7173'},\n",
      "                           'postcode': 17697,\n",
      "                           'state': 'rhode island',\n",
      "                           'street': '1115 crockett st',\n",
      "                           'timezone': {'description': 'Ekaterinburg, '\n",
      "                                                       'Islamabad, Karachi, '\n",
      "                                                       'Tashkent',\n",
      "                                        'offset': '+5:00'}},\n",
      "              'login': {'md5': '46e141c4c4f4c5ac377a95aa7ddfdc5d',\n",
      "                        'password': 'barrett',\n",
      "                        'salt': 'NLDxUl6o',\n",
      "                        'sha1': 'eb052db276032f4f22fd78f3256589d7cffd8979',\n",
      "                        'sha256': 'e1288f99eb232b9b92aa64d5e162fcd2aef75a02e72eb6d5482ad9732d0d13f2',\n",
      "                        'username': 'orangeelephant592',\n",
      "                        'uuid': '5ee97638-7635-4c83-8733-90a12bc1a976'},\n",
      "              'name': {'first': 'leroy', 'last': 'bennett', 'title': 'mr'},\n",
      "              'nat': 'US',\n",
      "              'phone': '(615)-931-8399',\n",
      "              'picture': {'large': 'https://randomuser.me/api/portraits/men/87.jpg',\n",
      "                          'medium': 'https://randomuser.me/api/portraits/med/men/87.jpg',\n",
      "                          'thumbnail': 'https://randomuser.me/api/portraits/thumb/men/87.jpg'},\n",
      "              'registered': {'age': 4, 'date': '2014-07-04T23:34:59Z'}},\n",
      "             {'cell': '(250)-733-2162',\n",
      "              'dob': {'age': 55, 'date': '1963-10-23T18:16:21Z'},\n",
      "              'email': 'warren.harrison@example.com',\n",
      "              'gender': 'male',\n",
      "              'id': {'name': 'SSN', 'value': '944-71-8856'},\n",
      "              'location': {'city': 'sterling heights',\n",
      "                           'coordinates': {'latitude': '43.6694',\n",
      "                                           'longitude': '-113.1212'},\n",
      "                           'postcode': 79719,\n",
      "                           'state': 'ohio',\n",
      "                           'street': '3767 samaritan dr',\n",
      "                           'timezone': {'description': 'Brussels, Copenhagen, '\n",
      "                                                       'Madrid, Paris',\n",
      "                                        'offset': '+1:00'}},\n",
      "              'login': {'md5': 'e886462ee36e8d16c4eef339c7bcedfa',\n",
      "                        'password': 'jockey',\n",
      "                        'salt': 'wprwazYe',\n",
      "                        'sha1': 'c6fce742e977e314cf7f4116957fa9bac1cb3f0c',\n",
      "                        'sha256': '455806c4fcf36ead8d7dcaff6cee45a5130a87ae07d00f1fdf73d1048cebb06a',\n",
      "                        'username': 'tinyleopard314',\n",
      "                        'uuid': 'e318483c-ea28-4e42-85ef-8b1f60a9a6f5'},\n",
      "              'name': {'first': 'warren', 'last': 'harrison', 'title': 'mr'},\n",
      "              'nat': 'US',\n",
      "              'phone': '(086)-216-5418',\n",
      "              'picture': {'large': 'https://randomuser.me/api/portraits/men/76.jpg',\n",
      "                          'medium': 'https://randomuser.me/api/portraits/med/men/76.jpg',\n",
      "                          'thumbnail': 'https://randomuser.me/api/portraits/thumb/men/76.jpg'},\n",
      "              'registered': {'age': 11, 'date': '2007-10-29T05:20:34Z'}},\n",
      "             {'cell': '(937)-490-3647',\n",
      "              'dob': {'age': 42, 'date': '1976-11-25T10:54:07Z'},\n",
      "              'email': 'wesley.alexander@example.com',\n",
      "              'gender': 'male',\n",
      "              'id': {'name': 'SSN', 'value': '824-49-0099'},\n",
      "              'location': {'city': 'boise',\n",
      "                           'coordinates': {'latitude': '-38.6518',\n",
      "                                           'longitude': '-160.7652'},\n",
      "                           'postcode': 61172,\n",
      "                           'state': 'wisconsin',\n",
      "                           'street': '6575 westheimer rd',\n",
      "                           'timezone': {'description': 'Abu Dhabi, Muscat, '\n",
      "                                                       'Baku, Tbilisi',\n",
      "                                        'offset': '+4:00'}},\n",
      "              'login': {'md5': '7016fefb4ee497e8feace643c485f75c',\n",
      "                        'password': 'dingdong',\n",
      "                        'salt': '0HTL7YYp',\n",
      "                        'sha1': '58c52044c8557d67f7084bea2866f99400dbcdaf',\n",
      "                        'sha256': '470bf1a55c69bd027adbe187701dccfb4a4b2f643f97ca243ba963557ec5deb5',\n",
      "                        'username': 'crazypanda372',\n",
      "                        'uuid': '411a95f5-76bd-4bc5-b450-6d17d8355c0d'},\n",
      "              'name': {'first': 'wesley', 'last': 'alexander', 'title': 'mr'},\n",
      "              'nat': 'US',\n",
      "              'phone': '(838)-617-4535',\n",
      "              'picture': {'large': 'https://randomuser.me/api/portraits/men/2.jpg',\n",
      "                          'medium': 'https://randomuser.me/api/portraits/med/men/2.jpg',\n",
      "                          'thumbnail': 'https://randomuser.me/api/portraits/thumb/men/2.jpg'},\n",
      "              'registered': {'age': 1, 'date': '2017-05-23T02:19:06Z'}},\n",
      "             {'cell': '(189)-636-6402',\n",
      "              'dob': {'age': 42, 'date': '1976-06-26T20:00:26Z'},\n",
      "              'email': 'lucas.simmons@example.com',\n",
      "              'gender': 'male',\n",
      "              'id': {'name': 'SSN', 'value': '795-36-7635'},\n",
      "              'location': {'city': 'birmingham',\n",
      "                           'coordinates': {'latitude': '19.0866',\n",
      "                                           'longitude': '-82.0620'},\n",
      "                           'postcode': 51630,\n",
      "                           'state': 'washington',\n",
      "                           'street': '1376 e little york rd',\n",
      "                           'timezone': {'description': 'Kaliningrad, South '\n",
      "                                                       'Africa',\n",
      "                                        'offset': '+2:00'}},\n",
      "              'login': {'md5': 'edd57e0db70cf87b9db202d6cc9c378c',\n",
      "                        'password': 'core',\n",
      "                        'salt': 's2tpHETp',\n",
      "                        'sha1': 'e2833e363532e562f729f8599ce274f8bad5a44e',\n",
      "                        'sha256': '7901011f43f6a6f5d85120330723535e4b15bc98de3318621bfa52d732f35044',\n",
      "                        'username': 'whiterabbit691',\n",
      "                        'uuid': '1a862e38-1b56-432a-bf67-c1dd8a0f09af'},\n",
      "              'name': {'first': 'lucas', 'last': 'simmons', 'title': 'mr'},\n",
      "              'nat': 'US',\n",
      "              'phone': '(777)-204-7705',\n",
      "              'picture': {'large': 'https://randomuser.me/api/portraits/men/27.jpg',\n",
      "                          'medium': 'https://randomuser.me/api/portraits/med/men/27.jpg',\n",
      "                          'thumbnail': 'https://randomuser.me/api/portraits/thumb/men/27.jpg'},\n",
      "              'registered': {'age': 5, 'date': '2013-12-13T19:06:16Z'}},\n",
      "             {'cell': '(312)-784-9338',\n",
      "              'dob': {'age': 68, 'date': '1951-01-14T14:49:04Z'},\n",
      "              'email': 'lucas.warren@example.com',\n",
      "              'gender': 'male',\n",
      "              'id': {'name': 'SSN', 'value': '386-26-7227'},\n",
      "              'location': {'city': 'huntsville',\n",
      "                           'coordinates': {'latitude': '-72.6711',\n",
      "                                           'longitude': '166.2023'},\n",
      "                           'postcode': 71878,\n",
      "                           'state': 'hawaii',\n",
      "                           'street': '2282 college st',\n",
      "                           'timezone': {'description': 'Ekaterinburg, '\n",
      "                                                       'Islamabad, Karachi, '\n",
      "                                                       'Tashkent',\n",
      "                                        'offset': '+5:00'}},\n",
      "              'login': {'md5': '4c185d6c3723a513c7adc8ac91534945',\n",
      "                        'password': 'deadman',\n",
      "                        'salt': '4gwIWTZx',\n",
      "                        'sha1': 'de534ddb2058c5d642973deada0e9ec79f84a8b1',\n",
      "                        'sha256': '8a7d192df6f990ba7f08b4cb3ccb93b23f3cc43f88eb5352239da28e20838c5f',\n",
      "                        'username': 'greenfish434',\n",
      "                        'uuid': '9f8b9fcd-344b-449e-8c6e-b2c6969e5b7f'},\n",
      "              'name': {'first': 'lucas', 'last': 'warren', 'title': 'mr'},\n",
      "              'nat': 'US',\n",
      "              'phone': '(101)-509-7568',\n",
      "              'picture': {'large': 'https://randomuser.me/api/portraits/men/47.jpg',\n",
      "                          'medium': 'https://randomuser.me/api/portraits/med/men/47.jpg',\n",
      "                          'thumbnail': 'https://randomuser.me/api/portraits/thumb/men/47.jpg'},\n",
      "              'registered': {'age': 2, 'date': '2016-06-23T01:11:51Z'}},\n",
      "             {'cell': '(101)-367-6980',\n",
      "              'dob': {'age': 42, 'date': '1976-11-02T04:30:30Z'},\n",
      "              'email': 'franklin.mitchell@example.com',\n",
      "              'gender': 'male',\n",
      "              'id': {'name': 'SSN', 'value': '204-69-5421'},\n",
      "              'location': {'city': 'mckinney',\n",
      "                           'coordinates': {'latitude': '-81.8466',\n",
      "                                           'longitude': '-65.3867'},\n",
      "                           'postcode': 79150,\n",
      "                           'state': 'alabama',\n",
      "                           'street': '4916 lone wolf trail',\n",
      "                           'timezone': {'description': 'Brussels, Copenhagen, '\n",
      "                                                       'Madrid, Paris',\n",
      "                                        'offset': '+1:00'}},\n",
      "              'login': {'md5': '698c5b142cfb2bf5a4ed7bee75367eb6',\n",
      "                        'password': 'kimberly',\n",
      "                        'salt': 'rCu1YfST',\n",
      "                        'sha1': '5973678d82542cccc78489ab713a022b838249e1',\n",
      "                        'sha256': '58eaad7dd69a8877d6df10f14c2dc2bf9eb2a1a8f8359fad4543fc89aea3630b',\n",
      "                        'username': 'goldenwolf988',\n",
      "                        'uuid': 'a6bd366f-11ff-45ad-8231-e74d5387b34e'},\n",
      "              'name': {'first': 'franklin', 'last': 'mitchell', 'title': 'mr'},\n",
      "              'nat': 'US',\n",
      "              'phone': '(124)-370-5647',\n",
      "              'picture': {'large': 'https://randomuser.me/api/portraits/men/24.jpg',\n",
      "                          'medium': 'https://randomuser.me/api/portraits/med/men/24.jpg',\n",
      "                          'thumbnail': 'https://randomuser.me/api/portraits/thumb/men/24.jpg'},\n",
      "              'registered': {'age': 7, 'date': '2011-07-08T22:47:28Z'}},\n",
      "             {'cell': '(496)-852-3058',\n",
      "              'dob': {'age': 30, 'date': '1989-04-18T08:57:50Z'},\n",
      "              'email': 'rodney.armstrong@example.com',\n",
      "              'gender': 'male',\n",
      "              'id': {'name': 'SSN', 'value': '332-63-0603'},\n",
      "              'location': {'city': 'anaheim',\n",
      "                           'coordinates': {'latitude': '52.2622',\n",
      "                                           'longitude': '56.4593'},\n",
      "                           'postcode': 50230,\n",
      "                           'state': 'montana',\n",
      "                           'street': '4069 cherry st',\n",
      "                           'timezone': {'description': 'Hawaii',\n",
      "                                        'offset': '-10:00'}},\n",
      "              'login': {'md5': 'eb951d5fd74c205fa95860b8990f4cff',\n",
      "                        'password': 'mustang2',\n",
      "                        'salt': 'qWcg6H5B',\n",
      "                        'sha1': '909ab95b81b49e39e554723998667a92dda081c6',\n",
      "                        'sha256': 'af0172d13d68bf77fcf2b98d0b104ed424b0fbd5ccc740215d1ecdd351b8f4cf',\n",
      "                        'username': 'brownsnake597',\n",
      "                        'uuid': '9b4bcb41-7cb1-482d-ba5a-9603be95aca6'},\n",
      "              'name': {'first': 'rodney', 'last': 'armstrong', 'title': 'mr'},\n",
      "              'nat': 'US',\n",
      "              'phone': '(110)-432-6957',\n",
      "              'picture': {'large': 'https://randomuser.me/api/portraits/men/58.jpg',\n",
      "                          'medium': 'https://randomuser.me/api/portraits/med/men/58.jpg',\n",
      "                          'thumbnail': 'https://randomuser.me/api/portraits/thumb/men/58.jpg'},\n",
      "              'registered': {'age': 2, 'date': '2016-10-22T15:16:59Z'}},\n",
      "             {'cell': '(780)-225-5111',\n",
      "              'dob': {'age': 53, 'date': '1966-02-16T08:56:38Z'},\n",
      "              'email': 'virgil.medina@example.com',\n",
      "              'gender': 'male',\n",
      "              'id': {'name': 'SSN', 'value': '878-31-1140'},\n",
      "              'location': {'city': 'frederick',\n",
      "                           'coordinates': {'latitude': '8.4475',\n",
      "                                           'longitude': '149.0331'},\n",
      "                           'postcode': 37846,\n",
      "                           'state': 'ohio',\n",
      "                           'street': '6421 miller ave',\n",
      "                           'timezone': {'description': 'Mountain Time (US & '\n",
      "                                                       'Canada)',\n",
      "                                        'offset': '-7:00'}},\n",
      "              'login': {'md5': '0062be5c42499f84de73a03d8d76e273',\n",
      "                        'password': 'united',\n",
      "                        'salt': 'CNgYOZMy',\n",
      "                        'sha1': '3cde01d05f79fbe2ee61d9cf098382dd7440fcd2',\n",
      "                        'sha256': '2b613ca6957912edf26614681b8a74f6cfd0ec5544cf7721fb558e317a9eba44',\n",
      "                        'username': 'whiteleopard628',\n",
      "                        'uuid': 'aea3163b-e158-4cbd-a464-51e721281fb9'},\n",
      "              'name': {'first': 'virgil', 'last': 'medina', 'title': 'mr'},\n",
      "              'nat': 'US',\n",
      "              'phone': '(756)-911-3969',\n",
      "              'picture': {'large': 'https://randomuser.me/api/portraits/men/73.jpg',\n",
      "                          'medium': 'https://randomuser.me/api/portraits/med/men/73.jpg',\n",
      "                          'thumbnail': 'https://randomuser.me/api/portraits/thumb/men/73.jpg'},\n",
      "              'registered': {'age': 13, 'date': '2005-04-29T13:19:31Z'}},\n",
      "             {'cell': '(761)-301-1138',\n",
      "              'dob': {'age': 54, 'date': '1964-11-23T23:16:59Z'},\n",
      "              'email': 'chris.howell@example.com',\n",
      "              'gender': 'male',\n",
      "              'id': {'name': 'SSN', 'value': '081-23-0676'},\n",
      "              'location': {'city': 'lowell',\n",
      "                           'coordinates': {'latitude': '25.7472',\n",
      "                                           'longitude': '118.1116'},\n",
      "                           'postcode': 55432,\n",
      "                           'state': 'alabama',\n",
      "                           'street': '8006 stevens creek blvd',\n",
      "                           'timezone': {'description': 'Abu Dhabi, Muscat, '\n",
      "                                                       'Baku, Tbilisi',\n",
      "                                        'offset': '+4:00'}},\n",
      "              'login': {'md5': '81d9d7f0cd440b24363d714527b23c1f',\n",
      "                        'password': 'things',\n",
      "                        'salt': 'WuXJ94RY',\n",
      "                        'sha1': 'dcb29cf6460cf391e08e9e28077dcbcce40bed80',\n",
      "                        'sha256': '4fcdbddd8c95bc7c8e85b1f820a31754b946eddf87880e91c11a0738007d74df',\n",
      "                        'username': 'purpleostrich957',\n",
      "                        'uuid': '514bd6f5-4d6d-4a3a-b44c-a5977780c475'},\n",
      "              'name': {'first': 'chris', 'last': 'howell', 'title': 'mr'},\n",
      "              'nat': 'US',\n",
      "              'phone': '(790)-643-6528',\n",
      "              'picture': {'large': 'https://randomuser.me/api/portraits/men/2.jpg',\n",
      "                          'medium': 'https://randomuser.me/api/portraits/med/men/2.jpg',\n",
      "                          'thumbnail': 'https://randomuser.me/api/portraits/thumb/men/2.jpg'},\n",
      "              'registered': {'age': 16, 'date': '2003-03-26T00:55:20Z'}}]}\n"
     ]
    }
   ],
   "source": [
    "from pprint import pprint\n",
    "pprint(data)"
   ]
  },
  {
   "cell_type": "markdown",
   "metadata": {},
   "source": [
    "* Loop through the dictionary and print all first names"
   ]
  },
  {
   "cell_type": "code",
   "execution_count": 25,
   "metadata": {},
   "outputs": [
    {
     "data": {
      "text/plain": [
       "['herman',\n",
       " 'leroy',\n",
       " 'warren',\n",
       " 'wesley',\n",
       " 'lucas',\n",
       " 'lucas',\n",
       " 'franklin',\n",
       " 'rodney',\n",
       " 'virgil',\n",
       " 'chris']"
      ]
     },
     "execution_count": 25,
     "metadata": {},
     "output_type": "execute_result"
    }
   ],
   "source": [
    "# TODO\n",
    "[r['name']['first'] for r in data['results']] "
   ]
  },
  {
   "cell_type": "markdown",
   "metadata": {},
   "source": [
    "* Get all astronauts who are right now in space. You get the information about the Web APU from here  http://open-notify.org/Open-Notify-API/People-In-Space/ "
   ]
  },
  {
   "cell_type": "code",
   "execution_count": 30,
   "metadata": {},
   "outputs": [
    {
     "name": "stdout",
     "output_type": "stream",
     "text": [
      "{\"message\": \"success\", \"number\": 6, \"people\": [{\"craft\": \"ISS\", \"name\": \"Oleg Kononenko\"}, {\"craft\": \"ISS\", \"name\": \"David Saint-Jacques\"}, {\"craft\": \"ISS\", \"name\": \"Anne McClain\"}, {\"craft\": \"ISS\", \"name\": \"Alexey Ovchinin\"}, {\"craft\": \"ISS\", \"name\": \"Nick Hague\"}, {\"craft\": \"ISS\", \"name\": \"Christina Koch\"}]}\n"
     ]
    }
   ],
   "source": [
    "!curl -s http://api.open-notify.org/astros.json"
   ]
  },
  {
   "cell_type": "code",
   "execution_count": 32,
   "metadata": {},
   "outputs": [
    {
     "name": "stdout",
     "output_type": "stream",
     "text": [
      "{'message': 'success',\n",
      " 'number': 6,\n",
      " 'people': [{'craft': 'ISS', 'name': 'Oleg Kononenko'},\n",
      "            {'craft': 'ISS', 'name': 'David Saint-Jacques'},\n",
      "            {'craft': 'ISS', 'name': 'Anne McClain'},\n",
      "            {'craft': 'ISS', 'name': 'Alexey Ovchinin'},\n",
      "            {'craft': 'ISS', 'name': 'Nick Hague'},\n",
      "            {'craft': 'ISS', 'name': 'Christina Koch'}]}\n"
     ]
    }
   ],
   "source": [
    "# TODO\n",
    "response = requests.get('http://api.open-notify.org/astros.json')\n",
    "data = json.loads(response.text)\n",
    "pprint(data)"
   ]
  },
  {
   "cell_type": "markdown",
   "metadata": {},
   "source": [
    "* Print the number of people that are right now in space"
   ]
  },
  {
   "cell_type": "code",
   "execution_count": 33,
   "metadata": {},
   "outputs": [
    {
     "name": "stdout",
     "output_type": "stream",
     "text": [
      "6\n"
     ]
    }
   ],
   "source": [
    "# Number of people right now in space\n",
    "print(data['number'])"
   ]
  },
  {
   "cell_type": "markdown",
   "metadata": {},
   "source": [
    "* Print the names of all astronauts "
   ]
  },
  {
   "cell_type": "code",
   "execution_count": 37,
   "metadata": {},
   "outputs": [
    {
     "name": "stdout",
     "output_type": "stream",
     "text": [
      "['Oleg Kononenko', 'David Saint-Jacques', 'Anne McClain', 'Alexey Ovchinin', 'Nick Hague', 'Christina Koch']\n"
     ]
    }
   ],
   "source": [
    "# TODO\n",
    "names = [r['name'] for r in data['people']]\n",
    "print(names)"
   ]
  },
  {
   "cell_type": "markdown",
   "metadata": {},
   "source": [
    "* A lot of Web APIs require a api-key for interacting with them (like Twitter, Facebook, …). You find at http://www.python-requests.org/en/latest/user/authentication/ more information for Authentication for Web APIs with the request package\n",
    "* There are also special Python packages for interacting with services. E.g. for Twitter: http://www.tweepy.org/ or  https://github.com/bear/python-twitter \n",
    "\n",
    "See e.g. http://socialmedia-class.org/twittertutorial.html for a tutorial"
   ]
  },
  {
   "cell_type": "markdown",
   "metadata": {},
   "source": [
    "## 2. Creating a Web API\n",
    "\n",
    "* Create a folder `webapi` and change into it.\n",
    "* Create in the `webapi` folder a file with the name `Dockerfile` with the following content:\n",
    "\n",
    "----\n",
    "```bash\n",
    "# Use an official Python runtime as a parent image\n",
    "FROM python:3.7-slim\n",
    "\n",
    "# Set the working directory to /app\n",
    "WORKDIR /app\n",
    "\n",
    "# Copy the current directory contents into the container at /app\n",
    "COPY app/ /app\n",
    "\n",
    "# Install any needed packages specified in requirements.txt\n",
    "RUN pip install --trusted-host pypi.python.org -r requirements.txt\n",
    "\n",
    "# Make port 80 available to the world outside this container\n",
    "EXPOSE 80\n",
    "\n",
    "# Run app.py when the container launches\n",
    "CMD [\"python\", \"app.py\"]\n",
    "```\n",
    "\n",
    "-----\n",
    "\n",
    "* We can also use Docker compose with just one service. Create in your `webapi` folder a `docker-compose.yml` file:\n",
    "\n",
    "-----\n",
    "\n",
    "```yaml\n",
    "version: '3'\n",
    "services:\n",
    "  api:\n",
    "    build: .\n",
    "    ports:\n",
    "      - \"5000:80\"\n",
    "    restart: always\n",
    "    volumes:\n",
    "      - ./app:/app\n",
    "```\n",
    "-----\n",
    "\n",
    "* Create a folder in the `webapi` folder a new folder with the name `app`\n",
    "* We will build a web API with `Flask` (http://flask.pocoo.org/) . Create a `requirements.txt` file in the `app` folder. Here we can specify all python `pip` packages that we need:\n",
    "\n",
    "-----\n",
    "```bash\n",
    "Flask\n",
    "```\n",
    "-----\n",
    "\n",
    "* Create the `app.py` file in the `app` folder:\n",
    "\n",
    "-----\n",
    "```python\n",
    "from flask import Flask\n",
    "from flask import request, jsonify\n",
    "\n",
    "app = Flask(__name__)\n",
    "\n",
    "courses = [\n",
    "    {'id': 0,\n",
    "     'title': 'Data Science',\n",
    "     'professor': 'Markus Löcher',\n",
    "     'semester': '1'},\n",
    "    {'id': 1,\n",
    "     'title': 'Data Warehousing',\n",
    "     'professor': 'Roland M. Mueller',\n",
    "     'semester': '1'},\n",
    "    {'id': 2,\n",
    "     'title': 'Business Process Management',\n",
    "     'professor': 'Frank Habermann',\n",
    "     'semester': '1'},\n",
    "    {'id': 3,\n",
    "     'title': 'Stratigic Issues of IT',\n",
    "     'professor': 'Sven Pohland',\n",
    "     'semester': '1'},\n",
    "    {'id': 4,\n",
    "     'title': 'Text, Web and Social Media Analytics Lab',\n",
    "     'professor': 'Markus Löcher',\n",
    "     'semester': '2'},\n",
    "    {'id': 5,\n",
    "     'title': 'Enterprise Architectures for Big Data',\n",
    "     'professor': 'Roland M. Mueller',\n",
    "     'semester': '2'},\n",
    "    {'id': 6,\n",
    "     'title': 'Business Process Integration Lab',\n",
    "     'professor': 'Frank Habermann',\n",
    "     'semester': '2'},\n",
    "    {'id': 7,\n",
    "     'title': 'IT-Security and Privacy',\n",
    "     'professor': 'Dennis Uckel',\n",
    "     'semester': '2'},\n",
    "    {'id': 8,\n",
    "     'title': 'Research Methods',\n",
    "     'professor': 'Marcus Birkenkrahe',\n",
    "     'semester': '2'},\n",
    "]\n",
    "\n",
    "@app.route('/api/v1/courses/all', methods=['GET'])\n",
    "def api_all():\n",
    "    return jsonify(courses)\n",
    "\n",
    "@app.route('/api/v1/courses', methods=['GET'])\n",
    "def api_id():\n",
    "    # Check if an ID was provided as part of the URL.\n",
    "    # If ID is provided, assign it to a variable.\n",
    "    # If no ID is provided, display an error in the browser.\n",
    "    if 'id' in request.args:\n",
    "        id = int(request.args['id'])\n",
    "    else:\n",
    "        return \"Error: No id field provided. Please specify an id.\"\n",
    "\n",
    "    # Create an empty list for our results\n",
    "    results = []\n",
    "\n",
    "    # Loop through the data and match results that fit the requested ID.\n",
    "    # IDs are unique, but other fields might return many results\n",
    "    for course in courses:\n",
    "        if course['id'] == id:\n",
    "            results.append(course)\n",
    "\n",
    "    # Use the jsonify function from Flask to convert our list of\n",
    "    # Python dictionaries to the JSON format.\n",
    "    return jsonify(results)\n",
    "\n",
    "if __name__ == \"__main__\":\n",
    "    app.run(host=\"0.0.0.0\", port=80, debug=True)\n",
    "```\n",
    "-----\n",
    "* Open http://localhost:5000/api/v1/courses/all in a browser\n",
    "* Open http://localhost:5000/api/v1/courses?id=5 in a browser\n"
   ]
  },
  {
   "cell_type": "markdown",
   "metadata": {
    "collapsed": true
   },
   "source": [
    "* Use your own API here in the Jupyter Notebook with Python and print all names of all courses "
   ]
  },
  {
   "cell_type": "code",
   "execution_count": null,
   "metadata": {
    "collapsed": true
   },
   "outputs": [],
   "source": [
    "# TODO"
   ]
  },
  {
   "cell_type": "markdown",
   "metadata": {},
   "source": [
    "* Add the possibility to find courses based on the semester\n",
    "* Use your API in Python and print all names of all courses in the second semester"
   ]
  },
  {
   "cell_type": "code",
   "execution_count": null,
   "metadata": {
    "collapsed": true
   },
   "outputs": [],
   "source": [
    "# TODO"
   ]
  },
  {
   "cell_type": "markdown",
   "metadata": {},
   "source": [
    "* Add a function that can convert Fahrenheit to Celsius \n",
    "* Call your API and get the Celsius value for 100°F Fahrenheit"
   ]
  },
  {
   "cell_type": "code",
   "execution_count": null,
   "metadata": {
    "collapsed": true
   },
   "outputs": [],
   "source": [
    "# TODO"
   ]
  }
 ],
 "metadata": {
  "kernelspec": {
   "display_name": "Python 3",
   "language": "python",
   "name": "python3"
  },
  "language_info": {
   "codemirror_mode": {
    "name": "ipython",
    "version": 3
   },
   "file_extension": ".py",
   "mimetype": "text/x-python",
   "name": "python",
   "nbconvert_exporter": "python",
   "pygments_lexer": "ipython3",
   "version": "3.7.0"
  },
  "varInspector": {
   "cols": {
    "lenName": 16,
    "lenType": 16,
    "lenVar": 40
   },
   "kernels_config": {
    "python": {
     "delete_cmd_postfix": "",
     "delete_cmd_prefix": "del ",
     "library": "var_list.py",
     "varRefreshCmd": "print(var_dic_list())"
    },
    "r": {
     "delete_cmd_postfix": ") ",
     "delete_cmd_prefix": "rm(",
     "library": "var_list.r",
     "varRefreshCmd": "cat(var_dic_list()) "
    }
   },
   "types_to_exclude": [
    "module",
    "function",
    "builtin_function_or_method",
    "instance",
    "_Feature"
   ],
   "window_display": false
  }
 },
 "nbformat": 4,
 "nbformat_minor": 2
}
