{
 "cells": [
  {
   "cell_type": "markdown",
   "metadata": {},
   "source": [
    "# Web APIs\n",
    "\n",
    "## 1. Consuming Web APIs\n",
    "\n",
    "(Partially adapted from https://www.dataquest.io/blog/python-api-tutorial/)\n",
    "\n",
    "* https://randomuser.me/ is a random user generator \n",
    "*\tIt has an API. Go to https://api.randomuser.me/ with your browser\n",
    "*\tYou get a JSON (JavaScript Object Notation) back. A JSON is similar to a Python dictionary.  \n",
    "*  Refresh the browser\n",
    "*\tYou can add query parameters. They are added to the URL with a ? . You then add then the parameter name = the value. More the one parameter are connected with a & e.g.\n",
    "\thttp://api.open-notify.org/iss-pass.json?lat=37.78&lon=-122.41\n",
    "\n",
    "*\t Go the documentation https://randomuser.me/documentation and check how you can get multiple users and to specify constraints on the output\n",
    "*\tGo to your browser and add parameters to https://api.randomuser.me/ so that you get 5 results of only males from the US\n",
    "\n",
    "Enter the URL of your solution:"
   ]
  },
  {
   "cell_type": "code",
   "execution_count": 1,
   "metadata": {},
   "outputs": [],
   "source": [
    "# TODO: get 5 results of only males from the US\n",
    "# Enter the URL of your solution:\n",
    "url = 'https://randomuser.me/api/?results=5&gender=male&nat=us'"
   ]
  },
  {
   "cell_type": "markdown",
   "metadata": {},
   "source": [
    "* You can also get the data from the command line. Open the command line and write\n",
    "\n",
    "```bash\n",
    "curl -s https://api.randomuser.me/\n",
    "```\n",
    "\n",
    "You can also run Bash commands directly in your Jupyter Notebook with !:"
   ]
  },
  {
   "cell_type": "code",
   "execution_count": 2,
   "metadata": {},
   "outputs": [
    {
     "name": "stdout",
     "output_type": "stream",
     "text": [
      "{\"results\":[{\"gender\":\"male\",\"name\":{\"title\":\"mr\",\"first\":\"joris\",\"last\":\"marie\"},\"location\":{\"street\":\"3326 place du 8 novembre 1942\",\"city\":\"argenteuil\",\"state\":\"vosges\",\"postcode\":87923,\"coordinates\":{\"latitude\":\"-5.0749\",\"longitude\":\"-84.0932\"},\"timezone\":{\"offset\":\"-4:00\",\"description\":\"Atlantic Time (Canada), Caracas, La Paz\"}},\"email\":\"joris.marie@example.com\",\"login\":{\"uuid\":\"694540fd-0cb5-4f6f-afb3-95c3dba367f5\",\"username\":\"sadduck619\",\"password\":\"wrinkle1\",\"salt\":\"cVTt7x8y\",\"md5\":\"2c4a74580495b3d6da2dddf3f4f0d576\",\"sha1\":\"3247c35da2776043d64e505014ed620cc0ea5106\",\"sha256\":\"11dc46df0ca469c6386bef51f98eff3df33cfeb823941bd285af0d799240adcb\"},\"dob\":{\"date\":\"1963-04-23T09:20:03Z\",\"age\":56},\"registered\":{\"date\":\"2014-05-26T15:17:15Z\",\"age\":4},\"phone\":\"05-76-14-49-34\",\"cell\":\"06-61-41-70-13\",\"id\":{\"name\":\"INSEE\",\"value\":\"1NNaN70568813 61\"},\"picture\":{\"large\":\"https://randomuser.me/api/portraits/men/24.jpg\",\"medium\":\"https://randomuser.me/api/portraits/med/men/24.jpg\",\"thumbnail\":\"https://randomuser.me/api/portraits/thumb/men/24.jpg\"},\"nat\":\"FR\"}],\"info\":{\"seed\":\"6e6a786c8dbb9680\",\"results\":1,\"page\":1,\"version\":\"1.2\"}}\n"
     ]
    }
   ],
   "source": [
    "!curl -s https://api.randomuser.me/"
   ]
  },
  {
   "cell_type": "markdown",
   "metadata": {},
   "source": [
    "* Import the two libraries \n",
    "    * `requests` and \n",
    "    * `json`. \n",
    "\n",
    "You can find the documentation for the requests package here:\n",
    " http://www.python-requests.org/en/latest/ \n",
    " "
   ]
  },
  {
   "cell_type": "code",
   "execution_count": 3,
   "metadata": {},
   "outputs": [],
   "source": [
    "import requests\n",
    "import json"
   ]
  },
  {
   "cell_type": "markdown",
   "metadata": {},
   "source": [
    "* With the requests package you can call a Web API with the URL and the method get"
   ]
  },
  {
   "cell_type": "code",
   "execution_count": 4,
   "metadata": {},
   "outputs": [],
   "source": [
    "response = requests.get(\"https://api.randomuser.me/\")"
   ]
  },
  {
   "cell_type": "markdown",
   "metadata": {},
   "source": [
    "* Print the status code of the request"
   ]
  },
  {
   "cell_type": "code",
   "execution_count": 5,
   "metadata": {},
   "outputs": [
    {
     "name": "stdout",
     "output_type": "stream",
     "text": [
      "200\n"
     ]
    }
   ],
   "source": [
    "print(response.status_code)"
   ]
  },
  {
   "cell_type": "markdown",
   "metadata": {},
   "source": [
    "**The meaning of the status codes are:**\n",
    "* 200: everything went okay, and the result has been returned (if any)\n",
    "* 301: the server is redirecting you to a different endpoint. This can happen when a company switches domain names, or an endpoint name is changed.\n",
    "* 401: the server thinks you're not authenticated. This happens when you don't send the right credentials to access an API.\n",
    "* 400: the server thinks you made a bad request. This can happen when you don't send along the right data, among other things.\n",
    "* 403: the resource you're trying to access is forbidden – you don't have the right permissions to see it.\n",
    "* 404: the resource you tried to access wasn't found on the server.\n"
   ]
  },
  {
   "cell_type": "markdown",
   "metadata": {},
   "source": [
    "You can specify the query parameters for a URL with a Python dictionary like this:\n",
    "```python\n",
    "parameters = {\"lat\": 37.78, \"lon\": -122.41}\n",
    "```\n",
    "\n",
    "And pass the parameter to the request like this\n",
    "```python\n",
    "response = requests.get(\"http://api.open-notify.org/iss-pass.json\", params=parameters)\n",
    "```\n",
    "This is the same as \n",
    "```python\n",
    "response = requests.get(\"http://api.open-notify.org/iss-pass.json?lat=37.78&lon=-122.41\")\n",
    "```\n",
    "\n",
    "Alternatively you could build also the URL with the parameters by yourself with string concatenation. \n",
    "\n",
    "* Get with the request method 10 results of only males from the US.\n",
    "\n"
   ]
  },
  {
   "cell_type": "code",
   "execution_count": 6,
   "metadata": {},
   "outputs": [],
   "source": [
    "# TODO: Get with the request method 10 results of only males from the US.\n",
    "parameters = {\"nat\" : \"us\", \"gender\" : \"male\", \"results\" : 10}\n",
    "response  = requests.get('https://api.randomuser.me/',params=parameters )"
   ]
  },
  {
   "cell_type": "markdown",
   "metadata": {},
   "source": [
    "* You can show the result of the request with the method text"
   ]
  },
  {
   "cell_type": "code",
   "execution_count": 7,
   "metadata": {
    "scrolled": true
   },
   "outputs": [
    {
     "data": {
      "text/plain": [
       "'{\"results\":[{\"gender\":\"male\",\"name\":{\"title\":\"mr\",\"first\":\"carl\",\"last\":\"burns\"},\"location\":{\"street\":\"9329 central st\",\"city\":\"riverside\",\"state\":\"alaska\",\"postcode\":77746,\"coordinates\":{\"latitude\":\"34.1371\",\"longitude\":\"-128.8983\"},\"timezone\":{\"offset\":\"-6:00\",\"description\":\"Central Time (US & Canada), Mexico City\"}},\"email\":\"carl.burns@example.com\",\"login\":{\"uuid\":\"13e1b0c7-e7aa-45d0-8aa0-6c8b1e494f9b\",\"username\":\"redmouse135\",\"password\":\"11111\",\"salt\":\"B6CNOt2b\",\"md5\":\"afa3fc0500f2b06e46befaca4378bfb8\",\"sha1\":\"79cfda4dbf01adac88368c3978189493beb132a4\",\"sha256\":\"d96cbbf5d7d51616b435cdec5c678ab6ac2cfc14fce5763b0b33919feb4b689c\"},\"dob\":{\"date\":\"1965-04-26T23:11:22Z\",\"age\":54},\"registered\":{\"date\":\"2014-10-10T22:41:17Z\",\"age\":4},\"phone\":\"(709)-252-9571\",\"cell\":\"(007)-405-6357\",\"id\":{\"name\":\"SSN\",\"value\":\"037-48-9851\"},\"picture\":{\"large\":\"https://randomuser.me/api/portraits/men/53.jpg\",\"medium\":\"https://randomuser.me/api/portraits/med/men/53.jpg\",\"thumbnail\":\"https://randomuser.me/api/portraits/thumb/men/53.jpg\"},\"nat\":\"US\"},{\"gender\":\"male\",\"name\":{\"title\":\"mr\",\"first\":\"levi\",\"last\":\"mitchell\"},\"location\":{\"street\":\"5080 timber wolf trail\",\"city\":\"austin\",\"state\":\"oklahoma\",\"postcode\":62562,\"coordinates\":{\"latitude\":\"-70.1525\",\"longitude\":\"-172.2780\"},\"timezone\":{\"offset\":\"+3:00\",\"description\":\"Baghdad, Riyadh, Moscow, St. Petersburg\"}},\"email\":\"levi.mitchell@example.com\",\"login\":{\"uuid\":\"1c709b48-b15c-46df-9820-a988d1b9c68d\",\"username\":\"silverrabbit241\",\"password\":\"crave\",\"salt\":\"YAH1vtWl\",\"md5\":\"5eaec92f9627d7ded61d2b5289ddfdc1\",\"sha1\":\"45c1a86ec112a195c2d6fd28908757cf23844f1e\",\"sha256\":\"e7b81e5c76c29f214a34fe222e59dc83045d2808963866af795d5b8388f8a733\"},\"dob\":{\"date\":\"1990-05-30T17:46:05Z\",\"age\":28},\"registered\":{\"date\":\"2010-10-14T20:14:24Z\",\"age\":8},\"phone\":\"(333)-966-1655\",\"cell\":\"(905)-854-1734\",\"id\":{\"name\":\"SSN\",\"value\":\"080-03-5132\"},\"picture\":{\"large\":\"https://randomuser.me/api/portraits/men/10.jpg\",\"medium\":\"https://randomuser.me/api/portraits/med/men/10.jpg\",\"thumbnail\":\"https://randomuser.me/api/portraits/thumb/men/10.jpg\"},\"nat\":\"US\"},{\"gender\":\"male\",\"name\":{\"title\":\"mr\",\"first\":\"eduardo\",\"last\":\"mckinney\"},\"location\":{\"street\":\"4585 washington ave\",\"city\":\"salt lake city\",\"state\":\"west virginia\",\"postcode\":58722,\"coordinates\":{\"latitude\":\"-26.7996\",\"longitude\":\"-68.9121\"},\"timezone\":{\"offset\":\"+7:00\",\"description\":\"Bangkok, Hanoi, Jakarta\"}},\"email\":\"eduardo.mckinney@example.com\",\"login\":{\"uuid\":\"c24cc2d8-1446-4e9a-9b88-f18c971c461d\",\"username\":\"bigmeercat183\",\"password\":\"musica\",\"salt\":\"XVcQ2xrn\",\"md5\":\"ebce54bc9440c59a76ee807065f8cba6\",\"sha1\":\"580179a64536370a352cd0eef27b9b3ef7f403cc\",\"sha256\":\"3f209001e48bb30a15af5e7d14947b4c2221a6df937cc4481b4bb44cdb9da462\"},\"dob\":{\"date\":\"1951-01-15T20:58:57Z\",\"age\":68},\"registered\":{\"date\":\"2008-02-28T10:57:13Z\",\"age\":11},\"phone\":\"(920)-892-6775\",\"cell\":\"(570)-150-0347\",\"id\":{\"name\":\"SSN\",\"value\":\"253-31-0839\"},\"picture\":{\"large\":\"https://randomuser.me/api/portraits/men/21.jpg\",\"medium\":\"https://randomuser.me/api/portraits/med/men/21.jpg\",\"thumbnail\":\"https://randomuser.me/api/portraits/thumb/men/21.jpg\"},\"nat\":\"US\"},{\"gender\":\"male\",\"name\":{\"title\":\"mr\",\"first\":\"maurice\",\"last\":\"ray\"},\"location\":{\"street\":\"2270 saddle dr\",\"city\":\"thousand oaks\",\"state\":\"new hampshire\",\"postcode\":90481,\"coordinates\":{\"latitude\":\"-83.9621\",\"longitude\":\"-171.8453\"},\"timezone\":{\"offset\":\"+6:00\",\"description\":\"Almaty, Dhaka, Colombo\"}},\"email\":\"maurice.ray@example.com\",\"login\":{\"uuid\":\"48254a49-d7fc-4f8c-80bd-543a191153f3\",\"username\":\"beautifulbear220\",\"password\":\"lions\",\"salt\":\"VhavPjDG\",\"md5\":\"5c14abe7dc45b7ebc32a8fec0f50c594\",\"sha1\":\"613c7fa91d13919783b63d06996a510f3a584ee2\",\"sha256\":\"d118c68b4e822dc94e0c02fe813ea7b7e09d92d014529d20dfc82e8e039e26b9\"},\"dob\":{\"date\":\"1951-06-19T09:12:52Z\",\"age\":67},\"registered\":{\"date\":\"2012-04-18T00:58:11Z\",\"age\":7},\"phone\":\"(065)-806-6865\",\"cell\":\"(416)-223-9933\",\"id\":{\"name\":\"SSN\",\"value\":\"225-08-8703\"},\"picture\":{\"large\":\"https://randomuser.me/api/portraits/men/87.jpg\",\"medium\":\"https://randomuser.me/api/portraits/med/men/87.jpg\",\"thumbnail\":\"https://randomuser.me/api/portraits/thumb/men/87.jpg\"},\"nat\":\"US\"},{\"gender\":\"male\",\"name\":{\"title\":\"mr\",\"first\":\"adam\",\"last\":\"baker\"},\"location\":{\"street\":\"6575 valley view ln\",\"city\":\"abilene\",\"state\":\"colorado\",\"postcode\":13850,\"coordinates\":{\"latitude\":\"-79.2915\",\"longitude\":\"139.2321\"},\"timezone\":{\"offset\":\"+5:45\",\"description\":\"Kathmandu\"}},\"email\":\"adam.baker@example.com\",\"login\":{\"uuid\":\"f3acb98b-0280-4156-b385-520d5f9bbc3b\",\"username\":\"purpledog941\",\"password\":\"viewer\",\"salt\":\"N4khSkbR\",\"md5\":\"1d1eae11112556d7149c1e3c3bbde9c6\",\"sha1\":\"ebb78bfb36a57dfb637b452345d006fec1570e8c\",\"sha256\":\"37fbda37e14c72bbd11e73293ab518ed77328e4dadc28db8434b62da1f53c0ff\"},\"dob\":{\"date\":\"1950-12-14T21:35:31Z\",\"age\":68},\"registered\":{\"date\":\"2009-05-25T02:36:09Z\",\"age\":9},\"phone\":\"(460)-498-4730\",\"cell\":\"(781)-226-2383\",\"id\":{\"name\":\"SSN\",\"value\":\"675-28-0560\"},\"picture\":{\"large\":\"https://randomuser.me/api/portraits/men/93.jpg\",\"medium\":\"https://randomuser.me/api/portraits/med/men/93.jpg\",\"thumbnail\":\"https://randomuser.me/api/portraits/thumb/men/93.jpg\"},\"nat\":\"US\"},{\"gender\":\"male\",\"name\":{\"title\":\"mr\",\"first\":\"marvin\",\"last\":\"moreno\"},\"location\":{\"street\":\"5116 royal ln\",\"city\":\"hampton\",\"state\":\"oklahoma\",\"postcode\":21701,\"coordinates\":{\"latitude\":\"72.3286\",\"longitude\":\"27.5794\"},\"timezone\":{\"offset\":\"+7:00\",\"description\":\"Bangkok, Hanoi, Jakarta\"}},\"email\":\"marvin.moreno@example.com\",\"login\":{\"uuid\":\"ec205a27-8810-4229-a0a9-d0aae9872a34\",\"username\":\"biglion250\",\"password\":\"missy\",\"salt\":\"TdGWiXF9\",\"md5\":\"069509bb1e58161cc713d6dcd6941d0a\",\"sha1\":\"848c122f7ef83185325d87369f511d10193b57bc\",\"sha256\":\"e03a2f854fbecc10ab56f8431e4e9d1a2677f60066f795fc4d5ff665b5ba65fa\"},\"dob\":{\"date\":\"1995-10-21T10:53:36Z\",\"age\":23},\"registered\":{\"date\":\"2005-06-10T09:44:56Z\",\"age\":13},\"phone\":\"(061)-401-9433\",\"cell\":\"(746)-633-8210\",\"id\":{\"name\":\"SSN\",\"value\":\"034-06-4159\"},\"picture\":{\"large\":\"https://randomuser.me/api/portraits/men/88.jpg\",\"medium\":\"https://randomuser.me/api/portraits/med/men/88.jpg\",\"thumbnail\":\"https://randomuser.me/api/portraits/thumb/men/88.jpg\"},\"nat\":\"US\"},{\"gender\":\"male\",\"name\":{\"title\":\"mr\",\"first\":\"landon\",\"last\":\"george\"},\"location\":{\"street\":\"9115 w belt line rd\",\"city\":\"ann arbor\",\"state\":\"washington\",\"postcode\":94651,\"coordinates\":{\"latitude\":\"-35.9483\",\"longitude\":\"165.3180\"},\"timezone\":{\"offset\":\"-7:00\",\"description\":\"Mountain Time (US & Canada)\"}},\"email\":\"landon.george@example.com\",\"login\":{\"uuid\":\"e553391d-dc04-4400-8ad0-10ae21b20bfa\",\"username\":\"sadwolf973\",\"password\":\"todd\",\"salt\":\"gvBlhIFi\",\"md5\":\"a0a203d2b45c7d996fba8ff6dfdb4031\",\"sha1\":\"3dcd499606b1a1caf9b218a6f8f28c8599f44922\",\"sha256\":\"acdc9d1804a7ff51ef1b1a6aa95bf0d961d03dd7697be55658e9c612b3fba30e\"},\"dob\":{\"date\":\"1970-06-13T18:23:34Z\",\"age\":48},\"registered\":{\"date\":\"2012-04-16T23:02:47Z\",\"age\":7},\"phone\":\"(340)-920-1376\",\"cell\":\"(425)-608-2532\",\"id\":{\"name\":\"SSN\",\"value\":\"616-27-2401\"},\"picture\":{\"large\":\"https://randomuser.me/api/portraits/men/74.jpg\",\"medium\":\"https://randomuser.me/api/portraits/med/men/74.jpg\",\"thumbnail\":\"https://randomuser.me/api/portraits/thumb/men/74.jpg\"},\"nat\":\"US\"},{\"gender\":\"male\",\"name\":{\"title\":\"mr\",\"first\":\"max\",\"last\":\"ryan\"},\"location\":{\"street\":\"2120 frances ct\",\"city\":\"lousville\",\"state\":\"georgia\",\"postcode\":35030,\"coordinates\":{\"latitude\":\"-59.4127\",\"longitude\":\"156.6060\"},\"timezone\":{\"offset\":\"+3:00\",\"description\":\"Baghdad, Riyadh, Moscow, St. Petersburg\"}},\"email\":\"max.ryan@example.com\",\"login\":{\"uuid\":\"17e7916f-e7c5-40cc-a33a-35d5ac83d089\",\"username\":\"greenzebra860\",\"password\":\"electra\",\"salt\":\"GGfOf9Kn\",\"md5\":\"d5772bdf602049fe97c745005113a28c\",\"sha1\":\"72b747b26d7f9cc5745d46f51abec2a4d08f9dbc\",\"sha256\":\"36b7e8f65331912b8ac7c0ab03ab1e086f3e303d90867ca303ed9ba83e1e5a5c\"},\"dob\":{\"date\":\"1947-03-29T16:55:37Z\",\"age\":72},\"registered\":{\"date\":\"2004-08-08T23:29:17Z\",\"age\":14},\"phone\":\"(209)-107-3854\",\"cell\":\"(434)-758-4221\",\"id\":{\"name\":\"SSN\",\"value\":\"771-85-1847\"},\"picture\":{\"large\":\"https://randomuser.me/api/portraits/men/84.jpg\",\"medium\":\"https://randomuser.me/api/portraits/med/men/84.jpg\",\"thumbnail\":\"https://randomuser.me/api/portraits/thumb/men/84.jpg\"},\"nat\":\"US\"},{\"gender\":\"male\",\"name\":{\"title\":\"mr\",\"first\":\"lewis\",\"last\":\"diaz\"},\"location\":{\"street\":\"2729 brown terrace\",\"city\":\"honolulu\",\"state\":\"idaho\",\"postcode\":55490,\"coordinates\":{\"latitude\":\"-77.1747\",\"longitude\":\"160.5711\"},\"timezone\":{\"offset\":\"-9:00\",\"description\":\"Alaska\"}},\"email\":\"lewis.diaz@example.com\",\"login\":{\"uuid\":\"a9c8b6b2-b08c-42c8-b919-2f3e0a1602e7\",\"username\":\"silverladybug819\",\"password\":\"huskies\",\"salt\":\"dwcMGrnE\",\"md5\":\"fc1cf2d12c497b8af1f87e14e773e0e6\",\"sha1\":\"01d2b49506338be301a42b8a58274a53b7b93609\",\"sha256\":\"0ae2b7bc5473680044469470f8bf67214362ade32ffcb9a73f8395b68accd2e4\"},\"dob\":{\"date\":\"1976-04-10T23:58:58Z\",\"age\":43},\"registered\":{\"date\":\"2017-11-04T08:55:58Z\",\"age\":1},\"phone\":\"(639)-721-7609\",\"cell\":\"(638)-587-5909\",\"id\":{\"name\":\"SSN\",\"value\":\"088-14-4649\"},\"picture\":{\"large\":\"https://randomuser.me/api/portraits/men/10.jpg\",\"medium\":\"https://randomuser.me/api/portraits/med/men/10.jpg\",\"thumbnail\":\"https://randomuser.me/api/portraits/thumb/men/10.jpg\"},\"nat\":\"US\"},{\"gender\":\"male\",\"name\":{\"title\":\"mr\",\"first\":\"jonathan\",\"last\":\"evans\"},\"location\":{\"street\":\"6202 washington ave\",\"city\":\"dumas\",\"state\":\"ohio\",\"postcode\":70523,\"coordinates\":{\"latitude\":\"-23.1284\",\"longitude\":\"-56.1943\"},\"timezone\":{\"offset\":\"-1:00\",\"description\":\"Azores, Cape Verde Islands\"}},\"email\":\"jonathan.evans@example.com\",\"login\":{\"uuid\":\"b6a956e3-2015-4719-a18f-f942ed0ef157\",\"username\":\"purpleostrich481\",\"password\":\"jiong\",\"salt\":\"sa5PYA9g\",\"md5\":\"c1ac5de8c2aa227e4fdf2c48a606f01e\",\"sha1\":\"e590efa2599e649f1b7de71a22d09d150aabfd70\",\"sha256\":\"46677fc0f81b085a12e0e5fbc2bbd4d36e9727cc8e2e43bd23d7402c5a2d83a1\"},\"dob\":{\"date\":\"1975-07-15T07:16:50Z\",\"age\":43},\"registered\":{\"date\":\"2017-07-31T05:17:08Z\",\"age\":1},\"phone\":\"(530)-916-1409\",\"cell\":\"(451)-762-5626\",\"id\":{\"name\":\"SSN\",\"value\":\"712-67-9103\"},\"picture\":{\"large\":\"https://randomuser.me/api/portraits/men/9.jpg\",\"medium\":\"https://randomuser.me/api/portraits/med/men/9.jpg\",\"thumbnail\":\"https://randomuser.me/api/portraits/thumb/men/9.jpg\"},\"nat\":\"US\"}],\"info\":{\"seed\":\"c65e21f0b8116354\",\"results\":10,\"page\":1,\"version\":\"1.2\"}}'"
      ]
     },
     "execution_count": 7,
     "metadata": {},
     "output_type": "execute_result"
    }
   ],
   "source": [
    "response.text"
   ]
  },
  {
   "cell_type": "markdown",
   "metadata": {},
   "source": [
    "* You can convert the data from JSON to a Python dictionary with the package JSON"
   ]
  },
  {
   "cell_type": "code",
   "execution_count": 8,
   "metadata": {},
   "outputs": [],
   "source": [
    "data = json.loads(response.text)"
   ]
  },
  {
   "cell_type": "markdown",
   "metadata": {},
   "source": [
    "* Check the type of variable data"
   ]
  },
  {
   "cell_type": "code",
   "execution_count": 9,
   "metadata": {},
   "outputs": [],
   "source": [
    "# TODO"
   ]
  },
  {
   "cell_type": "code",
   "execution_count": 10,
   "metadata": {},
   "outputs": [
    {
     "name": "stdout",
     "output_type": "stream",
     "text": [
      "{'results': [{'gender': 'male', 'name': {'title': 'mr', 'first': 'carl', 'last': 'burns'}, 'location': {'street': '9329 central st', 'city': 'riverside', 'state': 'alaska', 'postcode': 77746, 'coordinates': {'latitude': '34.1371', 'longitude': '-128.8983'}, 'timezone': {'offset': '-6:00', 'description': 'Central Time (US & Canada), Mexico City'}}, 'email': 'carl.burns@example.com', 'login': {'uuid': '13e1b0c7-e7aa-45d0-8aa0-6c8b1e494f9b', 'username': 'redmouse135', 'password': '11111', 'salt': 'B6CNOt2b', 'md5': 'afa3fc0500f2b06e46befaca4378bfb8', 'sha1': '79cfda4dbf01adac88368c3978189493beb132a4', 'sha256': 'd96cbbf5d7d51616b435cdec5c678ab6ac2cfc14fce5763b0b33919feb4b689c'}, 'dob': {'date': '1965-04-26T23:11:22Z', 'age': 54}, 'registered': {'date': '2014-10-10T22:41:17Z', 'age': 4}, 'phone': '(709)-252-9571', 'cell': '(007)-405-6357', 'id': {'name': 'SSN', 'value': '037-48-9851'}, 'picture': {'large': 'https://randomuser.me/api/portraits/men/53.jpg', 'medium': 'https://randomuser.me/api/portraits/med/men/53.jpg', 'thumbnail': 'https://randomuser.me/api/portraits/thumb/men/53.jpg'}, 'nat': 'US'}, {'gender': 'male', 'name': {'title': 'mr', 'first': 'levi', 'last': 'mitchell'}, 'location': {'street': '5080 timber wolf trail', 'city': 'austin', 'state': 'oklahoma', 'postcode': 62562, 'coordinates': {'latitude': '-70.1525', 'longitude': '-172.2780'}, 'timezone': {'offset': '+3:00', 'description': 'Baghdad, Riyadh, Moscow, St. Petersburg'}}, 'email': 'levi.mitchell@example.com', 'login': {'uuid': '1c709b48-b15c-46df-9820-a988d1b9c68d', 'username': 'silverrabbit241', 'password': 'crave', 'salt': 'YAH1vtWl', 'md5': '5eaec92f9627d7ded61d2b5289ddfdc1', 'sha1': '45c1a86ec112a195c2d6fd28908757cf23844f1e', 'sha256': 'e7b81e5c76c29f214a34fe222e59dc83045d2808963866af795d5b8388f8a733'}, 'dob': {'date': '1990-05-30T17:46:05Z', 'age': 28}, 'registered': {'date': '2010-10-14T20:14:24Z', 'age': 8}, 'phone': '(333)-966-1655', 'cell': '(905)-854-1734', 'id': {'name': 'SSN', 'value': '080-03-5132'}, 'picture': {'large': 'https://randomuser.me/api/portraits/men/10.jpg', 'medium': 'https://randomuser.me/api/portraits/med/men/10.jpg', 'thumbnail': 'https://randomuser.me/api/portraits/thumb/men/10.jpg'}, 'nat': 'US'}, {'gender': 'male', 'name': {'title': 'mr', 'first': 'eduardo', 'last': 'mckinney'}, 'location': {'street': '4585 washington ave', 'city': 'salt lake city', 'state': 'west virginia', 'postcode': 58722, 'coordinates': {'latitude': '-26.7996', 'longitude': '-68.9121'}, 'timezone': {'offset': '+7:00', 'description': 'Bangkok, Hanoi, Jakarta'}}, 'email': 'eduardo.mckinney@example.com', 'login': {'uuid': 'c24cc2d8-1446-4e9a-9b88-f18c971c461d', 'username': 'bigmeercat183', 'password': 'musica', 'salt': 'XVcQ2xrn', 'md5': 'ebce54bc9440c59a76ee807065f8cba6', 'sha1': '580179a64536370a352cd0eef27b9b3ef7f403cc', 'sha256': '3f209001e48bb30a15af5e7d14947b4c2221a6df937cc4481b4bb44cdb9da462'}, 'dob': {'date': '1951-01-15T20:58:57Z', 'age': 68}, 'registered': {'date': '2008-02-28T10:57:13Z', 'age': 11}, 'phone': '(920)-892-6775', 'cell': '(570)-150-0347', 'id': {'name': 'SSN', 'value': '253-31-0839'}, 'picture': {'large': 'https://randomuser.me/api/portraits/men/21.jpg', 'medium': 'https://randomuser.me/api/portraits/med/men/21.jpg', 'thumbnail': 'https://randomuser.me/api/portraits/thumb/men/21.jpg'}, 'nat': 'US'}, {'gender': 'male', 'name': {'title': 'mr', 'first': 'maurice', 'last': 'ray'}, 'location': {'street': '2270 saddle dr', 'city': 'thousand oaks', 'state': 'new hampshire', 'postcode': 90481, 'coordinates': {'latitude': '-83.9621', 'longitude': '-171.8453'}, 'timezone': {'offset': '+6:00', 'description': 'Almaty, Dhaka, Colombo'}}, 'email': 'maurice.ray@example.com', 'login': {'uuid': '48254a49-d7fc-4f8c-80bd-543a191153f3', 'username': 'beautifulbear220', 'password': 'lions', 'salt': 'VhavPjDG', 'md5': '5c14abe7dc45b7ebc32a8fec0f50c594', 'sha1': '613c7fa91d13919783b63d06996a510f3a584ee2', 'sha256': 'd118c68b4e822dc94e0c02fe813ea7b7e09d92d014529d20dfc82e8e039e26b9'}, 'dob': {'date': '1951-06-19T09:12:52Z', 'age': 67}, 'registered': {'date': '2012-04-18T00:58:11Z', 'age': 7}, 'phone': '(065)-806-6865', 'cell': '(416)-223-9933', 'id': {'name': 'SSN', 'value': '225-08-8703'}, 'picture': {'large': 'https://randomuser.me/api/portraits/men/87.jpg', 'medium': 'https://randomuser.me/api/portraits/med/men/87.jpg', 'thumbnail': 'https://randomuser.me/api/portraits/thumb/men/87.jpg'}, 'nat': 'US'}, {'gender': 'male', 'name': {'title': 'mr', 'first': 'adam', 'last': 'baker'}, 'location': {'street': '6575 valley view ln', 'city': 'abilene', 'state': 'colorado', 'postcode': 13850, 'coordinates': {'latitude': '-79.2915', 'longitude': '139.2321'}, 'timezone': {'offset': '+5:45', 'description': 'Kathmandu'}}, 'email': 'adam.baker@example.com', 'login': {'uuid': 'f3acb98b-0280-4156-b385-520d5f9bbc3b', 'username': 'purpledog941', 'password': 'viewer', 'salt': 'N4khSkbR', 'md5': '1d1eae11112556d7149c1e3c3bbde9c6', 'sha1': 'ebb78bfb36a57dfb637b452345d006fec1570e8c', 'sha256': '37fbda37e14c72bbd11e73293ab518ed77328e4dadc28db8434b62da1f53c0ff'}, 'dob': {'date': '1950-12-14T21:35:31Z', 'age': 68}, 'registered': {'date': '2009-05-25T02:36:09Z', 'age': 9}, 'phone': '(460)-498-4730', 'cell': '(781)-226-2383', 'id': {'name': 'SSN', 'value': '675-28-0560'}, 'picture': {'large': 'https://randomuser.me/api/portraits/men/93.jpg', 'medium': 'https://randomuser.me/api/portraits/med/men/93.jpg', 'thumbnail': 'https://randomuser.me/api/portraits/thumb/men/93.jpg'}, 'nat': 'US'}, {'gender': 'male', 'name': {'title': 'mr', 'first': 'marvin', 'last': 'moreno'}, 'location': {'street': '5116 royal ln', 'city': 'hampton', 'state': 'oklahoma', 'postcode': 21701, 'coordinates': {'latitude': '72.3286', 'longitude': '27.5794'}, 'timezone': {'offset': '+7:00', 'description': 'Bangkok, Hanoi, Jakarta'}}, 'email': 'marvin.moreno@example.com', 'login': {'uuid': 'ec205a27-8810-4229-a0a9-d0aae9872a34', 'username': 'biglion250', 'password': 'missy', 'salt': 'TdGWiXF9', 'md5': '069509bb1e58161cc713d6dcd6941d0a', 'sha1': '848c122f7ef83185325d87369f511d10193b57bc', 'sha256': 'e03a2f854fbecc10ab56f8431e4e9d1a2677f60066f795fc4d5ff665b5ba65fa'}, 'dob': {'date': '1995-10-21T10:53:36Z', 'age': 23}, 'registered': {'date': '2005-06-10T09:44:56Z', 'age': 13}, 'phone': '(061)-401-9433', 'cell': '(746)-633-8210', 'id': {'name': 'SSN', 'value': '034-06-4159'}, 'picture': {'large': 'https://randomuser.me/api/portraits/men/88.jpg', 'medium': 'https://randomuser.me/api/portraits/med/men/88.jpg', 'thumbnail': 'https://randomuser.me/api/portraits/thumb/men/88.jpg'}, 'nat': 'US'}, {'gender': 'male', 'name': {'title': 'mr', 'first': 'landon', 'last': 'george'}, 'location': {'street': '9115 w belt line rd', 'city': 'ann arbor', 'state': 'washington', 'postcode': 94651, 'coordinates': {'latitude': '-35.9483', 'longitude': '165.3180'}, 'timezone': {'offset': '-7:00', 'description': 'Mountain Time (US & Canada)'}}, 'email': 'landon.george@example.com', 'login': {'uuid': 'e553391d-dc04-4400-8ad0-10ae21b20bfa', 'username': 'sadwolf973', 'password': 'todd', 'salt': 'gvBlhIFi', 'md5': 'a0a203d2b45c7d996fba8ff6dfdb4031', 'sha1': '3dcd499606b1a1caf9b218a6f8f28c8599f44922', 'sha256': 'acdc9d1804a7ff51ef1b1a6aa95bf0d961d03dd7697be55658e9c612b3fba30e'}, 'dob': {'date': '1970-06-13T18:23:34Z', 'age': 48}, 'registered': {'date': '2012-04-16T23:02:47Z', 'age': 7}, 'phone': '(340)-920-1376', 'cell': '(425)-608-2532', 'id': {'name': 'SSN', 'value': '616-27-2401'}, 'picture': {'large': 'https://randomuser.me/api/portraits/men/74.jpg', 'medium': 'https://randomuser.me/api/portraits/med/men/74.jpg', 'thumbnail': 'https://randomuser.me/api/portraits/thumb/men/74.jpg'}, 'nat': 'US'}, {'gender': 'male', 'name': {'title': 'mr', 'first': 'max', 'last': 'ryan'}, 'location': {'street': '2120 frances ct', 'city': 'lousville', 'state': 'georgia', 'postcode': 35030, 'coordinates': {'latitude': '-59.4127', 'longitude': '156.6060'}, 'timezone': {'offset': '+3:00', 'description': 'Baghdad, Riyadh, Moscow, St. Petersburg'}}, 'email': 'max.ryan@example.com', 'login': {'uuid': '17e7916f-e7c5-40cc-a33a-35d5ac83d089', 'username': 'greenzebra860', 'password': 'electra', 'salt': 'GGfOf9Kn', 'md5': 'd5772bdf602049fe97c745005113a28c', 'sha1': '72b747b26d7f9cc5745d46f51abec2a4d08f9dbc', 'sha256': '36b7e8f65331912b8ac7c0ab03ab1e086f3e303d90867ca303ed9ba83e1e5a5c'}, 'dob': {'date': '1947-03-29T16:55:37Z', 'age': 72}, 'registered': {'date': '2004-08-08T23:29:17Z', 'age': 14}, 'phone': '(209)-107-3854', 'cell': '(434)-758-4221', 'id': {'name': 'SSN', 'value': '771-85-1847'}, 'picture': {'large': 'https://randomuser.me/api/portraits/men/84.jpg', 'medium': 'https://randomuser.me/api/portraits/med/men/84.jpg', 'thumbnail': 'https://randomuser.me/api/portraits/thumb/men/84.jpg'}, 'nat': 'US'}, {'gender': 'male', 'name': {'title': 'mr', 'first': 'lewis', 'last': 'diaz'}, 'location': {'street': '2729 brown terrace', 'city': 'honolulu', 'state': 'idaho', 'postcode': 55490, 'coordinates': {'latitude': '-77.1747', 'longitude': '160.5711'}, 'timezone': {'offset': '-9:00', 'description': 'Alaska'}}, 'email': 'lewis.diaz@example.com', 'login': {'uuid': 'a9c8b6b2-b08c-42c8-b919-2f3e0a1602e7', 'username': 'silverladybug819', 'password': 'huskies', 'salt': 'dwcMGrnE', 'md5': 'fc1cf2d12c497b8af1f87e14e773e0e6', 'sha1': '01d2b49506338be301a42b8a58274a53b7b93609', 'sha256': '0ae2b7bc5473680044469470f8bf67214362ade32ffcb9a73f8395b68accd2e4'}, 'dob': {'date': '1976-04-10T23:58:58Z', 'age': 43}, 'registered': {'date': '2017-11-04T08:55:58Z', 'age': 1}, 'phone': '(639)-721-7609', 'cell': '(638)-587-5909', 'id': {'name': 'SSN', 'value': '088-14-4649'}, 'picture': {'large': 'https://randomuser.me/api/portraits/men/10.jpg', 'medium': 'https://randomuser.me/api/portraits/med/men/10.jpg', 'thumbnail': 'https://randomuser.me/api/portraits/thumb/men/10.jpg'}, 'nat': 'US'}, {'gender': 'male', 'name': {'title': 'mr', 'first': 'jonathan', 'last': 'evans'}, 'location': {'street': '6202 washington ave', 'city': 'dumas', 'state': 'ohio', 'postcode': 70523, 'coordinates': {'latitude': '-23.1284', 'longitude': '-56.1943'}, 'timezone': {'offset': '-1:00', 'description': 'Azores, Cape Verde Islands'}}, 'email': 'jonathan.evans@example.com', 'login': {'uuid': 'b6a956e3-2015-4719-a18f-f942ed0ef157', 'username': 'purpleostrich481', 'password': 'jiong', 'salt': 'sa5PYA9g', 'md5': 'c1ac5de8c2aa227e4fdf2c48a606f01e', 'sha1': 'e590efa2599e649f1b7de71a22d09d150aabfd70', 'sha256': '46677fc0f81b085a12e0e5fbc2bbd4d36e9727cc8e2e43bd23d7402c5a2d83a1'}, 'dob': {'date': '1975-07-15T07:16:50Z', 'age': 43}, 'registered': {'date': '2017-07-31T05:17:08Z', 'age': 1}, 'phone': '(530)-916-1409', 'cell': '(451)-762-5626', 'id': {'name': 'SSN', 'value': '712-67-9103'}, 'picture': {'large': 'https://randomuser.me/api/portraits/men/9.jpg', 'medium': 'https://randomuser.me/api/portraits/med/men/9.jpg', 'thumbnail': 'https://randomuser.me/api/portraits/thumb/men/9.jpg'}, 'nat': 'US'}], 'info': {'seed': 'c65e21f0b8116354', 'results': 10, 'page': 1, 'version': '1.2'}}\n"
     ]
    }
   ],
   "source": [
    "print(data)"
   ]
  },
  {
   "cell_type": "markdown",
   "metadata": {},
   "source": [
    "* *pretty-print* (pprint) prints complex data structures like dictionary prettier.  https://docs.python.org/3/library/pprint.html "
   ]
  },
  {
   "cell_type": "code",
   "execution_count": 11,
   "metadata": {},
   "outputs": [
    {
     "name": "stdout",
     "output_type": "stream",
     "text": [
      "{'info': {'page': 1,\n",
      "          'results': 10,\n",
      "          'seed': 'c65e21f0b8116354',\n",
      "          'version': '1.2'},\n",
      " 'results': [{'cell': '(007)-405-6357',\n",
      "              'dob': {'age': 54, 'date': '1965-04-26T23:11:22Z'},\n",
      "              'email': 'carl.burns@example.com',\n",
      "              'gender': 'male',\n",
      "              'id': {'name': 'SSN', 'value': '037-48-9851'},\n",
      "              'location': {'city': 'riverside',\n",
      "                           'coordinates': {'latitude': '34.1371',\n",
      "                                           'longitude': '-128.8983'},\n",
      "                           'postcode': 77746,\n",
      "                           'state': 'alaska',\n",
      "                           'street': '9329 central st',\n",
      "                           'timezone': {'description': 'Central Time (US & '\n",
      "                                                       'Canada), Mexico City',\n",
      "                                        'offset': '-6:00'}},\n",
      "              'login': {'md5': 'afa3fc0500f2b06e46befaca4378bfb8',\n",
      "                        'password': '11111',\n",
      "                        'salt': 'B6CNOt2b',\n",
      "                        'sha1': '79cfda4dbf01adac88368c3978189493beb132a4',\n",
      "                        'sha256': 'd96cbbf5d7d51616b435cdec5c678ab6ac2cfc14fce5763b0b33919feb4b689c',\n",
      "                        'username': 'redmouse135',\n",
      "                        'uuid': '13e1b0c7-e7aa-45d0-8aa0-6c8b1e494f9b'},\n",
      "              'name': {'first': 'carl', 'last': 'burns', 'title': 'mr'},\n",
      "              'nat': 'US',\n",
      "              'phone': '(709)-252-9571',\n",
      "              'picture': {'large': 'https://randomuser.me/api/portraits/men/53.jpg',\n",
      "                          'medium': 'https://randomuser.me/api/portraits/med/men/53.jpg',\n",
      "                          'thumbnail': 'https://randomuser.me/api/portraits/thumb/men/53.jpg'},\n",
      "              'registered': {'age': 4, 'date': '2014-10-10T22:41:17Z'}},\n",
      "             {'cell': '(905)-854-1734',\n",
      "              'dob': {'age': 28, 'date': '1990-05-30T17:46:05Z'},\n",
      "              'email': 'levi.mitchell@example.com',\n",
      "              'gender': 'male',\n",
      "              'id': {'name': 'SSN', 'value': '080-03-5132'},\n",
      "              'location': {'city': 'austin',\n",
      "                           'coordinates': {'latitude': '-70.1525',\n",
      "                                           'longitude': '-172.2780'},\n",
      "                           'postcode': 62562,\n",
      "                           'state': 'oklahoma',\n",
      "                           'street': '5080 timber wolf trail',\n",
      "                           'timezone': {'description': 'Baghdad, Riyadh, '\n",
      "                                                       'Moscow, St. Petersburg',\n",
      "                                        'offset': '+3:00'}},\n",
      "              'login': {'md5': '5eaec92f9627d7ded61d2b5289ddfdc1',\n",
      "                        'password': 'crave',\n",
      "                        'salt': 'YAH1vtWl',\n",
      "                        'sha1': '45c1a86ec112a195c2d6fd28908757cf23844f1e',\n",
      "                        'sha256': 'e7b81e5c76c29f214a34fe222e59dc83045d2808963866af795d5b8388f8a733',\n",
      "                        'username': 'silverrabbit241',\n",
      "                        'uuid': '1c709b48-b15c-46df-9820-a988d1b9c68d'},\n",
      "              'name': {'first': 'levi', 'last': 'mitchell', 'title': 'mr'},\n",
      "              'nat': 'US',\n",
      "              'phone': '(333)-966-1655',\n",
      "              'picture': {'large': 'https://randomuser.me/api/portraits/men/10.jpg',\n",
      "                          'medium': 'https://randomuser.me/api/portraits/med/men/10.jpg',\n",
      "                          'thumbnail': 'https://randomuser.me/api/portraits/thumb/men/10.jpg'},\n",
      "              'registered': {'age': 8, 'date': '2010-10-14T20:14:24Z'}},\n",
      "             {'cell': '(570)-150-0347',\n",
      "              'dob': {'age': 68, 'date': '1951-01-15T20:58:57Z'},\n",
      "              'email': 'eduardo.mckinney@example.com',\n",
      "              'gender': 'male',\n",
      "              'id': {'name': 'SSN', 'value': '253-31-0839'},\n",
      "              'location': {'city': 'salt lake city',\n",
      "                           'coordinates': {'latitude': '-26.7996',\n",
      "                                           'longitude': '-68.9121'},\n",
      "                           'postcode': 58722,\n",
      "                           'state': 'west virginia',\n",
      "                           'street': '4585 washington ave',\n",
      "                           'timezone': {'description': 'Bangkok, Hanoi, '\n",
      "                                                       'Jakarta',\n",
      "                                        'offset': '+7:00'}},\n",
      "              'login': {'md5': 'ebce54bc9440c59a76ee807065f8cba6',\n",
      "                        'password': 'musica',\n",
      "                        'salt': 'XVcQ2xrn',\n",
      "                        'sha1': '580179a64536370a352cd0eef27b9b3ef7f403cc',\n",
      "                        'sha256': '3f209001e48bb30a15af5e7d14947b4c2221a6df937cc4481b4bb44cdb9da462',\n",
      "                        'username': 'bigmeercat183',\n",
      "                        'uuid': 'c24cc2d8-1446-4e9a-9b88-f18c971c461d'},\n",
      "              'name': {'first': 'eduardo', 'last': 'mckinney', 'title': 'mr'},\n",
      "              'nat': 'US',\n",
      "              'phone': '(920)-892-6775',\n",
      "              'picture': {'large': 'https://randomuser.me/api/portraits/men/21.jpg',\n",
      "                          'medium': 'https://randomuser.me/api/portraits/med/men/21.jpg',\n",
      "                          'thumbnail': 'https://randomuser.me/api/portraits/thumb/men/21.jpg'},\n",
      "              'registered': {'age': 11, 'date': '2008-02-28T10:57:13Z'}},\n",
      "             {'cell': '(416)-223-9933',\n",
      "              'dob': {'age': 67, 'date': '1951-06-19T09:12:52Z'},\n",
      "              'email': 'maurice.ray@example.com',\n",
      "              'gender': 'male',\n",
      "              'id': {'name': 'SSN', 'value': '225-08-8703'},\n",
      "              'location': {'city': 'thousand oaks',\n",
      "                           'coordinates': {'latitude': '-83.9621',\n",
      "                                           'longitude': '-171.8453'},\n",
      "                           'postcode': 90481,\n",
      "                           'state': 'new hampshire',\n",
      "                           'street': '2270 saddle dr',\n",
      "                           'timezone': {'description': 'Almaty, Dhaka, Colombo',\n",
      "                                        'offset': '+6:00'}},\n",
      "              'login': {'md5': '5c14abe7dc45b7ebc32a8fec0f50c594',\n",
      "                        'password': 'lions',\n",
      "                        'salt': 'VhavPjDG',\n",
      "                        'sha1': '613c7fa91d13919783b63d06996a510f3a584ee2',\n",
      "                        'sha256': 'd118c68b4e822dc94e0c02fe813ea7b7e09d92d014529d20dfc82e8e039e26b9',\n",
      "                        'username': 'beautifulbear220',\n",
      "                        'uuid': '48254a49-d7fc-4f8c-80bd-543a191153f3'},\n",
      "              'name': {'first': 'maurice', 'last': 'ray', 'title': 'mr'},\n",
      "              'nat': 'US',\n",
      "              'phone': '(065)-806-6865',\n",
      "              'picture': {'large': 'https://randomuser.me/api/portraits/men/87.jpg',\n",
      "                          'medium': 'https://randomuser.me/api/portraits/med/men/87.jpg',\n",
      "                          'thumbnail': 'https://randomuser.me/api/portraits/thumb/men/87.jpg'},\n",
      "              'registered': {'age': 7, 'date': '2012-04-18T00:58:11Z'}},\n",
      "             {'cell': '(781)-226-2383',\n",
      "              'dob': {'age': 68, 'date': '1950-12-14T21:35:31Z'},\n",
      "              'email': 'adam.baker@example.com',\n",
      "              'gender': 'male',\n",
      "              'id': {'name': 'SSN', 'value': '675-28-0560'},\n",
      "              'location': {'city': 'abilene',\n",
      "                           'coordinates': {'latitude': '-79.2915',\n",
      "                                           'longitude': '139.2321'},\n",
      "                           'postcode': 13850,\n",
      "                           'state': 'colorado',\n",
      "                           'street': '6575 valley view ln',\n",
      "                           'timezone': {'description': 'Kathmandu',\n",
      "                                        'offset': '+5:45'}},\n",
      "              'login': {'md5': '1d1eae11112556d7149c1e3c3bbde9c6',\n",
      "                        'password': 'viewer',\n",
      "                        'salt': 'N4khSkbR',\n",
      "                        'sha1': 'ebb78bfb36a57dfb637b452345d006fec1570e8c',\n",
      "                        'sha256': '37fbda37e14c72bbd11e73293ab518ed77328e4dadc28db8434b62da1f53c0ff',\n",
      "                        'username': 'purpledog941',\n",
      "                        'uuid': 'f3acb98b-0280-4156-b385-520d5f9bbc3b'},\n",
      "              'name': {'first': 'adam', 'last': 'baker', 'title': 'mr'},\n",
      "              'nat': 'US',\n",
      "              'phone': '(460)-498-4730',\n",
      "              'picture': {'large': 'https://randomuser.me/api/portraits/men/93.jpg',\n",
      "                          'medium': 'https://randomuser.me/api/portraits/med/men/93.jpg',\n",
      "                          'thumbnail': 'https://randomuser.me/api/portraits/thumb/men/93.jpg'},\n",
      "              'registered': {'age': 9, 'date': '2009-05-25T02:36:09Z'}},\n",
      "             {'cell': '(746)-633-8210',\n",
      "              'dob': {'age': 23, 'date': '1995-10-21T10:53:36Z'},\n",
      "              'email': 'marvin.moreno@example.com',\n",
      "              'gender': 'male',\n",
      "              'id': {'name': 'SSN', 'value': '034-06-4159'},\n",
      "              'location': {'city': 'hampton',\n",
      "                           'coordinates': {'latitude': '72.3286',\n",
      "                                           'longitude': '27.5794'},\n",
      "                           'postcode': 21701,\n",
      "                           'state': 'oklahoma',\n",
      "                           'street': '5116 royal ln',\n",
      "                           'timezone': {'description': 'Bangkok, Hanoi, '\n",
      "                                                       'Jakarta',\n",
      "                                        'offset': '+7:00'}},\n",
      "              'login': {'md5': '069509bb1e58161cc713d6dcd6941d0a',\n",
      "                        'password': 'missy',\n",
      "                        'salt': 'TdGWiXF9',\n",
      "                        'sha1': '848c122f7ef83185325d87369f511d10193b57bc',\n",
      "                        'sha256': 'e03a2f854fbecc10ab56f8431e4e9d1a2677f60066f795fc4d5ff665b5ba65fa',\n",
      "                        'username': 'biglion250',\n",
      "                        'uuid': 'ec205a27-8810-4229-a0a9-d0aae9872a34'},\n",
      "              'name': {'first': 'marvin', 'last': 'moreno', 'title': 'mr'},\n",
      "              'nat': 'US',\n",
      "              'phone': '(061)-401-9433',\n",
      "              'picture': {'large': 'https://randomuser.me/api/portraits/men/88.jpg',\n",
      "                          'medium': 'https://randomuser.me/api/portraits/med/men/88.jpg',\n",
      "                          'thumbnail': 'https://randomuser.me/api/portraits/thumb/men/88.jpg'},\n",
      "              'registered': {'age': 13, 'date': '2005-06-10T09:44:56Z'}},\n",
      "             {'cell': '(425)-608-2532',\n",
      "              'dob': {'age': 48, 'date': '1970-06-13T18:23:34Z'},\n",
      "              'email': 'landon.george@example.com',\n",
      "              'gender': 'male',\n",
      "              'id': {'name': 'SSN', 'value': '616-27-2401'},\n",
      "              'location': {'city': 'ann arbor',\n",
      "                           'coordinates': {'latitude': '-35.9483',\n",
      "                                           'longitude': '165.3180'},\n",
      "                           'postcode': 94651,\n",
      "                           'state': 'washington',\n",
      "                           'street': '9115 w belt line rd',\n",
      "                           'timezone': {'description': 'Mountain Time (US & '\n",
      "                                                       'Canada)',\n",
      "                                        'offset': '-7:00'}},\n",
      "              'login': {'md5': 'a0a203d2b45c7d996fba8ff6dfdb4031',\n",
      "                        'password': 'todd',\n",
      "                        'salt': 'gvBlhIFi',\n",
      "                        'sha1': '3dcd499606b1a1caf9b218a6f8f28c8599f44922',\n",
      "                        'sha256': 'acdc9d1804a7ff51ef1b1a6aa95bf0d961d03dd7697be55658e9c612b3fba30e',\n",
      "                        'username': 'sadwolf973',\n",
      "                        'uuid': 'e553391d-dc04-4400-8ad0-10ae21b20bfa'},\n",
      "              'name': {'first': 'landon', 'last': 'george', 'title': 'mr'},\n",
      "              'nat': 'US',\n",
      "              'phone': '(340)-920-1376',\n",
      "              'picture': {'large': 'https://randomuser.me/api/portraits/men/74.jpg',\n",
      "                          'medium': 'https://randomuser.me/api/portraits/med/men/74.jpg',\n",
      "                          'thumbnail': 'https://randomuser.me/api/portraits/thumb/men/74.jpg'},\n",
      "              'registered': {'age': 7, 'date': '2012-04-16T23:02:47Z'}},\n",
      "             {'cell': '(434)-758-4221',\n",
      "              'dob': {'age': 72, 'date': '1947-03-29T16:55:37Z'},\n",
      "              'email': 'max.ryan@example.com',\n",
      "              'gender': 'male',\n",
      "              'id': {'name': 'SSN', 'value': '771-85-1847'},\n",
      "              'location': {'city': 'lousville',\n",
      "                           'coordinates': {'latitude': '-59.4127',\n",
      "                                           'longitude': '156.6060'},\n",
      "                           'postcode': 35030,\n",
      "                           'state': 'georgia',\n",
      "                           'street': '2120 frances ct',\n",
      "                           'timezone': {'description': 'Baghdad, Riyadh, '\n",
      "                                                       'Moscow, St. Petersburg',\n",
      "                                        'offset': '+3:00'}},\n",
      "              'login': {'md5': 'd5772bdf602049fe97c745005113a28c',\n",
      "                        'password': 'electra',\n",
      "                        'salt': 'GGfOf9Kn',\n",
      "                        'sha1': '72b747b26d7f9cc5745d46f51abec2a4d08f9dbc',\n",
      "                        'sha256': '36b7e8f65331912b8ac7c0ab03ab1e086f3e303d90867ca303ed9ba83e1e5a5c',\n",
      "                        'username': 'greenzebra860',\n",
      "                        'uuid': '17e7916f-e7c5-40cc-a33a-35d5ac83d089'},\n",
      "              'name': {'first': 'max', 'last': 'ryan', 'title': 'mr'},\n",
      "              'nat': 'US',\n",
      "              'phone': '(209)-107-3854',\n",
      "              'picture': {'large': 'https://randomuser.me/api/portraits/men/84.jpg',\n",
      "                          'medium': 'https://randomuser.me/api/portraits/med/men/84.jpg',\n",
      "                          'thumbnail': 'https://randomuser.me/api/portraits/thumb/men/84.jpg'},\n",
      "              'registered': {'age': 14, 'date': '2004-08-08T23:29:17Z'}},\n",
      "             {'cell': '(638)-587-5909',\n",
      "              'dob': {'age': 43, 'date': '1976-04-10T23:58:58Z'},\n",
      "              'email': 'lewis.diaz@example.com',\n",
      "              'gender': 'male',\n",
      "              'id': {'name': 'SSN', 'value': '088-14-4649'},\n",
      "              'location': {'city': 'honolulu',\n",
      "                           'coordinates': {'latitude': '-77.1747',\n",
      "                                           'longitude': '160.5711'},\n",
      "                           'postcode': 55490,\n",
      "                           'state': 'idaho',\n",
      "                           'street': '2729 brown terrace',\n",
      "                           'timezone': {'description': 'Alaska',\n",
      "                                        'offset': '-9:00'}},\n",
      "              'login': {'md5': 'fc1cf2d12c497b8af1f87e14e773e0e6',\n",
      "                        'password': 'huskies',\n",
      "                        'salt': 'dwcMGrnE',\n",
      "                        'sha1': '01d2b49506338be301a42b8a58274a53b7b93609',\n",
      "                        'sha256': '0ae2b7bc5473680044469470f8bf67214362ade32ffcb9a73f8395b68accd2e4',\n",
      "                        'username': 'silverladybug819',\n",
      "                        'uuid': 'a9c8b6b2-b08c-42c8-b919-2f3e0a1602e7'},\n",
      "              'name': {'first': 'lewis', 'last': 'diaz', 'title': 'mr'},\n",
      "              'nat': 'US',\n",
      "              'phone': '(639)-721-7609',\n",
      "              'picture': {'large': 'https://randomuser.me/api/portraits/men/10.jpg',\n",
      "                          'medium': 'https://randomuser.me/api/portraits/med/men/10.jpg',\n",
      "                          'thumbnail': 'https://randomuser.me/api/portraits/thumb/men/10.jpg'},\n",
      "              'registered': {'age': 1, 'date': '2017-11-04T08:55:58Z'}},\n",
      "             {'cell': '(451)-762-5626',\n",
      "              'dob': {'age': 43, 'date': '1975-07-15T07:16:50Z'},\n",
      "              'email': 'jonathan.evans@example.com',\n",
      "              'gender': 'male',\n",
      "              'id': {'name': 'SSN', 'value': '712-67-9103'},\n",
      "              'location': {'city': 'dumas',\n",
      "                           'coordinates': {'latitude': '-23.1284',\n",
      "                                           'longitude': '-56.1943'},\n",
      "                           'postcode': 70523,\n",
      "                           'state': 'ohio',\n",
      "                           'street': '6202 washington ave',\n",
      "                           'timezone': {'description': 'Azores, Cape Verde '\n",
      "                                                       'Islands',\n",
      "                                        'offset': '-1:00'}},\n",
      "              'login': {'md5': 'c1ac5de8c2aa227e4fdf2c48a606f01e',\n",
      "                        'password': 'jiong',\n",
      "                        'salt': 'sa5PYA9g',\n",
      "                        'sha1': 'e590efa2599e649f1b7de71a22d09d150aabfd70',\n",
      "                        'sha256': '46677fc0f81b085a12e0e5fbc2bbd4d36e9727cc8e2e43bd23d7402c5a2d83a1',\n",
      "                        'username': 'purpleostrich481',\n",
      "                        'uuid': 'b6a956e3-2015-4719-a18f-f942ed0ef157'},\n",
      "              'name': {'first': 'jonathan', 'last': 'evans', 'title': 'mr'},\n",
      "              'nat': 'US',\n",
      "              'phone': '(530)-916-1409',\n",
      "              'picture': {'large': 'https://randomuser.me/api/portraits/men/9.jpg',\n",
      "                          'medium': 'https://randomuser.me/api/portraits/med/men/9.jpg',\n",
      "                          'thumbnail': 'https://randomuser.me/api/portraits/thumb/men/9.jpg'},\n",
      "              'registered': {'age': 1, 'date': '2017-07-31T05:17:08Z'}}]}\n"
     ]
    }
   ],
   "source": [
    "from pprint import pprint\n",
    "pprint(data)"
   ]
  },
  {
   "cell_type": "markdown",
   "metadata": {},
   "source": [
    "* Loop through the dictionary and print all first names"
   ]
  },
  {
   "cell_type": "code",
   "execution_count": 12,
   "metadata": {},
   "outputs": [
    {
     "data": {
      "text/plain": [
       "['carl',\n",
       " 'levi',\n",
       " 'eduardo',\n",
       " 'maurice',\n",
       " 'adam',\n",
       " 'marvin',\n",
       " 'landon',\n",
       " 'max',\n",
       " 'lewis',\n",
       " 'jonathan']"
      ]
     },
     "execution_count": 12,
     "metadata": {},
     "output_type": "execute_result"
    }
   ],
   "source": [
    "# TODO\n",
    "[r['name']['first'] for r in data['results']] "
   ]
  },
  {
   "cell_type": "markdown",
   "metadata": {},
   "source": [
    "* Get all astronauts who are right now in space. You get the information about the Web APU from here  http://open-notify.org/Open-Notify-API/People-In-Space/ "
   ]
  },
  {
   "cell_type": "code",
   "execution_count": 13,
   "metadata": {},
   "outputs": [
    {
     "name": "stdout",
     "output_type": "stream",
     "text": [
      "{\"message\": \"success\", \"number\": 6, \"people\": [{\"craft\": \"ISS\", \"name\": \"Oleg Kononenko\"}, {\"craft\": \"ISS\", \"name\": \"David Saint-Jacques\"}, {\"craft\": \"ISS\", \"name\": \"Anne McClain\"}, {\"craft\": \"ISS\", \"name\": \"Alexey Ovchinin\"}, {\"craft\": \"ISS\", \"name\": \"Nick Hague\"}, {\"craft\": \"ISS\", \"name\": \"Christina Koch\"}]}\n"
     ]
    }
   ],
   "source": [
    "!curl -s http://api.open-notify.org/astros.json"
   ]
  },
  {
   "cell_type": "code",
   "execution_count": 14,
   "metadata": {},
   "outputs": [
    {
     "name": "stdout",
     "output_type": "stream",
     "text": [
      "{'message': 'success',\n",
      " 'number': 6,\n",
      " 'people': [{'craft': 'ISS', 'name': 'Oleg Kononenko'},\n",
      "            {'craft': 'ISS', 'name': 'David Saint-Jacques'},\n",
      "            {'craft': 'ISS', 'name': 'Anne McClain'},\n",
      "            {'craft': 'ISS', 'name': 'Alexey Ovchinin'},\n",
      "            {'craft': 'ISS', 'name': 'Nick Hague'},\n",
      "            {'craft': 'ISS', 'name': 'Christina Koch'}]}\n"
     ]
    }
   ],
   "source": [
    "# TODO\n",
    "response = requests.get('http://api.open-notify.org/astros.json')\n",
    "data = json.loads(response.text)\n",
    "pprint(data)"
   ]
  },
  {
   "cell_type": "markdown",
   "metadata": {},
   "source": [
    "* Print the number of people that are right now in space"
   ]
  },
  {
   "cell_type": "code",
   "execution_count": 15,
   "metadata": {},
   "outputs": [
    {
     "name": "stdout",
     "output_type": "stream",
     "text": [
      "6\n"
     ]
    }
   ],
   "source": [
    "# Number of people right now in space\n",
    "print(data['number'])"
   ]
  },
  {
   "cell_type": "markdown",
   "metadata": {},
   "source": [
    "* Print the names of all astronauts "
   ]
  },
  {
   "cell_type": "code",
   "execution_count": 16,
   "metadata": {},
   "outputs": [
    {
     "name": "stdout",
     "output_type": "stream",
     "text": [
      "['Oleg Kononenko', 'David Saint-Jacques', 'Anne McClain', 'Alexey Ovchinin', 'Nick Hague', 'Christina Koch']\n"
     ]
    }
   ],
   "source": [
    "# TODO\n",
    "names = [r['name'] for r in data['people']]\n",
    "print(names)"
   ]
  },
  {
   "cell_type": "markdown",
   "metadata": {},
   "source": [
    "* A lot of Web APIs require a api-key for interacting with them (like Twitter, Facebook, …). You find at http://www.python-requests.org/en/latest/user/authentication/ more information for Authentication for Web APIs with the request package\n",
    "* There are also special Python packages for interacting with services. E.g. for Twitter: http://www.tweepy.org/ or  https://github.com/bear/python-twitter \n",
    "\n",
    "See e.g. http://socialmedia-class.org/twittertutorial.html for a tutorial"
   ]
  },
  {
   "cell_type": "markdown",
   "metadata": {},
   "source": [
    "## 2. Creating a Web API\n",
    "\n",
    "* Create a folder `webapi` and change into it.\n",
    "* Create in the `webapi` folder a file with the name `Dockerfile` with the following content:\n",
    "\n",
    "----\n",
    "```bash\n",
    "# Use an official Python runtime as a parent image\n",
    "FROM python:3.7-slim\n",
    "\n",
    "# Set the working directory to /app\n",
    "WORKDIR /app\n",
    "\n",
    "# Copy the current directory contents into the container at /app\n",
    "COPY app/ /app\n",
    "\n",
    "# Install any needed packages specified in requirements.txt\n",
    "RUN pip install --trusted-host pypi.python.org -r requirements.txt\n",
    "\n",
    "# Make port 80 available to the world outside this container\n",
    "EXPOSE 80\n",
    "\n",
    "# Run app.py when the container launches\n",
    "CMD [\"python\", \"app.py\"]\n",
    "```\n",
    "\n",
    "-----\n",
    "\n",
    "* We can also use Docker compose with just one service. Create in your `webapi` folder a `docker-compose.yml` file:\n",
    "\n",
    "-----\n",
    "\n",
    "```yaml\n",
    "version: '3'\n",
    "services:\n",
    "  api:\n",
    "    build: .\n",
    "    ports:\n",
    "      - \"5000:80\"\n",
    "    restart: always\n",
    "    volumes:\n",
    "      - ./app:/app\n",
    "```\n",
    "-----\n",
    "\n",
    "* Create a folder in the `webapi` folder a new folder with the name `app`\n",
    "* We will build a web API with `Flask` (http://flask.pocoo.org/) . Create a `requirements.txt` file in the `app` folder. Here we can specify all python `pip` packages that we need:\n",
    "\n",
    "-----\n",
    "```bash\n",
    "Flask\n",
    "```\n",
    "-----\n",
    "\n",
    "* Create the `app.py` file in the `app` folder:\n",
    "\n",
    "-----\n",
    "```python\n",
    "from flask import Flask\n",
    "from flask import request, jsonify\n",
    "\n",
    "app = Flask(__name__)\n",
    "\n",
    "courses = [\n",
    "    {'id': 0,\n",
    "     'title': 'Data Science',\n",
    "     'professor': 'Markus Löcher',\n",
    "     'semester': '1'},\n",
    "    {'id': 1,\n",
    "     'title': 'Data Warehousing',\n",
    "     'professor': 'Roland M. Mueller',\n",
    "     'semester': '1'},\n",
    "    {'id': 2,\n",
    "     'title': 'Business Process Management',\n",
    "     'professor': 'Frank Habermann',\n",
    "     'semester': '1'},\n",
    "    {'id': 3,\n",
    "     'title': 'Stratigic Issues of IT',\n",
    "     'professor': 'Sven Pohland',\n",
    "     'semester': '1'},\n",
    "    {'id': 4,\n",
    "     'title': 'Text, Web and Social Media Analytics Lab',\n",
    "     'professor': 'Markus Löcher',\n",
    "     'semester': '2'},\n",
    "    {'id': 5,\n",
    "     'title': 'Enterprise Architectures for Big Data',\n",
    "     'professor': 'Roland M. Mueller',\n",
    "     'semester': '2'},\n",
    "    {'id': 6,\n",
    "     'title': 'Business Process Integration Lab',\n",
    "     'professor': 'Frank Habermann',\n",
    "     'semester': '2'},\n",
    "    {'id': 7,\n",
    "     'title': 'IT-Security and Privacy',\n",
    "     'professor': 'Dennis Uckel',\n",
    "     'semester': '2'},\n",
    "    {'id': 8,\n",
    "     'title': 'Research Methods',\n",
    "     'professor': 'Marcus Birkenkrahe',\n",
    "     'semester': '2'},\n",
    "]\n",
    "\n",
    "@app.route('/api/v1/courses/all', methods=['GET'])\n",
    "def api_all():\n",
    "    return jsonify(courses)\n",
    "\n",
    "@app.route('/api/v1/courses', methods=['GET'])\n",
    "def api_id():\n",
    "    # Check if an ID was provided as part of the URL.\n",
    "    # If ID is provided, assign it to a variable.\n",
    "    # If no ID is provided, display an error in the browser.\n",
    "    if 'id' in request.args:\n",
    "        id = int(request.args['id'])\n",
    "    else:\n",
    "        return \"Error: No id field provided. Please specify an id.\"\n",
    "\n",
    "    # Create an empty list for our results\n",
    "    results = []\n",
    "\n",
    "    # Loop through the data and match results that fit the requested ID.\n",
    "    # IDs are unique, but other fields might return many results\n",
    "    for course in courses:\n",
    "        if course['id'] == id:\n",
    "            results.append(course)\n",
    "\n",
    "    # Use the jsonify function from Flask to convert our list of\n",
    "    # Python dictionaries to the JSON format.\n",
    "    return jsonify(results)\n",
    "\n",
    "if __name__ == \"__main__\":\n",
    "    app.run(host=\"0.0.0.0\", port=80, debug=True)\n",
    "```\n",
    "-----\n",
    "* Open http://localhost:5000/api/v1/courses/all in a browser\n",
    "* Open http://localhost:5000/api/v1/courses?id=5 in a browser\n"
   ]
  },
  {
   "cell_type": "markdown",
   "metadata": {
    "collapsed": true
   },
   "source": [
    "* Use your own API here in the Jupyter Notebook with Python and print all names of all courses "
   ]
  },
  {
   "cell_type": "code",
   "execution_count": 17,
   "metadata": {},
   "outputs": [
    {
     "name": "stdout",
     "output_type": "stream",
     "text": [
      "200\n"
     ]
    }
   ],
   "source": [
    "# \n",
    "response = requests.get('http://192.168.99.100:5000/api/v1/courses/all')\n",
    "print(response.status_code)"
   ]
  },
  {
   "cell_type": "code",
   "execution_count": 18,
   "metadata": {},
   "outputs": [
    {
     "name": "stdout",
     "output_type": "stream",
     "text": [
      "[{'id': 0,\n",
      "  'professor': 'Markus Löcher',\n",
      "  'semester': '1',\n",
      "  'title': 'Data Science'},\n",
      " {'id': 1,\n",
      "  'professor': 'Roland M. Mueller',\n",
      "  'semester': '1',\n",
      "  'title': 'Data Warehousing'},\n",
      " {'id': 2,\n",
      "  'professor': 'Frank Habermann',\n",
      "  'semester': '1',\n",
      "  'title': 'Business Process Management'},\n",
      " {'id': 3,\n",
      "  'professor': 'Sven Pohland',\n",
      "  'semester': '1',\n",
      "  'title': 'Stratigic Issues of IT'},\n",
      " {'id': 4,\n",
      "  'professor': 'Markus Löcher',\n",
      "  'semester': '2',\n",
      "  'title': 'Text, Web and Social Media Analytics Lab'},\n",
      " {'id': 5,\n",
      "  'professor': 'Roland M. Mueller',\n",
      "  'semester': '2',\n",
      "  'title': 'Enterprise Architectures for Big Data'},\n",
      " {'id': 6,\n",
      "  'professor': 'Frank Habermann',\n",
      "  'semester': '2',\n",
      "  'title': 'Business Process Integration Lab'},\n",
      " {'id': 7,\n",
      "  'professor': 'Dennis Uckel',\n",
      "  'semester': '2',\n",
      "  'title': 'IT-Security and Privacy'},\n",
      " {'id': 8,\n",
      "  'professor': 'Marcus Birkenkrahe',\n",
      "  'semester': '2',\n",
      "  'title': 'Research Methods'}]\n"
     ]
    }
   ],
   "source": [
    "# TODO\n",
    "data = json.loads(response.text)\n",
    "pprint(data)"
   ]
  },
  {
   "cell_type": "markdown",
   "metadata": {},
   "source": [
    "* Add the possibility to find courses based on the semester\n",
    "* Use your API in Python and print all names of all courses in the second semester"
   ]
  },
  {
   "cell_type": "code",
   "execution_count": 29,
   "metadata": {},
   "outputs": [
    {
     "name": "stdout",
     "output_type": "stream",
     "text": [
      "200\n"
     ]
    }
   ],
   "source": [
    "# TODO\n",
    "parameter = {'semester':'2'}\n",
    "response_2 = requests.get('http://192.168.99.100:5000/api/v1/courses', params=parameter)\n",
    "print(response_2.status_code)"
   ]
  },
  {
   "cell_type": "code",
   "execution_count": 30,
   "metadata": {},
   "outputs": [
    {
     "data": {
      "text/plain": [
       "'[{\"id\":4,\"professor\":\"Markus L\\\\u00f6cher\",\"semester\":\"2\",\"title\":\"Text, Web and Social Media Analytics Lab\"},{\"id\":5,\"professor\":\"Roland M. Mueller\",\"semester\":\"2\",\"title\":\"Enterprise Architectures for Big Data\"},{\"id\":6,\"professor\":\"Frank Habermann\",\"semester\":\"2\",\"title\":\"Business Process Integration Lab\"},{\"id\":7,\"professor\":\"Dennis Uckel\",\"semester\":\"2\",\"title\":\"IT-Security and Privacy\"},{\"id\":8,\"professor\":\"Marcus Birkenkrahe\",\"semester\":\"2\",\"title\":\"Research Methods\"}]\\n'"
      ]
     },
     "execution_count": 30,
     "metadata": {},
     "output_type": "execute_result"
    }
   ],
   "source": [
    "response_2.text"
   ]
  },
  {
   "cell_type": "code",
   "execution_count": 31,
   "metadata": {},
   "outputs": [
    {
     "name": "stdout",
     "output_type": "stream",
     "text": [
      "[{'id': 4,\n",
      "  'professor': 'Markus Löcher',\n",
      "  'semester': '2',\n",
      "  'title': 'Text, Web and Social Media Analytics Lab'},\n",
      " {'id': 5,\n",
      "  'professor': 'Roland M. Mueller',\n",
      "  'semester': '2',\n",
      "  'title': 'Enterprise Architectures for Big Data'},\n",
      " {'id': 6,\n",
      "  'professor': 'Frank Habermann',\n",
      "  'semester': '2',\n",
      "  'title': 'Business Process Integration Lab'},\n",
      " {'id': 7,\n",
      "  'professor': 'Dennis Uckel',\n",
      "  'semester': '2',\n",
      "  'title': 'IT-Security and Privacy'},\n",
      " {'id': 8,\n",
      "  'professor': 'Marcus Birkenkrahe',\n",
      "  'semester': '2',\n",
      "  'title': 'Research Methods'}]\n"
     ]
    }
   ],
   "source": [
    "# TODO\n",
    "data = json.loads(response_2.text)\n",
    "pprint(data)"
   ]
  }
 ],
 "metadata": {
  "kernelspec": {
   "display_name": "Python 3",
   "language": "python",
   "name": "python3"
  },
  "language_info": {
   "codemirror_mode": {
    "name": "ipython",
    "version": 3
   },
   "file_extension": ".py",
   "mimetype": "text/x-python",
   "name": "python",
   "nbconvert_exporter": "python",
   "pygments_lexer": "ipython3",
   "version": "3.7.0"
  },
  "varInspector": {
   "cols": {
    "lenName": 16,
    "lenType": 16,
    "lenVar": 40
   },
   "kernels_config": {
    "python": {
     "delete_cmd_postfix": "",
     "delete_cmd_prefix": "del ",
     "library": "var_list.py",
     "varRefreshCmd": "print(var_dic_list())"
    },
    "r": {
     "delete_cmd_postfix": ") ",
     "delete_cmd_prefix": "rm(",
     "library": "var_list.r",
     "varRefreshCmd": "cat(var_dic_list()) "
    }
   },
   "types_to_exclude": [
    "module",
    "function",
    "builtin_function_or_method",
    "instance",
    "_Feature"
   ],
   "window_display": false
  }
 },
 "nbformat": 4,
 "nbformat_minor": 2
}
